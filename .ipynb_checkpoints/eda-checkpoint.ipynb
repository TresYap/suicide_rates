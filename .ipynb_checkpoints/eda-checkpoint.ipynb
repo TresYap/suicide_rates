{
 "cells": [
  {
   "cell_type": "code",
   "execution_count": 1,
   "metadata": {},
   "outputs": [],
   "source": [
    "import pandas as pd\n",
    "import numpy as np\n",
    "import seaborn as sns\n",
    "import plotly.express as px"
   ]
  },
  {
   "cell_type": "code",
   "execution_count": 3,
   "metadata": {},
   "outputs": [],
   "source": [
    "data = pd.read_csv(\"suicide_rates_1985_2016.csv\")"
   ]
  },
  {
   "cell_type": "code",
   "execution_count": 4,
   "metadata": {},
   "outputs": [
    {
     "data": {
      "text/html": [
       "<div>\n",
       "<style scoped>\n",
       "    .dataframe tbody tr th:only-of-type {\n",
       "        vertical-align: middle;\n",
       "    }\n",
       "\n",
       "    .dataframe tbody tr th {\n",
       "        vertical-align: top;\n",
       "    }\n",
       "\n",
       "    .dataframe thead th {\n",
       "        text-align: right;\n",
       "    }\n",
       "</style>\n",
       "<table border=\"1\" class=\"dataframe\">\n",
       "  <thead>\n",
       "    <tr style=\"text-align: right;\">\n",
       "      <th></th>\n",
       "      <th>country</th>\n",
       "      <th>year</th>\n",
       "      <th>sex</th>\n",
       "      <th>age</th>\n",
       "      <th>suicides_no</th>\n",
       "      <th>population</th>\n",
       "      <th>suicides/100k pop</th>\n",
       "      <th>country-year</th>\n",
       "      <th>HDI for year</th>\n",
       "      <th>gdp_for_year ($)</th>\n",
       "      <th>gdp_per_capita ($)</th>\n",
       "      <th>generation</th>\n",
       "    </tr>\n",
       "  </thead>\n",
       "  <tbody>\n",
       "    <tr>\n",
       "      <td>0</td>\n",
       "      <td>Albania</td>\n",
       "      <td>1987</td>\n",
       "      <td>male</td>\n",
       "      <td>15-24 years</td>\n",
       "      <td>21</td>\n",
       "      <td>312900</td>\n",
       "      <td>6.71</td>\n",
       "      <td>Albania1987</td>\n",
       "      <td>NaN</td>\n",
       "      <td>2,156,624,900</td>\n",
       "      <td>796</td>\n",
       "      <td>Generation X</td>\n",
       "    </tr>\n",
       "    <tr>\n",
       "      <td>1</td>\n",
       "      <td>Albania</td>\n",
       "      <td>1987</td>\n",
       "      <td>male</td>\n",
       "      <td>35-54 years</td>\n",
       "      <td>16</td>\n",
       "      <td>308000</td>\n",
       "      <td>5.19</td>\n",
       "      <td>Albania1987</td>\n",
       "      <td>NaN</td>\n",
       "      <td>2,156,624,900</td>\n",
       "      <td>796</td>\n",
       "      <td>Silent</td>\n",
       "    </tr>\n",
       "    <tr>\n",
       "      <td>2</td>\n",
       "      <td>Albania</td>\n",
       "      <td>1987</td>\n",
       "      <td>female</td>\n",
       "      <td>15-24 years</td>\n",
       "      <td>14</td>\n",
       "      <td>289700</td>\n",
       "      <td>4.83</td>\n",
       "      <td>Albania1987</td>\n",
       "      <td>NaN</td>\n",
       "      <td>2,156,624,900</td>\n",
       "      <td>796</td>\n",
       "      <td>Generation X</td>\n",
       "    </tr>\n",
       "    <tr>\n",
       "      <td>3</td>\n",
       "      <td>Albania</td>\n",
       "      <td>1987</td>\n",
       "      <td>male</td>\n",
       "      <td>75+ years</td>\n",
       "      <td>1</td>\n",
       "      <td>21800</td>\n",
       "      <td>4.59</td>\n",
       "      <td>Albania1987</td>\n",
       "      <td>NaN</td>\n",
       "      <td>2,156,624,900</td>\n",
       "      <td>796</td>\n",
       "      <td>G.I. Generation</td>\n",
       "    </tr>\n",
       "    <tr>\n",
       "      <td>4</td>\n",
       "      <td>Albania</td>\n",
       "      <td>1987</td>\n",
       "      <td>male</td>\n",
       "      <td>25-34 years</td>\n",
       "      <td>9</td>\n",
       "      <td>274300</td>\n",
       "      <td>3.28</td>\n",
       "      <td>Albania1987</td>\n",
       "      <td>NaN</td>\n",
       "      <td>2,156,624,900</td>\n",
       "      <td>796</td>\n",
       "      <td>Boomers</td>\n",
       "    </tr>\n",
       "    <tr>\n",
       "      <td>...</td>\n",
       "      <td>...</td>\n",
       "      <td>...</td>\n",
       "      <td>...</td>\n",
       "      <td>...</td>\n",
       "      <td>...</td>\n",
       "      <td>...</td>\n",
       "      <td>...</td>\n",
       "      <td>...</td>\n",
       "      <td>...</td>\n",
       "      <td>...</td>\n",
       "      <td>...</td>\n",
       "      <td>...</td>\n",
       "    </tr>\n",
       "    <tr>\n",
       "      <td>27815</td>\n",
       "      <td>Uzbekistan</td>\n",
       "      <td>2014</td>\n",
       "      <td>female</td>\n",
       "      <td>35-54 years</td>\n",
       "      <td>107</td>\n",
       "      <td>3620833</td>\n",
       "      <td>2.96</td>\n",
       "      <td>Uzbekistan2014</td>\n",
       "      <td>0.675</td>\n",
       "      <td>63,067,077,179</td>\n",
       "      <td>2309</td>\n",
       "      <td>Generation X</td>\n",
       "    </tr>\n",
       "    <tr>\n",
       "      <td>27816</td>\n",
       "      <td>Uzbekistan</td>\n",
       "      <td>2014</td>\n",
       "      <td>female</td>\n",
       "      <td>75+ years</td>\n",
       "      <td>9</td>\n",
       "      <td>348465</td>\n",
       "      <td>2.58</td>\n",
       "      <td>Uzbekistan2014</td>\n",
       "      <td>0.675</td>\n",
       "      <td>63,067,077,179</td>\n",
       "      <td>2309</td>\n",
       "      <td>Silent</td>\n",
       "    </tr>\n",
       "    <tr>\n",
       "      <td>27817</td>\n",
       "      <td>Uzbekistan</td>\n",
       "      <td>2014</td>\n",
       "      <td>male</td>\n",
       "      <td>5-14 years</td>\n",
       "      <td>60</td>\n",
       "      <td>2762158</td>\n",
       "      <td>2.17</td>\n",
       "      <td>Uzbekistan2014</td>\n",
       "      <td>0.675</td>\n",
       "      <td>63,067,077,179</td>\n",
       "      <td>2309</td>\n",
       "      <td>Generation Z</td>\n",
       "    </tr>\n",
       "    <tr>\n",
       "      <td>27818</td>\n",
       "      <td>Uzbekistan</td>\n",
       "      <td>2014</td>\n",
       "      <td>female</td>\n",
       "      <td>5-14 years</td>\n",
       "      <td>44</td>\n",
       "      <td>2631600</td>\n",
       "      <td>1.67</td>\n",
       "      <td>Uzbekistan2014</td>\n",
       "      <td>0.675</td>\n",
       "      <td>63,067,077,179</td>\n",
       "      <td>2309</td>\n",
       "      <td>Generation Z</td>\n",
       "    </tr>\n",
       "    <tr>\n",
       "      <td>27819</td>\n",
       "      <td>Uzbekistan</td>\n",
       "      <td>2014</td>\n",
       "      <td>female</td>\n",
       "      <td>55-74 years</td>\n",
       "      <td>21</td>\n",
       "      <td>1438935</td>\n",
       "      <td>1.46</td>\n",
       "      <td>Uzbekistan2014</td>\n",
       "      <td>0.675</td>\n",
       "      <td>63,067,077,179</td>\n",
       "      <td>2309</td>\n",
       "      <td>Boomers</td>\n",
       "    </tr>\n",
       "  </tbody>\n",
       "</table>\n",
       "<p>27820 rows × 12 columns</p>\n",
       "</div>"
      ],
      "text/plain": [
       "          country  year     sex          age  suicides_no  population  \\\n",
       "0         Albania  1987    male  15-24 years           21      312900   \n",
       "1         Albania  1987    male  35-54 years           16      308000   \n",
       "2         Albania  1987  female  15-24 years           14      289700   \n",
       "3         Albania  1987    male    75+ years            1       21800   \n",
       "4         Albania  1987    male  25-34 years            9      274300   \n",
       "...           ...   ...     ...          ...          ...         ...   \n",
       "27815  Uzbekistan  2014  female  35-54 years          107     3620833   \n",
       "27816  Uzbekistan  2014  female    75+ years            9      348465   \n",
       "27817  Uzbekistan  2014    male   5-14 years           60     2762158   \n",
       "27818  Uzbekistan  2014  female   5-14 years           44     2631600   \n",
       "27819  Uzbekistan  2014  female  55-74 years           21     1438935   \n",
       "\n",
       "       suicides/100k pop    country-year  HDI for year  gdp_for_year ($)   \\\n",
       "0                   6.71     Albania1987           NaN      2,156,624,900   \n",
       "1                   5.19     Albania1987           NaN      2,156,624,900   \n",
       "2                   4.83     Albania1987           NaN      2,156,624,900   \n",
       "3                   4.59     Albania1987           NaN      2,156,624,900   \n",
       "4                   3.28     Albania1987           NaN      2,156,624,900   \n",
       "...                  ...             ...           ...                ...   \n",
       "27815               2.96  Uzbekistan2014         0.675     63,067,077,179   \n",
       "27816               2.58  Uzbekistan2014         0.675     63,067,077,179   \n",
       "27817               2.17  Uzbekistan2014         0.675     63,067,077,179   \n",
       "27818               1.67  Uzbekistan2014         0.675     63,067,077,179   \n",
       "27819               1.46  Uzbekistan2014         0.675     63,067,077,179   \n",
       "\n",
       "       gdp_per_capita ($)       generation  \n",
       "0                     796     Generation X  \n",
       "1                     796           Silent  \n",
       "2                     796     Generation X  \n",
       "3                     796  G.I. Generation  \n",
       "4                     796          Boomers  \n",
       "...                   ...              ...  \n",
       "27815                2309     Generation X  \n",
       "27816                2309           Silent  \n",
       "27817                2309     Generation Z  \n",
       "27818                2309     Generation Z  \n",
       "27819                2309          Boomers  \n",
       "\n",
       "[27820 rows x 12 columns]"
      ]
     },
     "execution_count": 4,
     "metadata": {},
     "output_type": "execute_result"
    }
   ],
   "source": [
    "data"
   ]
  },
  {
   "cell_type": "code",
   "execution_count": 6,
   "metadata": {},
   "outputs": [
    {
     "data": {
      "text/plain": [
       "array(['Albania', 'Antigua and Barbuda', 'Argentina', 'Armenia', 'Aruba',\n",
       "       'Australia', 'Austria', 'Azerbaijan', 'Bahamas', 'Bahrain',\n",
       "       'Barbados', 'Belarus', 'Belgium', 'Belize',\n",
       "       'Bosnia and Herzegovina', 'Brazil', 'Bulgaria', 'Cabo Verde',\n",
       "       'Canada', 'Chile', 'Colombia', 'Costa Rica', 'Croatia', 'Cuba',\n",
       "       'Cyprus', 'Czech Republic', 'Denmark', 'Dominica', 'Ecuador',\n",
       "       'El Salvador', 'Estonia', 'Fiji', 'Finland', 'France', 'Georgia',\n",
       "       'Germany', 'Greece', 'Grenada', 'Guatemala', 'Guyana', 'Hungary',\n",
       "       'Iceland', 'Ireland', 'Israel', 'Italy', 'Jamaica', 'Japan',\n",
       "       'Kazakhstan', 'Kiribati', 'Kuwait', 'Kyrgyzstan', 'Latvia',\n",
       "       'Lithuania', 'Luxembourg', 'Macau', 'Maldives', 'Malta',\n",
       "       'Mauritius', 'Mexico', 'Mongolia', 'Montenegro', 'Netherlands',\n",
       "       'New Zealand', 'Nicaragua', 'Norway', 'Oman', 'Panama', 'Paraguay',\n",
       "       'Philippines', 'Poland', 'Portugal', 'Puerto Rico', 'Qatar',\n",
       "       'Republic of Korea', 'Romania', 'Russian Federation',\n",
       "       'Saint Kitts and Nevis', 'Saint Lucia',\n",
       "       'Saint Vincent and Grenadines', 'San Marino', 'Serbia',\n",
       "       'Seychelles', 'Singapore', 'Slovakia', 'Slovenia', 'South Africa',\n",
       "       'Spain', 'Sri Lanka', 'Suriname', 'Sweden', 'Switzerland',\n",
       "       'Thailand', 'Trinidad and Tobago', 'Turkey', 'Turkmenistan',\n",
       "       'Ukraine', 'United Arab Emirates', 'United Kingdom',\n",
       "       'United States', 'Uruguay', 'Uzbekistan'], dtype=object)"
      ]
     },
     "execution_count": 6,
     "metadata": {},
     "output_type": "execute_result"
    }
   ],
   "source": [
    "data.country.unique()"
   ]
  },
  {
   "cell_type": "code",
   "execution_count": 11,
   "metadata": {},
   "outputs": [
    {
     "data": {
      "text/plain": [
       "count    27820.000000\n",
       "mean      2001.258375\n",
       "std          8.469055\n",
       "min       1985.000000\n",
       "25%       1995.000000\n",
       "50%       2002.000000\n",
       "75%       2008.000000\n",
       "max       2016.000000\n",
       "Name: year, dtype: float64"
      ]
     },
     "execution_count": 11,
     "metadata": {},
     "output_type": "execute_result"
    }
   ],
   "source": [
    "data.year.describe()"
   ]
  },
  {
   "cell_type": "code",
   "execution_count": 9,
   "metadata": {},
   "outputs": [],
   "source": [
    "ph_data = data[data.country == \"Philippines\"]"
   ]
  },
  {
   "cell_type": "code",
   "execution_count": 10,
   "metadata": {},
   "outputs": [
    {
     "data": {
      "text/html": [
       "<div>\n",
       "<style scoped>\n",
       "    .dataframe tbody tr th:only-of-type {\n",
       "        vertical-align: middle;\n",
       "    }\n",
       "\n",
       "    .dataframe tbody tr th {\n",
       "        vertical-align: top;\n",
       "    }\n",
       "\n",
       "    .dataframe thead th {\n",
       "        text-align: right;\n",
       "    }\n",
       "</style>\n",
       "<table border=\"1\" class=\"dataframe\">\n",
       "  <thead>\n",
       "    <tr style=\"text-align: right;\">\n",
       "      <th></th>\n",
       "      <th>country</th>\n",
       "      <th>year</th>\n",
       "      <th>sex</th>\n",
       "      <th>age</th>\n",
       "      <th>suicides_no</th>\n",
       "      <th>population</th>\n",
       "      <th>suicides/100k pop</th>\n",
       "      <th>country-year</th>\n",
       "      <th>HDI for year</th>\n",
       "      <th>gdp_for_year ($)</th>\n",
       "      <th>gdp_per_capita ($)</th>\n",
       "      <th>generation</th>\n",
       "    </tr>\n",
       "  </thead>\n",
       "  <tbody>\n",
       "    <tr>\n",
       "      <td>18888</td>\n",
       "      <td>Philippines</td>\n",
       "      <td>1992</td>\n",
       "      <td>male</td>\n",
       "      <td>75+ years</td>\n",
       "      <td>6</td>\n",
       "      <td>265186</td>\n",
       "      <td>2.26</td>\n",
       "      <td>Philippines1992</td>\n",
       "      <td>NaN</td>\n",
       "      <td>52,976,344,929</td>\n",
       "      <td>958</td>\n",
       "      <td>G.I. Generation</td>\n",
       "    </tr>\n",
       "    <tr>\n",
       "      <td>18889</td>\n",
       "      <td>Philippines</td>\n",
       "      <td>1992</td>\n",
       "      <td>male</td>\n",
       "      <td>55-74 years</td>\n",
       "      <td>26</td>\n",
       "      <td>1817237</td>\n",
       "      <td>1.43</td>\n",
       "      <td>Philippines1992</td>\n",
       "      <td>NaN</td>\n",
       "      <td>52,976,344,929</td>\n",
       "      <td>958</td>\n",
       "      <td>Silent</td>\n",
       "    </tr>\n",
       "    <tr>\n",
       "      <td>18890</td>\n",
       "      <td>Philippines</td>\n",
       "      <td>1992</td>\n",
       "      <td>male</td>\n",
       "      <td>25-34 years</td>\n",
       "      <td>66</td>\n",
       "      <td>5080108</td>\n",
       "      <td>1.30</td>\n",
       "      <td>Philippines1992</td>\n",
       "      <td>NaN</td>\n",
       "      <td>52,976,344,929</td>\n",
       "      <td>958</td>\n",
       "      <td>Boomers</td>\n",
       "    </tr>\n",
       "    <tr>\n",
       "      <td>18891</td>\n",
       "      <td>Philippines</td>\n",
       "      <td>1992</td>\n",
       "      <td>male</td>\n",
       "      <td>15-24 years</td>\n",
       "      <td>86</td>\n",
       "      <td>6622107</td>\n",
       "      <td>1.30</td>\n",
       "      <td>Philippines1992</td>\n",
       "      <td>NaN</td>\n",
       "      <td>52,976,344,929</td>\n",
       "      <td>958</td>\n",
       "      <td>Generation X</td>\n",
       "    </tr>\n",
       "    <tr>\n",
       "      <td>18892</td>\n",
       "      <td>Philippines</td>\n",
       "      <td>1992</td>\n",
       "      <td>male</td>\n",
       "      <td>35-54 years</td>\n",
       "      <td>60</td>\n",
       "      <td>5583152</td>\n",
       "      <td>1.07</td>\n",
       "      <td>Philippines1992</td>\n",
       "      <td>NaN</td>\n",
       "      <td>52,976,344,929</td>\n",
       "      <td>958</td>\n",
       "      <td>Boomers</td>\n",
       "    </tr>\n",
       "    <tr>\n",
       "      <td>...</td>\n",
       "      <td>...</td>\n",
       "      <td>...</td>\n",
       "      <td>...</td>\n",
       "      <td>...</td>\n",
       "      <td>...</td>\n",
       "      <td>...</td>\n",
       "      <td>...</td>\n",
       "      <td>...</td>\n",
       "      <td>...</td>\n",
       "      <td>...</td>\n",
       "      <td>...</td>\n",
       "      <td>...</td>\n",
       "    </tr>\n",
       "    <tr>\n",
       "      <td>19063</td>\n",
       "      <td>Philippines</td>\n",
       "      <td>2011</td>\n",
       "      <td>female</td>\n",
       "      <td>25-34 years</td>\n",
       "      <td>120</td>\n",
       "      <td>7181904</td>\n",
       "      <td>1.67</td>\n",
       "      <td>Philippines2011</td>\n",
       "      <td>0.653</td>\n",
       "      <td>224,143,083,707</td>\n",
       "      <td>2662</td>\n",
       "      <td>Millenials</td>\n",
       "    </tr>\n",
       "    <tr>\n",
       "      <td>19064</td>\n",
       "      <td>Philippines</td>\n",
       "      <td>2011</td>\n",
       "      <td>female</td>\n",
       "      <td>35-54 years</td>\n",
       "      <td>147</td>\n",
       "      <td>10216808</td>\n",
       "      <td>1.44</td>\n",
       "      <td>Philippines2011</td>\n",
       "      <td>0.653</td>\n",
       "      <td>224,143,083,707</td>\n",
       "      <td>2662</td>\n",
       "      <td>Generation X</td>\n",
       "    </tr>\n",
       "    <tr>\n",
       "      <td>19065</td>\n",
       "      <td>Philippines</td>\n",
       "      <td>2011</td>\n",
       "      <td>female</td>\n",
       "      <td>55-74 years</td>\n",
       "      <td>39</td>\n",
       "      <td>4336188</td>\n",
       "      <td>0.90</td>\n",
       "      <td>Philippines2011</td>\n",
       "      <td>0.653</td>\n",
       "      <td>224,143,083,707</td>\n",
       "      <td>2662</td>\n",
       "      <td>Boomers</td>\n",
       "    </tr>\n",
       "    <tr>\n",
       "      <td>19066</td>\n",
       "      <td>Philippines</td>\n",
       "      <td>2011</td>\n",
       "      <td>male</td>\n",
       "      <td>5-14 years</td>\n",
       "      <td>44</td>\n",
       "      <td>10788943</td>\n",
       "      <td>0.41</td>\n",
       "      <td>Philippines2011</td>\n",
       "      <td>0.653</td>\n",
       "      <td>224,143,083,707</td>\n",
       "      <td>2662</td>\n",
       "      <td>Generation Z</td>\n",
       "    </tr>\n",
       "    <tr>\n",
       "      <td>19067</td>\n",
       "      <td>Philippines</td>\n",
       "      <td>2011</td>\n",
       "      <td>female</td>\n",
       "      <td>5-14 years</td>\n",
       "      <td>29</td>\n",
       "      <td>10091572</td>\n",
       "      <td>0.29</td>\n",
       "      <td>Philippines2011</td>\n",
       "      <td>0.653</td>\n",
       "      <td>224,143,083,707</td>\n",
       "      <td>2662</td>\n",
       "      <td>Generation Z</td>\n",
       "    </tr>\n",
       "  </tbody>\n",
       "</table>\n",
       "<p>180 rows × 12 columns</p>\n",
       "</div>"
      ],
      "text/plain": [
       "           country  year     sex          age  suicides_no  population  \\\n",
       "18888  Philippines  1992    male    75+ years            6      265186   \n",
       "18889  Philippines  1992    male  55-74 years           26     1817237   \n",
       "18890  Philippines  1992    male  25-34 years           66     5080108   \n",
       "18891  Philippines  1992    male  15-24 years           86     6622107   \n",
       "18892  Philippines  1992    male  35-54 years           60     5583152   \n",
       "...            ...   ...     ...          ...          ...         ...   \n",
       "19063  Philippines  2011  female  25-34 years          120     7181904   \n",
       "19064  Philippines  2011  female  35-54 years          147    10216808   \n",
       "19065  Philippines  2011  female  55-74 years           39     4336188   \n",
       "19066  Philippines  2011    male   5-14 years           44    10788943   \n",
       "19067  Philippines  2011  female   5-14 years           29    10091572   \n",
       "\n",
       "       suicides/100k pop     country-year  HDI for year  gdp_for_year ($)   \\\n",
       "18888               2.26  Philippines1992           NaN     52,976,344,929   \n",
       "18889               1.43  Philippines1992           NaN     52,976,344,929   \n",
       "18890               1.30  Philippines1992           NaN     52,976,344,929   \n",
       "18891               1.30  Philippines1992           NaN     52,976,344,929   \n",
       "18892               1.07  Philippines1992           NaN     52,976,344,929   \n",
       "...                  ...              ...           ...                ...   \n",
       "19063               1.67  Philippines2011         0.653    224,143,083,707   \n",
       "19064               1.44  Philippines2011         0.653    224,143,083,707   \n",
       "19065               0.90  Philippines2011         0.653    224,143,083,707   \n",
       "19066               0.41  Philippines2011         0.653    224,143,083,707   \n",
       "19067               0.29  Philippines2011         0.653    224,143,083,707   \n",
       "\n",
       "       gdp_per_capita ($)       generation  \n",
       "18888                 958  G.I. Generation  \n",
       "18889                 958           Silent  \n",
       "18890                 958          Boomers  \n",
       "18891                 958     Generation X  \n",
       "18892                 958          Boomers  \n",
       "...                   ...              ...  \n",
       "19063                2662       Millenials  \n",
       "19064                2662     Generation X  \n",
       "19065                2662          Boomers  \n",
       "19066                2662     Generation Z  \n",
       "19067                2662     Generation Z  \n",
       "\n",
       "[180 rows x 12 columns]"
      ]
     },
     "execution_count": 10,
     "metadata": {},
     "output_type": "execute_result"
    }
   ],
   "source": [
    "ph_data"
   ]
  },
  {
   "cell_type": "code",
   "execution_count": 25,
   "metadata": {},
   "outputs": [
    {
     "data": {
      "text/html": [
       "<div>\n",
       "<style scoped>\n",
       "    .dataframe tbody tr th:only-of-type {\n",
       "        vertical-align: middle;\n",
       "    }\n",
       "\n",
       "    .dataframe tbody tr th {\n",
       "        vertical-align: top;\n",
       "    }\n",
       "\n",
       "    .dataframe thead th {\n",
       "        text-align: right;\n",
       "    }\n",
       "</style>\n",
       "<table border=\"1\" class=\"dataframe\">\n",
       "  <thead>\n",
       "    <tr style=\"text-align: right;\">\n",
       "      <th></th>\n",
       "      <th>country</th>\n",
       "      <th>year</th>\n",
       "      <th>sex</th>\n",
       "      <th>age</th>\n",
       "      <th>suicides_no</th>\n",
       "      <th>population</th>\n",
       "      <th>suicides/100k pop</th>\n",
       "      <th>country-year</th>\n",
       "      <th>HDI for year</th>\n",
       "      <th>gdp_for_year ($)</th>\n",
       "      <th>gdp_per_capita ($)</th>\n",
       "      <th>generation</th>\n",
       "    </tr>\n",
       "  </thead>\n",
       "  <tbody>\n",
       "    <tr>\n",
       "      <td>18898</td>\n",
       "      <td>Philippines</td>\n",
       "      <td>1992</td>\n",
       "      <td>female</td>\n",
       "      <td>5-14 years</td>\n",
       "      <td>0</td>\n",
       "      <td>8129872</td>\n",
       "      <td>0.00</td>\n",
       "      <td>Philippines1992</td>\n",
       "      <td>NaN</td>\n",
       "      <td>52,976,344,929</td>\n",
       "      <td>958</td>\n",
       "      <td>Millenials</td>\n",
       "    </tr>\n",
       "    <tr>\n",
       "      <td>18899</td>\n",
       "      <td>Philippines</td>\n",
       "      <td>1992</td>\n",
       "      <td>male</td>\n",
       "      <td>5-14 years</td>\n",
       "      <td>0</td>\n",
       "      <td>8483426</td>\n",
       "      <td>0.00</td>\n",
       "      <td>Philippines1992</td>\n",
       "      <td>NaN</td>\n",
       "      <td>52,976,344,929</td>\n",
       "      <td>958</td>\n",
       "      <td>Millenials</td>\n",
       "    </tr>\n",
       "    <tr>\n",
       "      <td>18910</td>\n",
       "      <td>Philippines</td>\n",
       "      <td>1993</td>\n",
       "      <td>female</td>\n",
       "      <td>5-14 years</td>\n",
       "      <td>0</td>\n",
       "      <td>8308799</td>\n",
       "      <td>0.00</td>\n",
       "      <td>Philippines1993</td>\n",
       "      <td>NaN</td>\n",
       "      <td>54,368,083,953</td>\n",
       "      <td>957</td>\n",
       "      <td>Millenials</td>\n",
       "    </tr>\n",
       "    <tr>\n",
       "      <td>18911</td>\n",
       "      <td>Philippines</td>\n",
       "      <td>1993</td>\n",
       "      <td>male</td>\n",
       "      <td>5-14 years</td>\n",
       "      <td>0</td>\n",
       "      <td>8673303</td>\n",
       "      <td>0.00</td>\n",
       "      <td>Philippines1993</td>\n",
       "      <td>NaN</td>\n",
       "      <td>54,368,083,953</td>\n",
       "      <td>957</td>\n",
       "      <td>Millenials</td>\n",
       "    </tr>\n",
       "    <tr>\n",
       "      <td>18922</td>\n",
       "      <td>Philippines</td>\n",
       "      <td>1997</td>\n",
       "      <td>male</td>\n",
       "      <td>5-14 years</td>\n",
       "      <td>10</td>\n",
       "      <td>9402618</td>\n",
       "      <td>0.11</td>\n",
       "      <td>Philippines1997</td>\n",
       "      <td>NaN</td>\n",
       "      <td>82,344,260,571</td>\n",
       "      <td>1312</td>\n",
       "      <td>Millenials</td>\n",
       "    </tr>\n",
       "    <tr>\n",
       "      <td>18923</td>\n",
       "      <td>Philippines</td>\n",
       "      <td>1997</td>\n",
       "      <td>female</td>\n",
       "      <td>5-14 years</td>\n",
       "      <td>6</td>\n",
       "      <td>8991189</td>\n",
       "      <td>0.07</td>\n",
       "      <td>Philippines1997</td>\n",
       "      <td>NaN</td>\n",
       "      <td>82,344,260,571</td>\n",
       "      <td>1312</td>\n",
       "      <td>Millenials</td>\n",
       "    </tr>\n",
       "    <tr>\n",
       "      <td>18934</td>\n",
       "      <td>Philippines</td>\n",
       "      <td>1998</td>\n",
       "      <td>male</td>\n",
       "      <td>5-14 years</td>\n",
       "      <td>16</td>\n",
       "      <td>9564500</td>\n",
       "      <td>0.17</td>\n",
       "      <td>Philippines1998</td>\n",
       "      <td>NaN</td>\n",
       "      <td>72,207,028,767</td>\n",
       "      <td>1124</td>\n",
       "      <td>Millenials</td>\n",
       "    </tr>\n",
       "    <tr>\n",
       "      <td>18935</td>\n",
       "      <td>Philippines</td>\n",
       "      <td>1998</td>\n",
       "      <td>female</td>\n",
       "      <td>5-14 years</td>\n",
       "      <td>10</td>\n",
       "      <td>9141469</td>\n",
       "      <td>0.11</td>\n",
       "      <td>Philippines1998</td>\n",
       "      <td>NaN</td>\n",
       "      <td>72,207,028,767</td>\n",
       "      <td>1124</td>\n",
       "      <td>Millenials</td>\n",
       "    </tr>\n",
       "    <tr>\n",
       "      <td>18946</td>\n",
       "      <td>Philippines</td>\n",
       "      <td>1999</td>\n",
       "      <td>male</td>\n",
       "      <td>5-14 years</td>\n",
       "      <td>14</td>\n",
       "      <td>9713454</td>\n",
       "      <td>0.14</td>\n",
       "      <td>Philippines1999</td>\n",
       "      <td>NaN</td>\n",
       "      <td>82,995,145,792</td>\n",
       "      <td>1262</td>\n",
       "      <td>Millenials</td>\n",
       "    </tr>\n",
       "    <tr>\n",
       "      <td>18947</td>\n",
       "      <td>Philippines</td>\n",
       "      <td>1999</td>\n",
       "      <td>female</td>\n",
       "      <td>5-14 years</td>\n",
       "      <td>7</td>\n",
       "      <td>9281852</td>\n",
       "      <td>0.08</td>\n",
       "      <td>Philippines1999</td>\n",
       "      <td>NaN</td>\n",
       "      <td>82,995,145,792</td>\n",
       "      <td>1262</td>\n",
       "      <td>Millenials</td>\n",
       "    </tr>\n",
       "    <tr>\n",
       "      <td>18958</td>\n",
       "      <td>Philippines</td>\n",
       "      <td>2000</td>\n",
       "      <td>male</td>\n",
       "      <td>5-14 years</td>\n",
       "      <td>18</td>\n",
       "      <td>9850796</td>\n",
       "      <td>0.18</td>\n",
       "      <td>Philippines2000</td>\n",
       "      <td>0.623</td>\n",
       "      <td>81,026,300,311</td>\n",
       "      <td>1205</td>\n",
       "      <td>Millenials</td>\n",
       "    </tr>\n",
       "    <tr>\n",
       "      <td>18959</td>\n",
       "      <td>Philippines</td>\n",
       "      <td>2000</td>\n",
       "      <td>female</td>\n",
       "      <td>5-14 years</td>\n",
       "      <td>14</td>\n",
       "      <td>9414417</td>\n",
       "      <td>0.15</td>\n",
       "      <td>Philippines2000</td>\n",
       "      <td>0.623</td>\n",
       "      <td>81,026,300,311</td>\n",
       "      <td>1205</td>\n",
       "      <td>Millenials</td>\n",
       "    </tr>\n",
       "    <tr>\n",
       "      <td>18963</td>\n",
       "      <td>Philippines</td>\n",
       "      <td>2001</td>\n",
       "      <td>male</td>\n",
       "      <td>15-24 years</td>\n",
       "      <td>310</td>\n",
       "      <td>8018698</td>\n",
       "      <td>3.87</td>\n",
       "      <td>Philippines2001</td>\n",
       "      <td>NaN</td>\n",
       "      <td>76,262,072,468</td>\n",
       "      <td>1109</td>\n",
       "      <td>Millenials</td>\n",
       "    </tr>\n",
       "    <tr>\n",
       "      <td>18965</td>\n",
       "      <td>Philippines</td>\n",
       "      <td>2001</td>\n",
       "      <td>female</td>\n",
       "      <td>15-24 years</td>\n",
       "      <td>104</td>\n",
       "      <td>7738503</td>\n",
       "      <td>1.34</td>\n",
       "      <td>Philippines2001</td>\n",
       "      <td>NaN</td>\n",
       "      <td>76,262,072,468</td>\n",
       "      <td>1109</td>\n",
       "      <td>Millenials</td>\n",
       "    </tr>\n",
       "    <tr>\n",
       "      <td>18970</td>\n",
       "      <td>Philippines</td>\n",
       "      <td>2001</td>\n",
       "      <td>male</td>\n",
       "      <td>5-14 years</td>\n",
       "      <td>12</td>\n",
       "      <td>9985839</td>\n",
       "      <td>0.12</td>\n",
       "      <td>Philippines2001</td>\n",
       "      <td>NaN</td>\n",
       "      <td>76,262,072,468</td>\n",
       "      <td>1109</td>\n",
       "      <td>Millenials</td>\n",
       "    </tr>\n",
       "    <tr>\n",
       "      <td>18971</td>\n",
       "      <td>Philippines</td>\n",
       "      <td>2001</td>\n",
       "      <td>female</td>\n",
       "      <td>5-14 years</td>\n",
       "      <td>8</td>\n",
       "      <td>9545250</td>\n",
       "      <td>0.08</td>\n",
       "      <td>Philippines2001</td>\n",
       "      <td>NaN</td>\n",
       "      <td>76,262,072,468</td>\n",
       "      <td>1109</td>\n",
       "      <td>Millenials</td>\n",
       "    </tr>\n",
       "    <tr>\n",
       "      <td>18974</td>\n",
       "      <td>Philippines</td>\n",
       "      <td>2002</td>\n",
       "      <td>male</td>\n",
       "      <td>15-24 years</td>\n",
       "      <td>346</td>\n",
       "      <td>8184036</td>\n",
       "      <td>4.23</td>\n",
       "      <td>Philippines2002</td>\n",
       "      <td>NaN</td>\n",
       "      <td>81,357,605,642</td>\n",
       "      <td>1158</td>\n",
       "      <td>Millenials</td>\n",
       "    </tr>\n",
       "    <tr>\n",
       "      <td>18978</td>\n",
       "      <td>Philippines</td>\n",
       "      <td>2002</td>\n",
       "      <td>female</td>\n",
       "      <td>15-24 years</td>\n",
       "      <td>114</td>\n",
       "      <td>7903007</td>\n",
       "      <td>1.44</td>\n",
       "      <td>Philippines2002</td>\n",
       "      <td>NaN</td>\n",
       "      <td>81,357,605,642</td>\n",
       "      <td>1158</td>\n",
       "      <td>Millenials</td>\n",
       "    </tr>\n",
       "    <tr>\n",
       "      <td>18982</td>\n",
       "      <td>Philippines</td>\n",
       "      <td>2002</td>\n",
       "      <td>male</td>\n",
       "      <td>5-14 years</td>\n",
       "      <td>22</td>\n",
       "      <td>10117670</td>\n",
       "      <td>0.22</td>\n",
       "      <td>Philippines2002</td>\n",
       "      <td>NaN</td>\n",
       "      <td>81,357,605,642</td>\n",
       "      <td>1158</td>\n",
       "      <td>Millenials</td>\n",
       "    </tr>\n",
       "    <tr>\n",
       "      <td>18983</td>\n",
       "      <td>Philippines</td>\n",
       "      <td>2002</td>\n",
       "      <td>female</td>\n",
       "      <td>5-14 years</td>\n",
       "      <td>15</td>\n",
       "      <td>9675419</td>\n",
       "      <td>0.16</td>\n",
       "      <td>Philippines2002</td>\n",
       "      <td>NaN</td>\n",
       "      <td>81,357,605,642</td>\n",
       "      <td>1158</td>\n",
       "      <td>Millenials</td>\n",
       "    </tr>\n",
       "    <tr>\n",
       "      <td>18988</td>\n",
       "      <td>Philippines</td>\n",
       "      <td>2003</td>\n",
       "      <td>male</td>\n",
       "      <td>15-24 years</td>\n",
       "      <td>328</td>\n",
       "      <td>8353621</td>\n",
       "      <td>3.93</td>\n",
       "      <td>Philippines2003</td>\n",
       "      <td>NaN</td>\n",
       "      <td>83,908,206,648</td>\n",
       "      <td>1169</td>\n",
       "      <td>Millenials</td>\n",
       "    </tr>\n",
       "    <tr>\n",
       "      <td>18990</td>\n",
       "      <td>Philippines</td>\n",
       "      <td>2003</td>\n",
       "      <td>female</td>\n",
       "      <td>15-24 years</td>\n",
       "      <td>166</td>\n",
       "      <td>8067958</td>\n",
       "      <td>2.06</td>\n",
       "      <td>Philippines2003</td>\n",
       "      <td>NaN</td>\n",
       "      <td>83,908,206,648</td>\n",
       "      <td>1169</td>\n",
       "      <td>Millenials</td>\n",
       "    </tr>\n",
       "    <tr>\n",
       "      <td>18994</td>\n",
       "      <td>Philippines</td>\n",
       "      <td>2003</td>\n",
       "      <td>male</td>\n",
       "      <td>5-14 years</td>\n",
       "      <td>21</td>\n",
       "      <td>10247489</td>\n",
       "      <td>0.20</td>\n",
       "      <td>Philippines2003</td>\n",
       "      <td>NaN</td>\n",
       "      <td>83,908,206,648</td>\n",
       "      <td>1169</td>\n",
       "      <td>Millenials</td>\n",
       "    </tr>\n",
       "    <tr>\n",
       "      <td>18995</td>\n",
       "      <td>Philippines</td>\n",
       "      <td>2003</td>\n",
       "      <td>female</td>\n",
       "      <td>5-14 years</td>\n",
       "      <td>14</td>\n",
       "      <td>9802426</td>\n",
       "      <td>0.14</td>\n",
       "      <td>Philippines2003</td>\n",
       "      <td>NaN</td>\n",
       "      <td>83,908,206,648</td>\n",
       "      <td>1169</td>\n",
       "      <td>Millenials</td>\n",
       "    </tr>\n",
       "    <tr>\n",
       "      <td>18999</td>\n",
       "      <td>Philippines</td>\n",
       "      <td>2006</td>\n",
       "      <td>male</td>\n",
       "      <td>15-24 years</td>\n",
       "      <td>400</td>\n",
       "      <td>8792762</td>\n",
       "      <td>4.55</td>\n",
       "      <td>Philippines2006</td>\n",
       "      <td>NaN</td>\n",
       "      <td>122,210,716,310</td>\n",
       "      <td>1599</td>\n",
       "      <td>Millenials</td>\n",
       "    </tr>\n",
       "    <tr>\n",
       "      <td>19001</td>\n",
       "      <td>Philippines</td>\n",
       "      <td>2006</td>\n",
       "      <td>female</td>\n",
       "      <td>15-24 years</td>\n",
       "      <td>146</td>\n",
       "      <td>8479381</td>\n",
       "      <td>1.72</td>\n",
       "      <td>Philippines2006</td>\n",
       "      <td>NaN</td>\n",
       "      <td>122,210,716,310</td>\n",
       "      <td>1599</td>\n",
       "      <td>Millenials</td>\n",
       "    </tr>\n",
       "    <tr>\n",
       "      <td>19006</td>\n",
       "      <td>Philippines</td>\n",
       "      <td>2006</td>\n",
       "      <td>male</td>\n",
       "      <td>5-14 years</td>\n",
       "      <td>35</td>\n",
       "      <td>10602914</td>\n",
       "      <td>0.33</td>\n",
       "      <td>Philippines2006</td>\n",
       "      <td>NaN</td>\n",
       "      <td>122,210,716,310</td>\n",
       "      <td>1599</td>\n",
       "      <td>Millenials</td>\n",
       "    </tr>\n",
       "    <tr>\n",
       "      <td>19007</td>\n",
       "      <td>Philippines</td>\n",
       "      <td>2006</td>\n",
       "      <td>female</td>\n",
       "      <td>5-14 years</td>\n",
       "      <td>28</td>\n",
       "      <td>10121349</td>\n",
       "      <td>0.28</td>\n",
       "      <td>Philippines2006</td>\n",
       "      <td>NaN</td>\n",
       "      <td>122,210,716,310</td>\n",
       "      <td>1599</td>\n",
       "      <td>Millenials</td>\n",
       "    </tr>\n",
       "    <tr>\n",
       "      <td>19009</td>\n",
       "      <td>Philippines</td>\n",
       "      <td>2007</td>\n",
       "      <td>male</td>\n",
       "      <td>15-24 years</td>\n",
       "      <td>430</td>\n",
       "      <td>8891042</td>\n",
       "      <td>4.84</td>\n",
       "      <td>Philippines2007</td>\n",
       "      <td>NaN</td>\n",
       "      <td>149,359,918,060</td>\n",
       "      <td>1915</td>\n",
       "      <td>Millenials</td>\n",
       "    </tr>\n",
       "    <tr>\n",
       "      <td>19013</td>\n",
       "      <td>Philippines</td>\n",
       "      <td>2007</td>\n",
       "      <td>female</td>\n",
       "      <td>15-24 years</td>\n",
       "      <td>158</td>\n",
       "      <td>8579154</td>\n",
       "      <td>1.84</td>\n",
       "      <td>Philippines2007</td>\n",
       "      <td>NaN</td>\n",
       "      <td>149,359,918,060</td>\n",
       "      <td>1915</td>\n",
       "      <td>Millenials</td>\n",
       "    </tr>\n",
       "    <tr>\n",
       "      <td>19022</td>\n",
       "      <td>Philippines</td>\n",
       "      <td>2008</td>\n",
       "      <td>male</td>\n",
       "      <td>15-24 years</td>\n",
       "      <td>441</td>\n",
       "      <td>9009351</td>\n",
       "      <td>4.89</td>\n",
       "      <td>Philippines2008</td>\n",
       "      <td>NaN</td>\n",
       "      <td>174,195,136,253</td>\n",
       "      <td>2188</td>\n",
       "      <td>Millenials</td>\n",
       "    </tr>\n",
       "    <tr>\n",
       "      <td>19025</td>\n",
       "      <td>Philippines</td>\n",
       "      <td>2008</td>\n",
       "      <td>female</td>\n",
       "      <td>15-24 years</td>\n",
       "      <td>171</td>\n",
       "      <td>8697827</td>\n",
       "      <td>1.97</td>\n",
       "      <td>Philippines2008</td>\n",
       "      <td>NaN</td>\n",
       "      <td>174,195,136,253</td>\n",
       "      <td>2188</td>\n",
       "      <td>Millenials</td>\n",
       "    </tr>\n",
       "    <tr>\n",
       "      <td>19034</td>\n",
       "      <td>Philippines</td>\n",
       "      <td>2009</td>\n",
       "      <td>male</td>\n",
       "      <td>15-24 years</td>\n",
       "      <td>475</td>\n",
       "      <td>9146246</td>\n",
       "      <td>5.19</td>\n",
       "      <td>Philippines2009</td>\n",
       "      <td>NaN</td>\n",
       "      <td>168,334,601,260</td>\n",
       "      <td>2073</td>\n",
       "      <td>Millenials</td>\n",
       "    </tr>\n",
       "    <tr>\n",
       "      <td>19037</td>\n",
       "      <td>Philippines</td>\n",
       "      <td>2009</td>\n",
       "      <td>female</td>\n",
       "      <td>15-24 years</td>\n",
       "      <td>232</td>\n",
       "      <td>8838722</td>\n",
       "      <td>2.62</td>\n",
       "      <td>Philippines2009</td>\n",
       "      <td>NaN</td>\n",
       "      <td>168,334,601,260</td>\n",
       "      <td>2073</td>\n",
       "      <td>Millenials</td>\n",
       "    </tr>\n",
       "    <tr>\n",
       "      <td>19046</td>\n",
       "      <td>Philippines</td>\n",
       "      <td>2010</td>\n",
       "      <td>male</td>\n",
       "      <td>15-24 years</td>\n",
       "      <td>503</td>\n",
       "      <td>9293357</td>\n",
       "      <td>5.41</td>\n",
       "      <td>Philippines2010</td>\n",
       "      <td>0.654</td>\n",
       "      <td>199,590,775,189</td>\n",
       "      <td>2412</td>\n",
       "      <td>Millenials</td>\n",
       "    </tr>\n",
       "    <tr>\n",
       "      <td>19049</td>\n",
       "      <td>Philippines</td>\n",
       "      <td>2010</td>\n",
       "      <td>female</td>\n",
       "      <td>15-24 years</td>\n",
       "      <td>218</td>\n",
       "      <td>8994318</td>\n",
       "      <td>2.42</td>\n",
       "      <td>Philippines2010</td>\n",
       "      <td>0.654</td>\n",
       "      <td>199,590,775,189</td>\n",
       "      <td>2412</td>\n",
       "      <td>Millenials</td>\n",
       "    </tr>\n",
       "    <tr>\n",
       "      <td>19057</td>\n",
       "      <td>Philippines</td>\n",
       "      <td>2011</td>\n",
       "      <td>male</td>\n",
       "      <td>25-34 years</td>\n",
       "      <td>470</td>\n",
       "      <td>7373201</td>\n",
       "      <td>6.37</td>\n",
       "      <td>Philippines2011</td>\n",
       "      <td>0.653</td>\n",
       "      <td>224,143,083,707</td>\n",
       "      <td>2662</td>\n",
       "      <td>Millenials</td>\n",
       "    </tr>\n",
       "    <tr>\n",
       "      <td>19059</td>\n",
       "      <td>Philippines</td>\n",
       "      <td>2011</td>\n",
       "      <td>male</td>\n",
       "      <td>15-24 years</td>\n",
       "      <td>541</td>\n",
       "      <td>9485777</td>\n",
       "      <td>5.70</td>\n",
       "      <td>Philippines2011</td>\n",
       "      <td>0.653</td>\n",
       "      <td>224,143,083,707</td>\n",
       "      <td>2662</td>\n",
       "      <td>Millenials</td>\n",
       "    </tr>\n",
       "    <tr>\n",
       "      <td>19061</td>\n",
       "      <td>Philippines</td>\n",
       "      <td>2011</td>\n",
       "      <td>female</td>\n",
       "      <td>15-24 years</td>\n",
       "      <td>221</td>\n",
       "      <td>9155053</td>\n",
       "      <td>2.41</td>\n",
       "      <td>Philippines2011</td>\n",
       "      <td>0.653</td>\n",
       "      <td>224,143,083,707</td>\n",
       "      <td>2662</td>\n",
       "      <td>Millenials</td>\n",
       "    </tr>\n",
       "    <tr>\n",
       "      <td>19063</td>\n",
       "      <td>Philippines</td>\n",
       "      <td>2011</td>\n",
       "      <td>female</td>\n",
       "      <td>25-34 years</td>\n",
       "      <td>120</td>\n",
       "      <td>7181904</td>\n",
       "      <td>1.67</td>\n",
       "      <td>Philippines2011</td>\n",
       "      <td>0.653</td>\n",
       "      <td>224,143,083,707</td>\n",
       "      <td>2662</td>\n",
       "      <td>Millenials</td>\n",
       "    </tr>\n",
       "  </tbody>\n",
       "</table>\n",
       "</div>"
      ],
      "text/plain": [
       "           country  year     sex          age  suicides_no  population  \\\n",
       "18898  Philippines  1992  female   5-14 years            0     8129872   \n",
       "18899  Philippines  1992    male   5-14 years            0     8483426   \n",
       "18910  Philippines  1993  female   5-14 years            0     8308799   \n",
       "18911  Philippines  1993    male   5-14 years            0     8673303   \n",
       "18922  Philippines  1997    male   5-14 years           10     9402618   \n",
       "18923  Philippines  1997  female   5-14 years            6     8991189   \n",
       "18934  Philippines  1998    male   5-14 years           16     9564500   \n",
       "18935  Philippines  1998  female   5-14 years           10     9141469   \n",
       "18946  Philippines  1999    male   5-14 years           14     9713454   \n",
       "18947  Philippines  1999  female   5-14 years            7     9281852   \n",
       "18958  Philippines  2000    male   5-14 years           18     9850796   \n",
       "18959  Philippines  2000  female   5-14 years           14     9414417   \n",
       "18963  Philippines  2001    male  15-24 years          310     8018698   \n",
       "18965  Philippines  2001  female  15-24 years          104     7738503   \n",
       "18970  Philippines  2001    male   5-14 years           12     9985839   \n",
       "18971  Philippines  2001  female   5-14 years            8     9545250   \n",
       "18974  Philippines  2002    male  15-24 years          346     8184036   \n",
       "18978  Philippines  2002  female  15-24 years          114     7903007   \n",
       "18982  Philippines  2002    male   5-14 years           22    10117670   \n",
       "18983  Philippines  2002  female   5-14 years           15     9675419   \n",
       "18988  Philippines  2003    male  15-24 years          328     8353621   \n",
       "18990  Philippines  2003  female  15-24 years          166     8067958   \n",
       "18994  Philippines  2003    male   5-14 years           21    10247489   \n",
       "18995  Philippines  2003  female   5-14 years           14     9802426   \n",
       "18999  Philippines  2006    male  15-24 years          400     8792762   \n",
       "19001  Philippines  2006  female  15-24 years          146     8479381   \n",
       "19006  Philippines  2006    male   5-14 years           35    10602914   \n",
       "19007  Philippines  2006  female   5-14 years           28    10121349   \n",
       "19009  Philippines  2007    male  15-24 years          430     8891042   \n",
       "19013  Philippines  2007  female  15-24 years          158     8579154   \n",
       "19022  Philippines  2008    male  15-24 years          441     9009351   \n",
       "19025  Philippines  2008  female  15-24 years          171     8697827   \n",
       "19034  Philippines  2009    male  15-24 years          475     9146246   \n",
       "19037  Philippines  2009  female  15-24 years          232     8838722   \n",
       "19046  Philippines  2010    male  15-24 years          503     9293357   \n",
       "19049  Philippines  2010  female  15-24 years          218     8994318   \n",
       "19057  Philippines  2011    male  25-34 years          470     7373201   \n",
       "19059  Philippines  2011    male  15-24 years          541     9485777   \n",
       "19061  Philippines  2011  female  15-24 years          221     9155053   \n",
       "19063  Philippines  2011  female  25-34 years          120     7181904   \n",
       "\n",
       "       suicides/100k pop     country-year  HDI for year  gdp_for_year ($)   \\\n",
       "18898               0.00  Philippines1992           NaN     52,976,344,929   \n",
       "18899               0.00  Philippines1992           NaN     52,976,344,929   \n",
       "18910               0.00  Philippines1993           NaN     54,368,083,953   \n",
       "18911               0.00  Philippines1993           NaN     54,368,083,953   \n",
       "18922               0.11  Philippines1997           NaN     82,344,260,571   \n",
       "18923               0.07  Philippines1997           NaN     82,344,260,571   \n",
       "18934               0.17  Philippines1998           NaN     72,207,028,767   \n",
       "18935               0.11  Philippines1998           NaN     72,207,028,767   \n",
       "18946               0.14  Philippines1999           NaN     82,995,145,792   \n",
       "18947               0.08  Philippines1999           NaN     82,995,145,792   \n",
       "18958               0.18  Philippines2000         0.623     81,026,300,311   \n",
       "18959               0.15  Philippines2000         0.623     81,026,300,311   \n",
       "18963               3.87  Philippines2001           NaN     76,262,072,468   \n",
       "18965               1.34  Philippines2001           NaN     76,262,072,468   \n",
       "18970               0.12  Philippines2001           NaN     76,262,072,468   \n",
       "18971               0.08  Philippines2001           NaN     76,262,072,468   \n",
       "18974               4.23  Philippines2002           NaN     81,357,605,642   \n",
       "18978               1.44  Philippines2002           NaN     81,357,605,642   \n",
       "18982               0.22  Philippines2002           NaN     81,357,605,642   \n",
       "18983               0.16  Philippines2002           NaN     81,357,605,642   \n",
       "18988               3.93  Philippines2003           NaN     83,908,206,648   \n",
       "18990               2.06  Philippines2003           NaN     83,908,206,648   \n",
       "18994               0.20  Philippines2003           NaN     83,908,206,648   \n",
       "18995               0.14  Philippines2003           NaN     83,908,206,648   \n",
       "18999               4.55  Philippines2006           NaN    122,210,716,310   \n",
       "19001               1.72  Philippines2006           NaN    122,210,716,310   \n",
       "19006               0.33  Philippines2006           NaN    122,210,716,310   \n",
       "19007               0.28  Philippines2006           NaN    122,210,716,310   \n",
       "19009               4.84  Philippines2007           NaN    149,359,918,060   \n",
       "19013               1.84  Philippines2007           NaN    149,359,918,060   \n",
       "19022               4.89  Philippines2008           NaN    174,195,136,253   \n",
       "19025               1.97  Philippines2008           NaN    174,195,136,253   \n",
       "19034               5.19  Philippines2009           NaN    168,334,601,260   \n",
       "19037               2.62  Philippines2009           NaN    168,334,601,260   \n",
       "19046               5.41  Philippines2010         0.654    199,590,775,189   \n",
       "19049               2.42  Philippines2010         0.654    199,590,775,189   \n",
       "19057               6.37  Philippines2011         0.653    224,143,083,707   \n",
       "19059               5.70  Philippines2011         0.653    224,143,083,707   \n",
       "19061               2.41  Philippines2011         0.653    224,143,083,707   \n",
       "19063               1.67  Philippines2011         0.653    224,143,083,707   \n",
       "\n",
       "       gdp_per_capita ($)  generation  \n",
       "18898                 958  Millenials  \n",
       "18899                 958  Millenials  \n",
       "18910                 957  Millenials  \n",
       "18911                 957  Millenials  \n",
       "18922                1312  Millenials  \n",
       "18923                1312  Millenials  \n",
       "18934                1124  Millenials  \n",
       "18935                1124  Millenials  \n",
       "18946                1262  Millenials  \n",
       "18947                1262  Millenials  \n",
       "18958                1205  Millenials  \n",
       "18959                1205  Millenials  \n",
       "18963                1109  Millenials  \n",
       "18965                1109  Millenials  \n",
       "18970                1109  Millenials  \n",
       "18971                1109  Millenials  \n",
       "18974                1158  Millenials  \n",
       "18978                1158  Millenials  \n",
       "18982                1158  Millenials  \n",
       "18983                1158  Millenials  \n",
       "18988                1169  Millenials  \n",
       "18990                1169  Millenials  \n",
       "18994                1169  Millenials  \n",
       "18995                1169  Millenials  \n",
       "18999                1599  Millenials  \n",
       "19001                1599  Millenials  \n",
       "19006                1599  Millenials  \n",
       "19007                1599  Millenials  \n",
       "19009                1915  Millenials  \n",
       "19013                1915  Millenials  \n",
       "19022                2188  Millenials  \n",
       "19025                2188  Millenials  \n",
       "19034                2073  Millenials  \n",
       "19037                2073  Millenials  \n",
       "19046                2412  Millenials  \n",
       "19049                2412  Millenials  \n",
       "19057                2662  Millenials  \n",
       "19059                2662  Millenials  \n",
       "19061                2662  Millenials  \n",
       "19063                2662  Millenials  "
      ]
     },
     "execution_count": 25,
     "metadata": {},
     "output_type": "execute_result"
    }
   ],
   "source": [
    "ph_data[ph_data.generation==\"Millenials\"]"
   ]
  },
  {
   "cell_type": "code",
   "execution_count": 70,
   "metadata": {},
   "outputs": [
    {
     "data": {
      "application/vnd.plotly.v1+json": {
       "config": {
        "plotlyServerURL": "https://plot.ly"
       },
       "data": [
        {
         "branchvalues": "total",
         "customdata": [
          [
           "Generation X"
          ],
          [
           "Generation X"
          ],
          [
           "Generation Z"
          ],
          [
           "G.I. Generation"
          ],
          [
           "Boomers"
          ],
          [
           "G.I. Generation"
          ],
          [
           "Boomers"
          ],
          [
           "Silent"
          ],
          [
           "Generation X"
          ],
          [
           "Generation Z"
          ],
          [
           "Silent"
          ],
          [
           "Boomers"
          ],
          [
           "Generation X"
          ],
          [
           "Silent"
          ],
          [
           "Silent"
          ],
          [
           "Silent"
          ],
          [
           "Millenials"
          ],
          [
           "Boomers"
          ],
          [
           "Generation X"
          ],
          [
           "Generation Z"
          ],
          [
           "Millenials"
          ],
          [
           "Generation X"
          ],
          [
           "Silent"
          ],
          [
           "Generation X"
          ],
          [
           "Generation X"
          ],
          [
           "Millenials"
          ],
          [
           "Generation X"
          ],
          [
           "Silent"
          ],
          [
           "Millenials"
          ],
          [
           "Millenials"
          ],
          [
           "Silent"
          ],
          [
           "Millenials"
          ],
          [
           "Millenials"
          ],
          [
           "Millenials"
          ],
          [
           "Silent"
          ],
          [
           "Millenials"
          ],
          [
           "Generation X"
          ],
          [
           "Boomers"
          ],
          [
           "Generation X"
          ],
          [
           "Boomers"
          ],
          [
           "Millenials"
          ],
          [
           "Boomers"
          ],
          [
           "Millenials"
          ],
          [
           "Generation X"
          ],
          [
           "Millenials"
          ],
          [
           "Silent"
          ],
          [
           "Millenials"
          ],
          [
           "Silent"
          ],
          [
           "Generation X"
          ],
          [
           "Millenials"
          ],
          [
           "G.I. Generation"
          ],
          [
           "Silent"
          ],
          [
           "Silent"
          ],
          [
           "Silent"
          ],
          [
           "Boomers"
          ],
          [
           "Boomers"
          ],
          [
           "G.I. Generation"
          ],
          [
           "Silent"
          ],
          [
           "Millenials"
          ],
          [
           "Generation X"
          ],
          [
           "Generation Z"
          ],
          [
           "Boomers"
          ],
          [
           "Generation X"
          ],
          [
           "Silent"
          ],
          [
           "Millenials"
          ],
          [
           "Boomers"
          ],
          [
           "Generation X"
          ],
          [
           "Boomers"
          ],
          [
           "Generation X"
          ],
          [
           "Boomers"
          ],
          [
           "Silent"
          ],
          [
           "Generation X"
          ],
          [
           "Millenials"
          ],
          [
           "Generation Z"
          ],
          [
           "Millenials"
          ],
          [
           "Millenials"
          ],
          [
           "Millenials"
          ],
          [
           "Boomers"
          ],
          [
           "Boomers"
          ],
          [
           "Boomers"
          ],
          [
           "Generation X"
          ],
          [
           "Millenials"
          ],
          [
           "Silent"
          ],
          [
           "Boomers"
          ],
          [
           "Generation Z"
          ],
          [
           "Silent"
          ],
          [
           "G.I. Generation"
          ],
          [
           "Generation X"
          ],
          [
           "G.I. Generation"
          ],
          [
           "Millenials"
          ],
          [
           "Millenials"
          ],
          [
           "Millenials"
          ],
          [
           "Millenials"
          ],
          [
           "Silent"
          ],
          [
           "Generation X"
          ],
          [
           "Generation X"
          ],
          [
           "Millenials"
          ],
          [
           "Boomers"
          ],
          [
           "Generation X"
          ],
          [
           "G.I. Generation"
          ],
          [
           "Generation X"
          ],
          [
           "Silent"
          ],
          [
           "Boomers"
          ],
          [
           "G.I. Generation"
          ],
          [
           "G.I. Generation"
          ],
          [
           "Silent"
          ],
          [
           "Millenials"
          ],
          [
           "Generation X"
          ],
          [
           "Silent"
          ],
          [
           "Generation X"
          ],
          [
           "Silent"
          ],
          [
           "Silent"
          ],
          [
           "Boomers"
          ],
          [
           "Boomers"
          ],
          [
           "Boomers"
          ],
          [
           "Millenials"
          ],
          [
           "Millenials"
          ],
          [
           "Millenials"
          ],
          [
           "Silent"
          ],
          [
           "Boomers"
          ],
          [
           "Generation Z"
          ],
          [
           "Generation Z"
          ],
          [
           "Boomers"
          ],
          [
           "Boomers"
          ],
          [
           "Generation X"
          ],
          [
           "Millenials"
          ],
          [
           "Generation X"
          ],
          [
           "Boomers"
          ],
          [
           "Generation X"
          ],
          [
           "Millenials"
          ],
          [
           "Generation X"
          ],
          [
           "Generation X"
          ],
          [
           "Generation X"
          ],
          [
           "Silent"
          ],
          [
           "Millenials"
          ],
          [
           "Generation X"
          ],
          [
           "Generation Z"
          ],
          [
           "Generation X"
          ],
          [
           "Millenials"
          ],
          [
           "Silent"
          ],
          [
           "Generation Z"
          ],
          [
           "Millenials"
          ],
          [
           "G.I. Generation"
          ],
          [
           "Boomers"
          ],
          [
           "Millenials"
          ],
          [
           "Generation X"
          ],
          [
           "Boomers"
          ],
          [
           "Silent"
          ],
          [
           "Silent"
          ],
          [
           "Silent"
          ],
          [
           "G.I. Generation"
          ],
          [
           "Silent"
          ],
          [
           "Silent"
          ],
          [
           "Boomers"
          ],
          [
           "G.I. Generation"
          ],
          [
           "Boomers"
          ],
          [
           "Silent"
          ],
          [
           "Silent"
          ],
          [
           "Silent"
          ],
          [
           "Generation X"
          ],
          [
           "Silent"
          ],
          [
           "Boomers"
          ],
          [
           "G.I. Generation"
          ],
          [
           "Silent"
          ],
          [
           "Generation Z"
          ],
          [
           "Silent"
          ]
         ],
         "domain": {
          "x": [
           0,
           1
          ],
          "y": [
           0,
           1
          ]
         },
         "hovertemplate": "generation=%{customdata[0]}<br>labels=%{label}<br>suicides_no=%{value}<br>parent=%{parent}<br>id=%{id}<extra></extra>",
         "ids": [
          "Generation X/2010/25-34 years",
          "Generation X/2000",
          "Generation Z/2010",
          "G.I. Generation/1999/75+ years",
          "Boomers/2007",
          "G.I. Generation/1993/75+ years",
          "Boomers/1997/35-54 years",
          "Silent/2001",
          "Generation X/2001/25-34 years",
          "Generation Z/2009",
          "Silent/2003/55-74 years",
          "Boomers/2007/35-54 years",
          "Generation X/2011/35-54 years",
          "Silent/1999/55-74 years",
          "Silent/2007",
          "Silent/1993",
          "Millenials/2002/5-14 years",
          "Boomers/2003",
          "Generation X/1999/25-34 years",
          "Generation Z/2009/5-14 years",
          "Millenials/1992",
          "Generation X/1997/25-34 years",
          "Silent/2010/75+ years",
          "Generation X/1997/15-24 years",
          "Generation X/1999",
          "Millenials/2010/15-24 years",
          "Generation X/1999/15-24 years",
          "Silent/1997",
          "Millenials/2006/15-24 years",
          "Millenials/2002/15-24 years",
          "Silent/1992/55-74 years",
          "Millenials/2003/5-14 years",
          "Millenials/1998/5-14 years",
          "Millenials/1992/5-14 years",
          "Silent/2000/55-74 years",
          "Millenials/2001/15-24 years",
          "Generation X/1992/15-24 years",
          "Boomers/1993/25-34 years",
          "Generation X/2006/25-34 years",
          "Boomers/1993/35-54 years",
          "Millenials/2009/15-24 years",
          "Boomers/2001/35-54 years",
          "Millenials/2002",
          "Generation X/2006",
          "Millenials/1997",
          "Silent/1997/55-74 years",
          "Millenials",
          "Silent/1998/55-74 years",
          "Generation X/1993",
          "Millenials/2001",
          "G.I. Generation/1992",
          "Silent/2001/55-74 years",
          "Silent/2002/55-74 years",
          "Silent/1998",
          "Boomers/2011/55-74 years",
          "Boomers/2000",
          "G.I. Generation/2000/75+ years",
          "Silent/2007/75+ years",
          "Millenials/2000/5-14 years",
          "Generation X/2009/25-34 years",
          "Generation Z/2011",
          "Boomers",
          "Generation X/2007/25-34 years",
          "Silent/2009",
          "Millenials/2011/25-34 years",
          "Boomers/1992/35-54 years",
          "Generation X/2000/15-24 years",
          "Boomers/1992/25-34 years",
          "Generation X",
          "Boomers/2002/35-54 years",
          "Silent/2008",
          "Generation X/1998/15-24 years",
          "Millenials/2007",
          "Generation Z/2007/5-14 years",
          "Millenials/2006/5-14 years",
          "Millenials/2001/5-14 years",
          "Millenials/2011/15-24 years",
          "Boomers/2009/35-54 years",
          "Boomers/2008/35-54 years",
          "Boomers/2006/35-54 years",
          "Generation X/2008",
          "Millenials/2003",
          "Silent/2010",
          "Boomers/2011",
          "Generation Z/2008",
          "Silent/2003",
          "G.I. Generation/1998",
          "Generation X/1998",
          "G.I. Generation",
          "Millenials/2011",
          "Millenials/2006",
          "Millenials/1999",
          "Millenials/2000",
          "Silent/2000",
          "Generation X/2007",
          "Generation X/2001",
          "Millenials/2009",
          "Boomers/2009",
          "Generation X/2002",
          "G.I. Generation/1999",
          "Generation X/1997",
          "Silent/2002/75+ years",
          "Boomers/1997",
          "G.I. Generation/1992/75+ years",
          "G.I. Generation/1997/75+ years",
          "Silent/2008/55-74 years",
          "Millenials/1997/5-14 years",
          "Generation X/2003/25-34 years",
          "Silent/2003/75+ years",
          "Generation X/2002/25-34 years",
          "Silent/2008/75+ years",
          "Silent/2007/55-74 years",
          "Boomers/2000/35-54 years",
          "Boomers/1999/35-54 years",
          "Boomers/1992",
          "Millenials/2008/15-24 years",
          "Millenials/1993/5-14 years",
          "Millenials/2007/15-24 years",
          "Silent/1992",
          "Boomers/1993",
          "Generation Z/2011/5-14 years",
          "Generation Z/2010/5-14 years",
          "Boomers/2003/35-54 years",
          "Boomers/2008",
          "Generation X/2010/35-54 years",
          "Millenials/2008",
          "Generation X/2010",
          "Boomers/1998/35-54 years",
          "Generation X/2008/25-34 years",
          "Millenials/2010",
          "Generation X/2000/25-34 years",
          "Generation X/2011",
          "Generation X/1998/25-34 years",
          "Silent/2011",
          "Millenials/2003/15-24 years",
          "Generation X/1993/15-24 years",
          "Generation Z",
          "Generation X/2009",
          "Millenials/1999/5-14 years",
          "Silent/1993/55-74 years",
          "Generation Z/2008/5-14 years",
          "Millenials/1993",
          "G.I. Generation/1993",
          "Boomers/1998",
          "Millenials/1998",
          "Generation X/1992",
          "Boomers/1999",
          "Silent/2011/75+ years",
          "Silent/2009/75+ years",
          "Silent/1999",
          "G.I. Generation/2000",
          "Silent/2006/75+ years",
          "Silent/2001/75+ years",
          "Boomers/2001",
          "G.I. Generation/1998/75+ years",
          "Boomers/2002",
          "Silent/2010/55-74 years",
          "Silent/2009/55-74 years",
          "Silent/2002",
          "Generation X/2003",
          "Silent/2006/55-74 years",
          "Boomers/2006",
          "G.I. Generation/1997",
          "Silent/2006",
          "Generation Z/2007",
          "Silent"
         ],
         "labels": [
          "25-34 years",
          "2000",
          "2010",
          "75+ years",
          "2007",
          "75+ years",
          "35-54 years",
          "2001",
          "25-34 years",
          "2009",
          "55-74 years",
          "35-54 years",
          "35-54 years",
          "55-74 years",
          "2007",
          "1993",
          "5-14 years",
          "2003",
          "25-34 years",
          "5-14 years",
          "1992",
          "25-34 years",
          "75+ years",
          "15-24 years",
          "1999",
          "15-24 years",
          "15-24 years",
          "1997",
          "15-24 years",
          "15-24 years",
          "55-74 years",
          "5-14 years",
          "5-14 years",
          "5-14 years",
          "55-74 years",
          "15-24 years",
          "15-24 years",
          "25-34 years",
          "25-34 years",
          "35-54 years",
          "15-24 years",
          "35-54 years",
          "2002",
          "2006",
          "1997",
          "55-74 years",
          "Millenials",
          "55-74 years",
          "1993",
          "2001",
          "1992",
          "55-74 years",
          "55-74 years",
          "1998",
          "55-74 years",
          "2000",
          "75+ years",
          "75+ years",
          "5-14 years",
          "25-34 years",
          "2011",
          "Boomers",
          "25-34 years",
          "2009",
          "25-34 years",
          "35-54 years",
          "15-24 years",
          "25-34 years",
          "Generation X",
          "35-54 years",
          "2008",
          "15-24 years",
          "2007",
          "5-14 years",
          "5-14 years",
          "5-14 years",
          "15-24 years",
          "35-54 years",
          "35-54 years",
          "35-54 years",
          "2008",
          "2003",
          "2010",
          "2011",
          "2008",
          "2003",
          "1998",
          "1998",
          "G.I. Generation",
          "2011",
          "2006",
          "1999",
          "2000",
          "2000",
          "2007",
          "2001",
          "2009",
          "2009",
          "2002",
          "1999",
          "1997",
          "75+ years",
          "1997",
          "75+ years",
          "75+ years",
          "55-74 years",
          "5-14 years",
          "25-34 years",
          "75+ years",
          "25-34 years",
          "75+ years",
          "55-74 years",
          "35-54 years",
          "35-54 years",
          "1992",
          "15-24 years",
          "5-14 years",
          "15-24 years",
          "1992",
          "1993",
          "5-14 years",
          "5-14 years",
          "35-54 years",
          "2008",
          "35-54 years",
          "2008",
          "2010",
          "35-54 years",
          "25-34 years",
          "2010",
          "25-34 years",
          "2011",
          "25-34 years",
          "2011",
          "15-24 years",
          "15-24 years",
          "Generation Z",
          "2009",
          "5-14 years",
          "55-74 years",
          "5-14 years",
          "1993",
          "1993",
          "1998",
          "1998",
          "1992",
          "1999",
          "75+ years",
          "75+ years",
          "1999",
          "2000",
          "75+ years",
          "75+ years",
          "2001",
          "75+ years",
          "2002",
          "55-74 years",
          "55-74 years",
          "2002",
          "2003",
          "55-74 years",
          "2006",
          "1997",
          "2006",
          "2007",
          "Silent"
         ],
         "marker": {
          "colors": [
           "#636efa",
           "#636efa",
           "#EF553B",
           "#00cc96",
           "#ab63fa",
           "#00cc96",
           "#ab63fa",
           "#FFA15A",
           "#636efa",
           "#EF553B",
           "#FFA15A",
           "#ab63fa",
           "#636efa",
           "#FFA15A",
           "#FFA15A",
           "#FFA15A",
           "#19d3f3",
           "#ab63fa",
           "#636efa",
           "#EF553B",
           "#19d3f3",
           "#636efa",
           "#FFA15A",
           "#636efa",
           "#636efa",
           "#19d3f3",
           "#636efa",
           "#FFA15A",
           "#19d3f3",
           "#19d3f3",
           "#FFA15A",
           "#19d3f3",
           "#19d3f3",
           "#19d3f3",
           "#FFA15A",
           "#19d3f3",
           "#636efa",
           "#ab63fa",
           "#636efa",
           "#ab63fa",
           "#19d3f3",
           "#ab63fa",
           "#19d3f3",
           "#636efa",
           "#19d3f3",
           "#FFA15A",
           "#19d3f3",
           "#FFA15A",
           "#636efa",
           "#19d3f3",
           "#00cc96",
           "#FFA15A",
           "#FFA15A",
           "#FFA15A",
           "#ab63fa",
           "#ab63fa",
           "#00cc96",
           "#FFA15A",
           "#19d3f3",
           "#636efa",
           "#EF553B",
           "#ab63fa",
           "#636efa",
           "#FFA15A",
           "#19d3f3",
           "#ab63fa",
           "#636efa",
           "#ab63fa",
           "#636efa",
           "#ab63fa",
           "#FFA15A",
           "#636efa",
           "#19d3f3",
           "#EF553B",
           "#19d3f3",
           "#19d3f3",
           "#19d3f3",
           "#ab63fa",
           "#ab63fa",
           "#ab63fa",
           "#636efa",
           "#19d3f3",
           "#FFA15A",
           "#ab63fa",
           "#EF553B",
           "#FFA15A",
           "#00cc96",
           "#636efa",
           "#00cc96",
           "#19d3f3",
           "#19d3f3",
           "#19d3f3",
           "#19d3f3",
           "#FFA15A",
           "#636efa",
           "#636efa",
           "#19d3f3",
           "#ab63fa",
           "#636efa",
           "#00cc96",
           "#636efa",
           "#FFA15A",
           "#ab63fa",
           "#00cc96",
           "#00cc96",
           "#FFA15A",
           "#19d3f3",
           "#636efa",
           "#FFA15A",
           "#636efa",
           "#FFA15A",
           "#FFA15A",
           "#ab63fa",
           "#ab63fa",
           "#ab63fa",
           "#19d3f3",
           "#19d3f3",
           "#19d3f3",
           "#FFA15A",
           "#ab63fa",
           "#EF553B",
           "#EF553B",
           "#ab63fa",
           "#ab63fa",
           "#636efa",
           "#19d3f3",
           "#636efa",
           "#ab63fa",
           "#636efa",
           "#19d3f3",
           "#636efa",
           "#636efa",
           "#636efa",
           "#FFA15A",
           "#19d3f3",
           "#636efa",
           "#EF553B",
           "#636efa",
           "#19d3f3",
           "#FFA15A",
           "#EF553B",
           "#19d3f3",
           "#00cc96",
           "#ab63fa",
           "#19d3f3",
           "#636efa",
           "#ab63fa",
           "#FFA15A",
           "#FFA15A",
           "#FFA15A",
           "#00cc96",
           "#FFA15A",
           "#FFA15A",
           "#ab63fa",
           "#00cc96",
           "#ab63fa",
           "#FFA15A",
           "#FFA15A",
           "#FFA15A",
           "#636efa",
           "#FFA15A",
           "#ab63fa",
           "#00cc96",
           "#FFA15A",
           "#EF553B",
           "#FFA15A"
          ]
         },
         "name": "",
         "parents": [
          "Generation X/2010",
          "Generation X",
          "Generation Z",
          "G.I. Generation/1999",
          "Boomers",
          "G.I. Generation/1993",
          "Boomers/1997",
          "Silent",
          "Generation X/2001",
          "Generation Z",
          "Silent/2003",
          "Boomers/2007",
          "Generation X/2011",
          "Silent/1999",
          "Silent",
          "Silent",
          "Millenials/2002",
          "Boomers",
          "Generation X/1999",
          "Generation Z/2009",
          "Millenials",
          "Generation X/1997",
          "Silent/2010",
          "Generation X/1997",
          "Generation X",
          "Millenials/2010",
          "Generation X/1999",
          "Silent",
          "Millenials/2006",
          "Millenials/2002",
          "Silent/1992",
          "Millenials/2003",
          "Millenials/1998",
          "Millenials/1992",
          "Silent/2000",
          "Millenials/2001",
          "Generation X/1992",
          "Boomers/1993",
          "Generation X/2006",
          "Boomers/1993",
          "Millenials/2009",
          "Boomers/2001",
          "Millenials",
          "Generation X",
          "Millenials",
          "Silent/1997",
          "",
          "Silent/1998",
          "Generation X",
          "Millenials",
          "G.I. Generation",
          "Silent/2001",
          "Silent/2002",
          "Silent",
          "Boomers/2011",
          "Boomers",
          "G.I. Generation/2000",
          "Silent/2007",
          "Millenials/2000",
          "Generation X/2009",
          "Generation Z",
          "",
          "Generation X/2007",
          "Silent",
          "Millenials/2011",
          "Boomers/1992",
          "Generation X/2000",
          "Boomers/1992",
          "",
          "Boomers/2002",
          "Silent",
          "Generation X/1998",
          "Millenials",
          "Generation Z/2007",
          "Millenials/2006",
          "Millenials/2001",
          "Millenials/2011",
          "Boomers/2009",
          "Boomers/2008",
          "Boomers/2006",
          "Generation X",
          "Millenials",
          "Silent",
          "Boomers",
          "Generation Z",
          "Silent",
          "G.I. Generation",
          "Generation X",
          "",
          "Millenials",
          "Millenials",
          "Millenials",
          "Millenials",
          "Silent",
          "Generation X",
          "Generation X",
          "Millenials",
          "Boomers",
          "Generation X",
          "G.I. Generation",
          "Generation X",
          "Silent/2002",
          "Boomers",
          "G.I. Generation/1992",
          "G.I. Generation/1997",
          "Silent/2008",
          "Millenials/1997",
          "Generation X/2003",
          "Silent/2003",
          "Generation X/2002",
          "Silent/2008",
          "Silent/2007",
          "Boomers/2000",
          "Boomers/1999",
          "Boomers",
          "Millenials/2008",
          "Millenials/1993",
          "Millenials/2007",
          "Silent",
          "Boomers",
          "Generation Z/2011",
          "Generation Z/2010",
          "Boomers/2003",
          "Boomers",
          "Generation X/2010",
          "Millenials",
          "Generation X",
          "Boomers/1998",
          "Generation X/2008",
          "Millenials",
          "Generation X/2000",
          "Generation X",
          "Generation X/1998",
          "Silent",
          "Millenials/2003",
          "Generation X/1993",
          "",
          "Generation X",
          "Millenials/1999",
          "Silent/1993",
          "Generation Z/2008",
          "Millenials",
          "G.I. Generation",
          "Boomers",
          "Millenials",
          "Generation X",
          "Boomers",
          "Silent/2011",
          "Silent/2009",
          "Silent",
          "G.I. Generation",
          "Silent/2006",
          "Silent/2001",
          "Boomers",
          "G.I. Generation/1998",
          "Boomers",
          "Silent/2010",
          "Silent/2009",
          "Silent",
          "Generation X",
          "Silent/2006",
          "Boomers",
          "G.I. Generation",
          "Silent",
          "Generation Z",
          ""
         ],
         "type": "sunburst",
         "values": [
          501,
          801,
          52,
          27,
          485,
          19,
          202,
          162,
          294,
          38,
          133,
          485,
          680,
          100,
          198,
          61,
          37,
          426,
          260,
          38,
          0,
          242,
          52,
          251,
          613,
          721,
          353,
          86,
          546,
          460,
          33,
          35,
          26,
          0,
          148,
          414,
          143,
          240,
          460,
          182,
          707,
          314,
          497,
          460,
          16,
          86,
          6144,
          92,
          344,
          434,
          8,
          138,
          120,
          92,
          266,
          392,
          30,
          24,
          32,
          484,
          73,
          5048,
          393,
          263,
          590,
          81,
          436,
          82,
          7505,
          325,
          216,
          276,
          588,
          34,
          63,
          20,
          762,
          582,
          495,
          475,
          451,
          529,
          266,
          266,
          46,
          171,
          20,
          526,
          121,
          1352,
          609,
          21,
          32,
          148,
          393,
          294,
          707,
          582,
          328,
          27,
          493,
          31,
          202,
          8,
          17,
          175,
          16,
          418,
          38,
          328,
          41,
          174,
          392,
          282,
          163,
          612,
          0,
          588,
          33,
          422,
          73,
          52,
          426,
          495,
          576,
          612,
          1077,
          219,
          451,
          721,
          365,
          680,
          250,
          78,
          494,
          344,
          243,
          484,
          21,
          61,
          46,
          0,
          19,
          219,
          26,
          143,
          282,
          78,
          36,
          100,
          30,
          43,
          24,
          314,
          20,
          325,
          214,
          227,
          151,
          418,
          201,
          475,
          17,
          244,
          34,
          2269
         ]
        }
       ],
       "layout": {
        "legend": {
         "tracegroupgap": 0
        },
        "margin": {
         "t": 60
        },
        "template": {
         "data": {
          "bar": [
           {
            "error_x": {
             "color": "#2a3f5f"
            },
            "error_y": {
             "color": "#2a3f5f"
            },
            "marker": {
             "line": {
              "color": "#E5ECF6",
              "width": 0.5
             }
            },
            "type": "bar"
           }
          ],
          "barpolar": [
           {
            "marker": {
             "line": {
              "color": "#E5ECF6",
              "width": 0.5
             }
            },
            "type": "barpolar"
           }
          ],
          "carpet": [
           {
            "aaxis": {
             "endlinecolor": "#2a3f5f",
             "gridcolor": "white",
             "linecolor": "white",
             "minorgridcolor": "white",
             "startlinecolor": "#2a3f5f"
            },
            "baxis": {
             "endlinecolor": "#2a3f5f",
             "gridcolor": "white",
             "linecolor": "white",
             "minorgridcolor": "white",
             "startlinecolor": "#2a3f5f"
            },
            "type": "carpet"
           }
          ],
          "choropleth": [
           {
            "colorbar": {
             "outlinewidth": 0,
             "ticks": ""
            },
            "type": "choropleth"
           }
          ],
          "contour": [
           {
            "colorbar": {
             "outlinewidth": 0,
             "ticks": ""
            },
            "colorscale": [
             [
              0,
              "#0d0887"
             ],
             [
              0.1111111111111111,
              "#46039f"
             ],
             [
              0.2222222222222222,
              "#7201a8"
             ],
             [
              0.3333333333333333,
              "#9c179e"
             ],
             [
              0.4444444444444444,
              "#bd3786"
             ],
             [
              0.5555555555555556,
              "#d8576b"
             ],
             [
              0.6666666666666666,
              "#ed7953"
             ],
             [
              0.7777777777777778,
              "#fb9f3a"
             ],
             [
              0.8888888888888888,
              "#fdca26"
             ],
             [
              1,
              "#f0f921"
             ]
            ],
            "type": "contour"
           }
          ],
          "contourcarpet": [
           {
            "colorbar": {
             "outlinewidth": 0,
             "ticks": ""
            },
            "type": "contourcarpet"
           }
          ],
          "heatmap": [
           {
            "colorbar": {
             "outlinewidth": 0,
             "ticks": ""
            },
            "colorscale": [
             [
              0,
              "#0d0887"
             ],
             [
              0.1111111111111111,
              "#46039f"
             ],
             [
              0.2222222222222222,
              "#7201a8"
             ],
             [
              0.3333333333333333,
              "#9c179e"
             ],
             [
              0.4444444444444444,
              "#bd3786"
             ],
             [
              0.5555555555555556,
              "#d8576b"
             ],
             [
              0.6666666666666666,
              "#ed7953"
             ],
             [
              0.7777777777777778,
              "#fb9f3a"
             ],
             [
              0.8888888888888888,
              "#fdca26"
             ],
             [
              1,
              "#f0f921"
             ]
            ],
            "type": "heatmap"
           }
          ],
          "heatmapgl": [
           {
            "colorbar": {
             "outlinewidth": 0,
             "ticks": ""
            },
            "colorscale": [
             [
              0,
              "#0d0887"
             ],
             [
              0.1111111111111111,
              "#46039f"
             ],
             [
              0.2222222222222222,
              "#7201a8"
             ],
             [
              0.3333333333333333,
              "#9c179e"
             ],
             [
              0.4444444444444444,
              "#bd3786"
             ],
             [
              0.5555555555555556,
              "#d8576b"
             ],
             [
              0.6666666666666666,
              "#ed7953"
             ],
             [
              0.7777777777777778,
              "#fb9f3a"
             ],
             [
              0.8888888888888888,
              "#fdca26"
             ],
             [
              1,
              "#f0f921"
             ]
            ],
            "type": "heatmapgl"
           }
          ],
          "histogram": [
           {
            "marker": {
             "colorbar": {
              "outlinewidth": 0,
              "ticks": ""
             }
            },
            "type": "histogram"
           }
          ],
          "histogram2d": [
           {
            "colorbar": {
             "outlinewidth": 0,
             "ticks": ""
            },
            "colorscale": [
             [
              0,
              "#0d0887"
             ],
             [
              0.1111111111111111,
              "#46039f"
             ],
             [
              0.2222222222222222,
              "#7201a8"
             ],
             [
              0.3333333333333333,
              "#9c179e"
             ],
             [
              0.4444444444444444,
              "#bd3786"
             ],
             [
              0.5555555555555556,
              "#d8576b"
             ],
             [
              0.6666666666666666,
              "#ed7953"
             ],
             [
              0.7777777777777778,
              "#fb9f3a"
             ],
             [
              0.8888888888888888,
              "#fdca26"
             ],
             [
              1,
              "#f0f921"
             ]
            ],
            "type": "histogram2d"
           }
          ],
          "histogram2dcontour": [
           {
            "colorbar": {
             "outlinewidth": 0,
             "ticks": ""
            },
            "colorscale": [
             [
              0,
              "#0d0887"
             ],
             [
              0.1111111111111111,
              "#46039f"
             ],
             [
              0.2222222222222222,
              "#7201a8"
             ],
             [
              0.3333333333333333,
              "#9c179e"
             ],
             [
              0.4444444444444444,
              "#bd3786"
             ],
             [
              0.5555555555555556,
              "#d8576b"
             ],
             [
              0.6666666666666666,
              "#ed7953"
             ],
             [
              0.7777777777777778,
              "#fb9f3a"
             ],
             [
              0.8888888888888888,
              "#fdca26"
             ],
             [
              1,
              "#f0f921"
             ]
            ],
            "type": "histogram2dcontour"
           }
          ],
          "mesh3d": [
           {
            "colorbar": {
             "outlinewidth": 0,
             "ticks": ""
            },
            "type": "mesh3d"
           }
          ],
          "parcoords": [
           {
            "line": {
             "colorbar": {
              "outlinewidth": 0,
              "ticks": ""
             }
            },
            "type": "parcoords"
           }
          ],
          "pie": [
           {
            "automargin": true,
            "type": "pie"
           }
          ],
          "scatter": [
           {
            "marker": {
             "colorbar": {
              "outlinewidth": 0,
              "ticks": ""
             }
            },
            "type": "scatter"
           }
          ],
          "scatter3d": [
           {
            "line": {
             "colorbar": {
              "outlinewidth": 0,
              "ticks": ""
             }
            },
            "marker": {
             "colorbar": {
              "outlinewidth": 0,
              "ticks": ""
             }
            },
            "type": "scatter3d"
           }
          ],
          "scattercarpet": [
           {
            "marker": {
             "colorbar": {
              "outlinewidth": 0,
              "ticks": ""
             }
            },
            "type": "scattercarpet"
           }
          ],
          "scattergeo": [
           {
            "marker": {
             "colorbar": {
              "outlinewidth": 0,
              "ticks": ""
             }
            },
            "type": "scattergeo"
           }
          ],
          "scattergl": [
           {
            "marker": {
             "colorbar": {
              "outlinewidth": 0,
              "ticks": ""
             }
            },
            "type": "scattergl"
           }
          ],
          "scattermapbox": [
           {
            "marker": {
             "colorbar": {
              "outlinewidth": 0,
              "ticks": ""
             }
            },
            "type": "scattermapbox"
           }
          ],
          "scatterpolar": [
           {
            "marker": {
             "colorbar": {
              "outlinewidth": 0,
              "ticks": ""
             }
            },
            "type": "scatterpolar"
           }
          ],
          "scatterpolargl": [
           {
            "marker": {
             "colorbar": {
              "outlinewidth": 0,
              "ticks": ""
             }
            },
            "type": "scatterpolargl"
           }
          ],
          "scatterternary": [
           {
            "marker": {
             "colorbar": {
              "outlinewidth": 0,
              "ticks": ""
             }
            },
            "type": "scatterternary"
           }
          ],
          "surface": [
           {
            "colorbar": {
             "outlinewidth": 0,
             "ticks": ""
            },
            "colorscale": [
             [
              0,
              "#0d0887"
             ],
             [
              0.1111111111111111,
              "#46039f"
             ],
             [
              0.2222222222222222,
              "#7201a8"
             ],
             [
              0.3333333333333333,
              "#9c179e"
             ],
             [
              0.4444444444444444,
              "#bd3786"
             ],
             [
              0.5555555555555556,
              "#d8576b"
             ],
             [
              0.6666666666666666,
              "#ed7953"
             ],
             [
              0.7777777777777778,
              "#fb9f3a"
             ],
             [
              0.8888888888888888,
              "#fdca26"
             ],
             [
              1,
              "#f0f921"
             ]
            ],
            "type": "surface"
           }
          ],
          "table": [
           {
            "cells": {
             "fill": {
              "color": "#EBF0F8"
             },
             "line": {
              "color": "white"
             }
            },
            "header": {
             "fill": {
              "color": "#C8D4E3"
             },
             "line": {
              "color": "white"
             }
            },
            "type": "table"
           }
          ]
         },
         "layout": {
          "annotationdefaults": {
           "arrowcolor": "#2a3f5f",
           "arrowhead": 0,
           "arrowwidth": 1
          },
          "coloraxis": {
           "colorbar": {
            "outlinewidth": 0,
            "ticks": ""
           }
          },
          "colorscale": {
           "diverging": [
            [
             0,
             "#8e0152"
            ],
            [
             0.1,
             "#c51b7d"
            ],
            [
             0.2,
             "#de77ae"
            ],
            [
             0.3,
             "#f1b6da"
            ],
            [
             0.4,
             "#fde0ef"
            ],
            [
             0.5,
             "#f7f7f7"
            ],
            [
             0.6,
             "#e6f5d0"
            ],
            [
             0.7,
             "#b8e186"
            ],
            [
             0.8,
             "#7fbc41"
            ],
            [
             0.9,
             "#4d9221"
            ],
            [
             1,
             "#276419"
            ]
           ],
           "sequential": [
            [
             0,
             "#0d0887"
            ],
            [
             0.1111111111111111,
             "#46039f"
            ],
            [
             0.2222222222222222,
             "#7201a8"
            ],
            [
             0.3333333333333333,
             "#9c179e"
            ],
            [
             0.4444444444444444,
             "#bd3786"
            ],
            [
             0.5555555555555556,
             "#d8576b"
            ],
            [
             0.6666666666666666,
             "#ed7953"
            ],
            [
             0.7777777777777778,
             "#fb9f3a"
            ],
            [
             0.8888888888888888,
             "#fdca26"
            ],
            [
             1,
             "#f0f921"
            ]
           ],
           "sequentialminus": [
            [
             0,
             "#0d0887"
            ],
            [
             0.1111111111111111,
             "#46039f"
            ],
            [
             0.2222222222222222,
             "#7201a8"
            ],
            [
             0.3333333333333333,
             "#9c179e"
            ],
            [
             0.4444444444444444,
             "#bd3786"
            ],
            [
             0.5555555555555556,
             "#d8576b"
            ],
            [
             0.6666666666666666,
             "#ed7953"
            ],
            [
             0.7777777777777778,
             "#fb9f3a"
            ],
            [
             0.8888888888888888,
             "#fdca26"
            ],
            [
             1,
             "#f0f921"
            ]
           ]
          },
          "colorway": [
           "#636efa",
           "#EF553B",
           "#00cc96",
           "#ab63fa",
           "#FFA15A",
           "#19d3f3",
           "#FF6692",
           "#B6E880",
           "#FF97FF",
           "#FECB52"
          ],
          "font": {
           "color": "#2a3f5f"
          },
          "geo": {
           "bgcolor": "white",
           "lakecolor": "white",
           "landcolor": "#E5ECF6",
           "showlakes": true,
           "showland": true,
           "subunitcolor": "white"
          },
          "hoverlabel": {
           "align": "left"
          },
          "hovermode": "closest",
          "mapbox": {
           "style": "light"
          },
          "paper_bgcolor": "white",
          "plot_bgcolor": "#E5ECF6",
          "polar": {
           "angularaxis": {
            "gridcolor": "white",
            "linecolor": "white",
            "ticks": ""
           },
           "bgcolor": "#E5ECF6",
           "radialaxis": {
            "gridcolor": "white",
            "linecolor": "white",
            "ticks": ""
           }
          },
          "scene": {
           "xaxis": {
            "backgroundcolor": "#E5ECF6",
            "gridcolor": "white",
            "gridwidth": 2,
            "linecolor": "white",
            "showbackground": true,
            "ticks": "",
            "zerolinecolor": "white"
           },
           "yaxis": {
            "backgroundcolor": "#E5ECF6",
            "gridcolor": "white",
            "gridwidth": 2,
            "linecolor": "white",
            "showbackground": true,
            "ticks": "",
            "zerolinecolor": "white"
           },
           "zaxis": {
            "backgroundcolor": "#E5ECF6",
            "gridcolor": "white",
            "gridwidth": 2,
            "linecolor": "white",
            "showbackground": true,
            "ticks": "",
            "zerolinecolor": "white"
           }
          },
          "shapedefaults": {
           "line": {
            "color": "#2a3f5f"
           }
          },
          "ternary": {
           "aaxis": {
            "gridcolor": "white",
            "linecolor": "white",
            "ticks": ""
           },
           "baxis": {
            "gridcolor": "white",
            "linecolor": "white",
            "ticks": ""
           },
           "bgcolor": "#E5ECF6",
           "caxis": {
            "gridcolor": "white",
            "linecolor": "white",
            "ticks": ""
           }
          },
          "title": {
           "x": 0.05
          },
          "xaxis": {
           "automargin": true,
           "gridcolor": "white",
           "linecolor": "white",
           "ticks": "",
           "title": {
            "standoff": 15
           },
           "zerolinecolor": "white",
           "zerolinewidth": 2
          },
          "yaxis": {
           "automargin": true,
           "gridcolor": "white",
           "linecolor": "white",
           "ticks": "",
           "title": {
            "standoff": 15
           },
           "zerolinecolor": "white",
           "zerolinewidth": 2
          }
         }
        }
       }
      },
      "text/html": [
       "<div>\n",
       "        \n",
       "        \n",
       "            <div id=\"b4d7adbf-5bfa-444b-a73f-ee59da6c0ca6\" class=\"plotly-graph-div\" style=\"height:525px; width:100%;\"></div>\n",
       "            <script type=\"text/javascript\">\n",
       "                require([\"plotly\"], function(Plotly) {\n",
       "                    window.PLOTLYENV=window.PLOTLYENV || {};\n",
       "                    \n",
       "                if (document.getElementById(\"b4d7adbf-5bfa-444b-a73f-ee59da6c0ca6\")) {\n",
       "                    Plotly.newPlot(\n",
       "                        'b4d7adbf-5bfa-444b-a73f-ee59da6c0ca6',\n",
       "                        [{\"branchvalues\": \"total\", \"customdata\": [[\"Generation X\"], [\"Generation X\"], [\"Generation Z\"], [\"G.I. Generation\"], [\"Boomers\"], [\"G.I. Generation\"], [\"Boomers\"], [\"Silent\"], [\"Generation X\"], [\"Generation Z\"], [\"Silent\"], [\"Boomers\"], [\"Generation X\"], [\"Silent\"], [\"Silent\"], [\"Silent\"], [\"Millenials\"], [\"Boomers\"], [\"Generation X\"], [\"Generation Z\"], [\"Millenials\"], [\"Generation X\"], [\"Silent\"], [\"Generation X\"], [\"Generation X\"], [\"Millenials\"], [\"Generation X\"], [\"Silent\"], [\"Millenials\"], [\"Millenials\"], [\"Silent\"], [\"Millenials\"], [\"Millenials\"], [\"Millenials\"], [\"Silent\"], [\"Millenials\"], [\"Generation X\"], [\"Boomers\"], [\"Generation X\"], [\"Boomers\"], [\"Millenials\"], [\"Boomers\"], [\"Millenials\"], [\"Generation X\"], [\"Millenials\"], [\"Silent\"], [\"Millenials\"], [\"Silent\"], [\"Generation X\"], [\"Millenials\"], [\"G.I. Generation\"], [\"Silent\"], [\"Silent\"], [\"Silent\"], [\"Boomers\"], [\"Boomers\"], [\"G.I. Generation\"], [\"Silent\"], [\"Millenials\"], [\"Generation X\"], [\"Generation Z\"], [\"Boomers\"], [\"Generation X\"], [\"Silent\"], [\"Millenials\"], [\"Boomers\"], [\"Generation X\"], [\"Boomers\"], [\"Generation X\"], [\"Boomers\"], [\"Silent\"], [\"Generation X\"], [\"Millenials\"], [\"Generation Z\"], [\"Millenials\"], [\"Millenials\"], [\"Millenials\"], [\"Boomers\"], [\"Boomers\"], [\"Boomers\"], [\"Generation X\"], [\"Millenials\"], [\"Silent\"], [\"Boomers\"], [\"Generation Z\"], [\"Silent\"], [\"G.I. Generation\"], [\"Generation X\"], [\"G.I. Generation\"], [\"Millenials\"], [\"Millenials\"], [\"Millenials\"], [\"Millenials\"], [\"Silent\"], [\"Generation X\"], [\"Generation X\"], [\"Millenials\"], [\"Boomers\"], [\"Generation X\"], [\"G.I. Generation\"], [\"Generation X\"], [\"Silent\"], [\"Boomers\"], [\"G.I. Generation\"], [\"G.I. Generation\"], [\"Silent\"], [\"Millenials\"], [\"Generation X\"], [\"Silent\"], [\"Generation X\"], [\"Silent\"], [\"Silent\"], [\"Boomers\"], [\"Boomers\"], [\"Boomers\"], [\"Millenials\"], [\"Millenials\"], [\"Millenials\"], [\"Silent\"], [\"Boomers\"], [\"Generation Z\"], [\"Generation Z\"], [\"Boomers\"], [\"Boomers\"], [\"Generation X\"], [\"Millenials\"], [\"Generation X\"], [\"Boomers\"], [\"Generation X\"], [\"Millenials\"], [\"Generation X\"], [\"Generation X\"], [\"Generation X\"], [\"Silent\"], [\"Millenials\"], [\"Generation X\"], [\"Generation Z\"], [\"Generation X\"], [\"Millenials\"], [\"Silent\"], [\"Generation Z\"], [\"Millenials\"], [\"G.I. Generation\"], [\"Boomers\"], [\"Millenials\"], [\"Generation X\"], [\"Boomers\"], [\"Silent\"], [\"Silent\"], [\"Silent\"], [\"G.I. Generation\"], [\"Silent\"], [\"Silent\"], [\"Boomers\"], [\"G.I. Generation\"], [\"Boomers\"], [\"Silent\"], [\"Silent\"], [\"Silent\"], [\"Generation X\"], [\"Silent\"], [\"Boomers\"], [\"G.I. Generation\"], [\"Silent\"], [\"Generation Z\"], [\"Silent\"]], \"domain\": {\"x\": [0.0, 1.0], \"y\": [0.0, 1.0]}, \"hovertemplate\": \"generation=%{customdata[0]}<br>labels=%{label}<br>suicides_no=%{value}<br>parent=%{parent}<br>id=%{id}<extra></extra>\", \"ids\": [\"Generation X/2010/25-34 years\", \"Generation X/2000\", \"Generation Z/2010\", \"G.I. Generation/1999/75+ years\", \"Boomers/2007\", \"G.I. Generation/1993/75+ years\", \"Boomers/1997/35-54 years\", \"Silent/2001\", \"Generation X/2001/25-34 years\", \"Generation Z/2009\", \"Silent/2003/55-74 years\", \"Boomers/2007/35-54 years\", \"Generation X/2011/35-54 years\", \"Silent/1999/55-74 years\", \"Silent/2007\", \"Silent/1993\", \"Millenials/2002/5-14 years\", \"Boomers/2003\", \"Generation X/1999/25-34 years\", \"Generation Z/2009/5-14 years\", \"Millenials/1992\", \"Generation X/1997/25-34 years\", \"Silent/2010/75+ years\", \"Generation X/1997/15-24 years\", \"Generation X/1999\", \"Millenials/2010/15-24 years\", \"Generation X/1999/15-24 years\", \"Silent/1997\", \"Millenials/2006/15-24 years\", \"Millenials/2002/15-24 years\", \"Silent/1992/55-74 years\", \"Millenials/2003/5-14 years\", \"Millenials/1998/5-14 years\", \"Millenials/1992/5-14 years\", \"Silent/2000/55-74 years\", \"Millenials/2001/15-24 years\", \"Generation X/1992/15-24 years\", \"Boomers/1993/25-34 years\", \"Generation X/2006/25-34 years\", \"Boomers/1993/35-54 years\", \"Millenials/2009/15-24 years\", \"Boomers/2001/35-54 years\", \"Millenials/2002\", \"Generation X/2006\", \"Millenials/1997\", \"Silent/1997/55-74 years\", \"Millenials\", \"Silent/1998/55-74 years\", \"Generation X/1993\", \"Millenials/2001\", \"G.I. Generation/1992\", \"Silent/2001/55-74 years\", \"Silent/2002/55-74 years\", \"Silent/1998\", \"Boomers/2011/55-74 years\", \"Boomers/2000\", \"G.I. Generation/2000/75+ years\", \"Silent/2007/75+ years\", \"Millenials/2000/5-14 years\", \"Generation X/2009/25-34 years\", \"Generation Z/2011\", \"Boomers\", \"Generation X/2007/25-34 years\", \"Silent/2009\", \"Millenials/2011/25-34 years\", \"Boomers/1992/35-54 years\", \"Generation X/2000/15-24 years\", \"Boomers/1992/25-34 years\", \"Generation X\", \"Boomers/2002/35-54 years\", \"Silent/2008\", \"Generation X/1998/15-24 years\", \"Millenials/2007\", \"Generation Z/2007/5-14 years\", \"Millenials/2006/5-14 years\", \"Millenials/2001/5-14 years\", \"Millenials/2011/15-24 years\", \"Boomers/2009/35-54 years\", \"Boomers/2008/35-54 years\", \"Boomers/2006/35-54 years\", \"Generation X/2008\", \"Millenials/2003\", \"Silent/2010\", \"Boomers/2011\", \"Generation Z/2008\", \"Silent/2003\", \"G.I. Generation/1998\", \"Generation X/1998\", \"G.I. Generation\", \"Millenials/2011\", \"Millenials/2006\", \"Millenials/1999\", \"Millenials/2000\", \"Silent/2000\", \"Generation X/2007\", \"Generation X/2001\", \"Millenials/2009\", \"Boomers/2009\", \"Generation X/2002\", \"G.I. Generation/1999\", \"Generation X/1997\", \"Silent/2002/75+ years\", \"Boomers/1997\", \"G.I. Generation/1992/75+ years\", \"G.I. Generation/1997/75+ years\", \"Silent/2008/55-74 years\", \"Millenials/1997/5-14 years\", \"Generation X/2003/25-34 years\", \"Silent/2003/75+ years\", \"Generation X/2002/25-34 years\", \"Silent/2008/75+ years\", \"Silent/2007/55-74 years\", \"Boomers/2000/35-54 years\", \"Boomers/1999/35-54 years\", \"Boomers/1992\", \"Millenials/2008/15-24 years\", \"Millenials/1993/5-14 years\", \"Millenials/2007/15-24 years\", \"Silent/1992\", \"Boomers/1993\", \"Generation Z/2011/5-14 years\", \"Generation Z/2010/5-14 years\", \"Boomers/2003/35-54 years\", \"Boomers/2008\", \"Generation X/2010/35-54 years\", \"Millenials/2008\", \"Generation X/2010\", \"Boomers/1998/35-54 years\", \"Generation X/2008/25-34 years\", \"Millenials/2010\", \"Generation X/2000/25-34 years\", \"Generation X/2011\", \"Generation X/1998/25-34 years\", \"Silent/2011\", \"Millenials/2003/15-24 years\", \"Generation X/1993/15-24 years\", \"Generation Z\", \"Generation X/2009\", \"Millenials/1999/5-14 years\", \"Silent/1993/55-74 years\", \"Generation Z/2008/5-14 years\", \"Millenials/1993\", \"G.I. Generation/1993\", \"Boomers/1998\", \"Millenials/1998\", \"Generation X/1992\", \"Boomers/1999\", \"Silent/2011/75+ years\", \"Silent/2009/75+ years\", \"Silent/1999\", \"G.I. Generation/2000\", \"Silent/2006/75+ years\", \"Silent/2001/75+ years\", \"Boomers/2001\", \"G.I. Generation/1998/75+ years\", \"Boomers/2002\", \"Silent/2010/55-74 years\", \"Silent/2009/55-74 years\", \"Silent/2002\", \"Generation X/2003\", \"Silent/2006/55-74 years\", \"Boomers/2006\", \"G.I. Generation/1997\", \"Silent/2006\", \"Generation Z/2007\", \"Silent\"], \"labels\": [\"25-34 years\", \"2000\", \"2010\", \"75+ years\", \"2007\", \"75+ years\", \"35-54 years\", \"2001\", \"25-34 years\", \"2009\", \"55-74 years\", \"35-54 years\", \"35-54 years\", \"55-74 years\", \"2007\", \"1993\", \"5-14 years\", \"2003\", \"25-34 years\", \"5-14 years\", \"1992\", \"25-34 years\", \"75+ years\", \"15-24 years\", \"1999\", \"15-24 years\", \"15-24 years\", \"1997\", \"15-24 years\", \"15-24 years\", \"55-74 years\", \"5-14 years\", \"5-14 years\", \"5-14 years\", \"55-74 years\", \"15-24 years\", \"15-24 years\", \"25-34 years\", \"25-34 years\", \"35-54 years\", \"15-24 years\", \"35-54 years\", \"2002\", \"2006\", \"1997\", \"55-74 years\", \"Millenials\", \"55-74 years\", \"1993\", \"2001\", \"1992\", \"55-74 years\", \"55-74 years\", \"1998\", \"55-74 years\", \"2000\", \"75+ years\", \"75+ years\", \"5-14 years\", \"25-34 years\", \"2011\", \"Boomers\", \"25-34 years\", \"2009\", \"25-34 years\", \"35-54 years\", \"15-24 years\", \"25-34 years\", \"Generation X\", \"35-54 years\", \"2008\", \"15-24 years\", \"2007\", \"5-14 years\", \"5-14 years\", \"5-14 years\", \"15-24 years\", \"35-54 years\", \"35-54 years\", \"35-54 years\", \"2008\", \"2003\", \"2010\", \"2011\", \"2008\", \"2003\", \"1998\", \"1998\", \"G.I. Generation\", \"2011\", \"2006\", \"1999\", \"2000\", \"2000\", \"2007\", \"2001\", \"2009\", \"2009\", \"2002\", \"1999\", \"1997\", \"75+ years\", \"1997\", \"75+ years\", \"75+ years\", \"55-74 years\", \"5-14 years\", \"25-34 years\", \"75+ years\", \"25-34 years\", \"75+ years\", \"55-74 years\", \"35-54 years\", \"35-54 years\", \"1992\", \"15-24 years\", \"5-14 years\", \"15-24 years\", \"1992\", \"1993\", \"5-14 years\", \"5-14 years\", \"35-54 years\", \"2008\", \"35-54 years\", \"2008\", \"2010\", \"35-54 years\", \"25-34 years\", \"2010\", \"25-34 years\", \"2011\", \"25-34 years\", \"2011\", \"15-24 years\", \"15-24 years\", \"Generation Z\", \"2009\", \"5-14 years\", \"55-74 years\", \"5-14 years\", \"1993\", \"1993\", \"1998\", \"1998\", \"1992\", \"1999\", \"75+ years\", \"75+ years\", \"1999\", \"2000\", \"75+ years\", \"75+ years\", \"2001\", \"75+ years\", \"2002\", \"55-74 years\", \"55-74 years\", \"2002\", \"2003\", \"55-74 years\", \"2006\", \"1997\", \"2006\", \"2007\", \"Silent\"], \"marker\": {\"colors\": [\"#636efa\", \"#636efa\", \"#EF553B\", \"#00cc96\", \"#ab63fa\", \"#00cc96\", \"#ab63fa\", \"#FFA15A\", \"#636efa\", \"#EF553B\", \"#FFA15A\", \"#ab63fa\", \"#636efa\", \"#FFA15A\", \"#FFA15A\", \"#FFA15A\", \"#19d3f3\", \"#ab63fa\", \"#636efa\", \"#EF553B\", \"#19d3f3\", \"#636efa\", \"#FFA15A\", \"#636efa\", \"#636efa\", \"#19d3f3\", \"#636efa\", \"#FFA15A\", \"#19d3f3\", \"#19d3f3\", \"#FFA15A\", \"#19d3f3\", \"#19d3f3\", \"#19d3f3\", \"#FFA15A\", \"#19d3f3\", \"#636efa\", \"#ab63fa\", \"#636efa\", \"#ab63fa\", \"#19d3f3\", \"#ab63fa\", \"#19d3f3\", \"#636efa\", \"#19d3f3\", \"#FFA15A\", \"#19d3f3\", \"#FFA15A\", \"#636efa\", \"#19d3f3\", \"#00cc96\", \"#FFA15A\", \"#FFA15A\", \"#FFA15A\", \"#ab63fa\", \"#ab63fa\", \"#00cc96\", \"#FFA15A\", \"#19d3f3\", \"#636efa\", \"#EF553B\", \"#ab63fa\", \"#636efa\", \"#FFA15A\", \"#19d3f3\", \"#ab63fa\", \"#636efa\", \"#ab63fa\", \"#636efa\", \"#ab63fa\", \"#FFA15A\", \"#636efa\", \"#19d3f3\", \"#EF553B\", \"#19d3f3\", \"#19d3f3\", \"#19d3f3\", \"#ab63fa\", \"#ab63fa\", \"#ab63fa\", \"#636efa\", \"#19d3f3\", \"#FFA15A\", \"#ab63fa\", \"#EF553B\", \"#FFA15A\", \"#00cc96\", \"#636efa\", \"#00cc96\", \"#19d3f3\", \"#19d3f3\", \"#19d3f3\", \"#19d3f3\", \"#FFA15A\", \"#636efa\", \"#636efa\", \"#19d3f3\", \"#ab63fa\", \"#636efa\", \"#00cc96\", \"#636efa\", \"#FFA15A\", \"#ab63fa\", \"#00cc96\", \"#00cc96\", \"#FFA15A\", \"#19d3f3\", \"#636efa\", \"#FFA15A\", \"#636efa\", \"#FFA15A\", \"#FFA15A\", \"#ab63fa\", \"#ab63fa\", \"#ab63fa\", \"#19d3f3\", \"#19d3f3\", \"#19d3f3\", \"#FFA15A\", \"#ab63fa\", \"#EF553B\", \"#EF553B\", \"#ab63fa\", \"#ab63fa\", \"#636efa\", \"#19d3f3\", \"#636efa\", \"#ab63fa\", \"#636efa\", \"#19d3f3\", \"#636efa\", \"#636efa\", \"#636efa\", \"#FFA15A\", \"#19d3f3\", \"#636efa\", \"#EF553B\", \"#636efa\", \"#19d3f3\", \"#FFA15A\", \"#EF553B\", \"#19d3f3\", \"#00cc96\", \"#ab63fa\", \"#19d3f3\", \"#636efa\", \"#ab63fa\", \"#FFA15A\", \"#FFA15A\", \"#FFA15A\", \"#00cc96\", \"#FFA15A\", \"#FFA15A\", \"#ab63fa\", \"#00cc96\", \"#ab63fa\", \"#FFA15A\", \"#FFA15A\", \"#FFA15A\", \"#636efa\", \"#FFA15A\", \"#ab63fa\", \"#00cc96\", \"#FFA15A\", \"#EF553B\", \"#FFA15A\"]}, \"name\": \"\", \"parents\": [\"Generation X/2010\", \"Generation X\", \"Generation Z\", \"G.I. Generation/1999\", \"Boomers\", \"G.I. Generation/1993\", \"Boomers/1997\", \"Silent\", \"Generation X/2001\", \"Generation Z\", \"Silent/2003\", \"Boomers/2007\", \"Generation X/2011\", \"Silent/1999\", \"Silent\", \"Silent\", \"Millenials/2002\", \"Boomers\", \"Generation X/1999\", \"Generation Z/2009\", \"Millenials\", \"Generation X/1997\", \"Silent/2010\", \"Generation X/1997\", \"Generation X\", \"Millenials/2010\", \"Generation X/1999\", \"Silent\", \"Millenials/2006\", \"Millenials/2002\", \"Silent/1992\", \"Millenials/2003\", \"Millenials/1998\", \"Millenials/1992\", \"Silent/2000\", \"Millenials/2001\", \"Generation X/1992\", \"Boomers/1993\", \"Generation X/2006\", \"Boomers/1993\", \"Millenials/2009\", \"Boomers/2001\", \"Millenials\", \"Generation X\", \"Millenials\", \"Silent/1997\", \"\", \"Silent/1998\", \"Generation X\", \"Millenials\", \"G.I. Generation\", \"Silent/2001\", \"Silent/2002\", \"Silent\", \"Boomers/2011\", \"Boomers\", \"G.I. Generation/2000\", \"Silent/2007\", \"Millenials/2000\", \"Generation X/2009\", \"Generation Z\", \"\", \"Generation X/2007\", \"Silent\", \"Millenials/2011\", \"Boomers/1992\", \"Generation X/2000\", \"Boomers/1992\", \"\", \"Boomers/2002\", \"Silent\", \"Generation X/1998\", \"Millenials\", \"Generation Z/2007\", \"Millenials/2006\", \"Millenials/2001\", \"Millenials/2011\", \"Boomers/2009\", \"Boomers/2008\", \"Boomers/2006\", \"Generation X\", \"Millenials\", \"Silent\", \"Boomers\", \"Generation Z\", \"Silent\", \"G.I. Generation\", \"Generation X\", \"\", \"Millenials\", \"Millenials\", \"Millenials\", \"Millenials\", \"Silent\", \"Generation X\", \"Generation X\", \"Millenials\", \"Boomers\", \"Generation X\", \"G.I. Generation\", \"Generation X\", \"Silent/2002\", \"Boomers\", \"G.I. Generation/1992\", \"G.I. Generation/1997\", \"Silent/2008\", \"Millenials/1997\", \"Generation X/2003\", \"Silent/2003\", \"Generation X/2002\", \"Silent/2008\", \"Silent/2007\", \"Boomers/2000\", \"Boomers/1999\", \"Boomers\", \"Millenials/2008\", \"Millenials/1993\", \"Millenials/2007\", \"Silent\", \"Boomers\", \"Generation Z/2011\", \"Generation Z/2010\", \"Boomers/2003\", \"Boomers\", \"Generation X/2010\", \"Millenials\", \"Generation X\", \"Boomers/1998\", \"Generation X/2008\", \"Millenials\", \"Generation X/2000\", \"Generation X\", \"Generation X/1998\", \"Silent\", \"Millenials/2003\", \"Generation X/1993\", \"\", \"Generation X\", \"Millenials/1999\", \"Silent/1993\", \"Generation Z/2008\", \"Millenials\", \"G.I. Generation\", \"Boomers\", \"Millenials\", \"Generation X\", \"Boomers\", \"Silent/2011\", \"Silent/2009\", \"Silent\", \"G.I. Generation\", \"Silent/2006\", \"Silent/2001\", \"Boomers\", \"G.I. Generation/1998\", \"Boomers\", \"Silent/2010\", \"Silent/2009\", \"Silent\", \"Generation X\", \"Silent/2006\", \"Boomers\", \"G.I. Generation\", \"Silent\", \"Generation Z\", \"\"], \"type\": \"sunburst\", \"values\": [501, 801, 52, 27, 485, 19, 202, 162, 294, 38, 133, 485, 680, 100, 198, 61, 37, 426, 260, 38, 0, 242, 52, 251, 613, 721, 353, 86, 546, 460, 33, 35, 26, 0, 148, 414, 143, 240, 460, 182, 707, 314, 497, 460, 16, 86, 6144, 92, 344, 434, 8, 138, 120, 92, 266, 392, 30, 24, 32, 484, 73, 5048, 393, 263, 590, 81, 436, 82, 7505, 325, 216, 276, 588, 34, 63, 20, 762, 582, 495, 475, 451, 529, 266, 266, 46, 171, 20, 526, 121, 1352, 609, 21, 32, 148, 393, 294, 707, 582, 328, 27, 493, 31, 202, 8, 17, 175, 16, 418, 38, 328, 41, 174, 392, 282, 163, 612, 0, 588, 33, 422, 73, 52, 426, 495, 576, 612, 1077, 219, 451, 721, 365, 680, 250, 78, 494, 344, 243, 484, 21, 61, 46, 0, 19, 219, 26, 143, 282, 78, 36, 100, 30, 43, 24, 314, 20, 325, 214, 227, 151, 418, 201, 475, 17, 244, 34, 2269]}],\n",
       "                        {\"legend\": {\"tracegroupgap\": 0}, \"margin\": {\"t\": 60}, \"template\": {\"data\": {\"bar\": [{\"error_x\": {\"color\": \"#2a3f5f\"}, \"error_y\": {\"color\": \"#2a3f5f\"}, \"marker\": {\"line\": {\"color\": \"#E5ECF6\", \"width\": 0.5}}, \"type\": \"bar\"}], \"barpolar\": [{\"marker\": {\"line\": {\"color\": \"#E5ECF6\", \"width\": 0.5}}, \"type\": \"barpolar\"}], \"carpet\": [{\"aaxis\": {\"endlinecolor\": \"#2a3f5f\", \"gridcolor\": \"white\", \"linecolor\": \"white\", \"minorgridcolor\": \"white\", \"startlinecolor\": \"#2a3f5f\"}, \"baxis\": {\"endlinecolor\": \"#2a3f5f\", \"gridcolor\": \"white\", \"linecolor\": \"white\", \"minorgridcolor\": \"white\", \"startlinecolor\": \"#2a3f5f\"}, \"type\": \"carpet\"}], \"choropleth\": [{\"colorbar\": {\"outlinewidth\": 0, \"ticks\": \"\"}, \"type\": \"choropleth\"}], \"contour\": [{\"colorbar\": {\"outlinewidth\": 0, \"ticks\": \"\"}, \"colorscale\": [[0.0, \"#0d0887\"], [0.1111111111111111, \"#46039f\"], [0.2222222222222222, \"#7201a8\"], [0.3333333333333333, \"#9c179e\"], [0.4444444444444444, \"#bd3786\"], [0.5555555555555556, \"#d8576b\"], [0.6666666666666666, \"#ed7953\"], [0.7777777777777778, \"#fb9f3a\"], [0.8888888888888888, \"#fdca26\"], [1.0, \"#f0f921\"]], \"type\": \"contour\"}], \"contourcarpet\": [{\"colorbar\": {\"outlinewidth\": 0, \"ticks\": \"\"}, \"type\": \"contourcarpet\"}], \"heatmap\": [{\"colorbar\": {\"outlinewidth\": 0, \"ticks\": \"\"}, \"colorscale\": [[0.0, \"#0d0887\"], [0.1111111111111111, \"#46039f\"], [0.2222222222222222, \"#7201a8\"], [0.3333333333333333, \"#9c179e\"], [0.4444444444444444, \"#bd3786\"], [0.5555555555555556, \"#d8576b\"], [0.6666666666666666, \"#ed7953\"], [0.7777777777777778, \"#fb9f3a\"], [0.8888888888888888, \"#fdca26\"], [1.0, \"#f0f921\"]], \"type\": \"heatmap\"}], \"heatmapgl\": [{\"colorbar\": {\"outlinewidth\": 0, \"ticks\": \"\"}, \"colorscale\": [[0.0, \"#0d0887\"], [0.1111111111111111, \"#46039f\"], [0.2222222222222222, \"#7201a8\"], [0.3333333333333333, \"#9c179e\"], [0.4444444444444444, \"#bd3786\"], [0.5555555555555556, \"#d8576b\"], [0.6666666666666666, \"#ed7953\"], [0.7777777777777778, \"#fb9f3a\"], [0.8888888888888888, \"#fdca26\"], [1.0, \"#f0f921\"]], \"type\": \"heatmapgl\"}], \"histogram\": [{\"marker\": {\"colorbar\": {\"outlinewidth\": 0, \"ticks\": \"\"}}, \"type\": \"histogram\"}], \"histogram2d\": [{\"colorbar\": {\"outlinewidth\": 0, \"ticks\": \"\"}, \"colorscale\": [[0.0, \"#0d0887\"], [0.1111111111111111, \"#46039f\"], [0.2222222222222222, \"#7201a8\"], [0.3333333333333333, \"#9c179e\"], [0.4444444444444444, \"#bd3786\"], [0.5555555555555556, \"#d8576b\"], [0.6666666666666666, \"#ed7953\"], [0.7777777777777778, \"#fb9f3a\"], [0.8888888888888888, \"#fdca26\"], [1.0, \"#f0f921\"]], \"type\": \"histogram2d\"}], \"histogram2dcontour\": [{\"colorbar\": {\"outlinewidth\": 0, \"ticks\": \"\"}, \"colorscale\": [[0.0, \"#0d0887\"], [0.1111111111111111, \"#46039f\"], [0.2222222222222222, \"#7201a8\"], [0.3333333333333333, \"#9c179e\"], [0.4444444444444444, \"#bd3786\"], [0.5555555555555556, \"#d8576b\"], [0.6666666666666666, \"#ed7953\"], [0.7777777777777778, \"#fb9f3a\"], [0.8888888888888888, \"#fdca26\"], [1.0, \"#f0f921\"]], \"type\": \"histogram2dcontour\"}], \"mesh3d\": [{\"colorbar\": {\"outlinewidth\": 0, \"ticks\": \"\"}, \"type\": \"mesh3d\"}], \"parcoords\": [{\"line\": {\"colorbar\": {\"outlinewidth\": 0, \"ticks\": \"\"}}, \"type\": \"parcoords\"}], \"pie\": [{\"automargin\": true, \"type\": \"pie\"}], \"scatter\": [{\"marker\": {\"colorbar\": {\"outlinewidth\": 0, \"ticks\": \"\"}}, \"type\": \"scatter\"}], \"scatter3d\": [{\"line\": {\"colorbar\": {\"outlinewidth\": 0, \"ticks\": \"\"}}, \"marker\": {\"colorbar\": {\"outlinewidth\": 0, \"ticks\": \"\"}}, \"type\": \"scatter3d\"}], \"scattercarpet\": [{\"marker\": {\"colorbar\": {\"outlinewidth\": 0, \"ticks\": \"\"}}, \"type\": \"scattercarpet\"}], \"scattergeo\": [{\"marker\": {\"colorbar\": {\"outlinewidth\": 0, \"ticks\": \"\"}}, \"type\": \"scattergeo\"}], \"scattergl\": [{\"marker\": {\"colorbar\": {\"outlinewidth\": 0, \"ticks\": \"\"}}, \"type\": \"scattergl\"}], \"scattermapbox\": [{\"marker\": {\"colorbar\": {\"outlinewidth\": 0, \"ticks\": \"\"}}, \"type\": \"scattermapbox\"}], \"scatterpolar\": [{\"marker\": {\"colorbar\": {\"outlinewidth\": 0, \"ticks\": \"\"}}, \"type\": \"scatterpolar\"}], \"scatterpolargl\": [{\"marker\": {\"colorbar\": {\"outlinewidth\": 0, \"ticks\": \"\"}}, \"type\": \"scatterpolargl\"}], \"scatterternary\": [{\"marker\": {\"colorbar\": {\"outlinewidth\": 0, \"ticks\": \"\"}}, \"type\": \"scatterternary\"}], \"surface\": [{\"colorbar\": {\"outlinewidth\": 0, \"ticks\": \"\"}, \"colorscale\": [[0.0, \"#0d0887\"], [0.1111111111111111, \"#46039f\"], [0.2222222222222222, \"#7201a8\"], [0.3333333333333333, \"#9c179e\"], [0.4444444444444444, \"#bd3786\"], [0.5555555555555556, \"#d8576b\"], [0.6666666666666666, \"#ed7953\"], [0.7777777777777778, \"#fb9f3a\"], [0.8888888888888888, \"#fdca26\"], [1.0, \"#f0f921\"]], \"type\": \"surface\"}], \"table\": [{\"cells\": {\"fill\": {\"color\": \"#EBF0F8\"}, \"line\": {\"color\": \"white\"}}, \"header\": {\"fill\": {\"color\": \"#C8D4E3\"}, \"line\": {\"color\": \"white\"}}, \"type\": \"table\"}]}, \"layout\": {\"annotationdefaults\": {\"arrowcolor\": \"#2a3f5f\", \"arrowhead\": 0, \"arrowwidth\": 1}, \"coloraxis\": {\"colorbar\": {\"outlinewidth\": 0, \"ticks\": \"\"}}, \"colorscale\": {\"diverging\": [[0, \"#8e0152\"], [0.1, \"#c51b7d\"], [0.2, \"#de77ae\"], [0.3, \"#f1b6da\"], [0.4, \"#fde0ef\"], [0.5, \"#f7f7f7\"], [0.6, \"#e6f5d0\"], [0.7, \"#b8e186\"], [0.8, \"#7fbc41\"], [0.9, \"#4d9221\"], [1, \"#276419\"]], \"sequential\": [[0.0, \"#0d0887\"], [0.1111111111111111, \"#46039f\"], [0.2222222222222222, \"#7201a8\"], [0.3333333333333333, \"#9c179e\"], [0.4444444444444444, \"#bd3786\"], [0.5555555555555556, \"#d8576b\"], [0.6666666666666666, \"#ed7953\"], [0.7777777777777778, \"#fb9f3a\"], [0.8888888888888888, \"#fdca26\"], [1.0, \"#f0f921\"]], \"sequentialminus\": [[0.0, \"#0d0887\"], [0.1111111111111111, \"#46039f\"], [0.2222222222222222, \"#7201a8\"], [0.3333333333333333, \"#9c179e\"], [0.4444444444444444, \"#bd3786\"], [0.5555555555555556, \"#d8576b\"], [0.6666666666666666, \"#ed7953\"], [0.7777777777777778, \"#fb9f3a\"], [0.8888888888888888, \"#fdca26\"], [1.0, \"#f0f921\"]]}, \"colorway\": [\"#636efa\", \"#EF553B\", \"#00cc96\", \"#ab63fa\", \"#FFA15A\", \"#19d3f3\", \"#FF6692\", \"#B6E880\", \"#FF97FF\", \"#FECB52\"], \"font\": {\"color\": \"#2a3f5f\"}, \"geo\": {\"bgcolor\": \"white\", \"lakecolor\": \"white\", \"landcolor\": \"#E5ECF6\", \"showlakes\": true, \"showland\": true, \"subunitcolor\": \"white\"}, \"hoverlabel\": {\"align\": \"left\"}, \"hovermode\": \"closest\", \"mapbox\": {\"style\": \"light\"}, \"paper_bgcolor\": \"white\", \"plot_bgcolor\": \"#E5ECF6\", \"polar\": {\"angularaxis\": {\"gridcolor\": \"white\", \"linecolor\": \"white\", \"ticks\": \"\"}, \"bgcolor\": \"#E5ECF6\", \"radialaxis\": {\"gridcolor\": \"white\", \"linecolor\": \"white\", \"ticks\": \"\"}}, \"scene\": {\"xaxis\": {\"backgroundcolor\": \"#E5ECF6\", \"gridcolor\": \"white\", \"gridwidth\": 2, \"linecolor\": \"white\", \"showbackground\": true, \"ticks\": \"\", \"zerolinecolor\": \"white\"}, \"yaxis\": {\"backgroundcolor\": \"#E5ECF6\", \"gridcolor\": \"white\", \"gridwidth\": 2, \"linecolor\": \"white\", \"showbackground\": true, \"ticks\": \"\", \"zerolinecolor\": \"white\"}, \"zaxis\": {\"backgroundcolor\": \"#E5ECF6\", \"gridcolor\": \"white\", \"gridwidth\": 2, \"linecolor\": \"white\", \"showbackground\": true, \"ticks\": \"\", \"zerolinecolor\": \"white\"}}, \"shapedefaults\": {\"line\": {\"color\": \"#2a3f5f\"}}, \"ternary\": {\"aaxis\": {\"gridcolor\": \"white\", \"linecolor\": \"white\", \"ticks\": \"\"}, \"baxis\": {\"gridcolor\": \"white\", \"linecolor\": \"white\", \"ticks\": \"\"}, \"bgcolor\": \"#E5ECF6\", \"caxis\": {\"gridcolor\": \"white\", \"linecolor\": \"white\", \"ticks\": \"\"}}, \"title\": {\"x\": 0.05}, \"xaxis\": {\"automargin\": true, \"gridcolor\": \"white\", \"linecolor\": \"white\", \"ticks\": \"\", \"title\": {\"standoff\": 15}, \"zerolinecolor\": \"white\", \"zerolinewidth\": 2}, \"yaxis\": {\"automargin\": true, \"gridcolor\": \"white\", \"linecolor\": \"white\", \"ticks\": \"\", \"title\": {\"standoff\": 15}, \"zerolinecolor\": \"white\", \"zerolinewidth\": 2}}}},\n",
       "                        {\"responsive\": true}\n",
       "                    ).then(function(){\n",
       "                            \n",
       "var gd = document.getElementById('b4d7adbf-5bfa-444b-a73f-ee59da6c0ca6');\n",
       "var x = new MutationObserver(function (mutations, observer) {{\n",
       "        var display = window.getComputedStyle(gd).display;\n",
       "        if (!display || display === 'none') {{\n",
       "            console.log([gd, 'removed!']);\n",
       "            Plotly.purge(gd);\n",
       "            observer.disconnect();\n",
       "        }}\n",
       "}});\n",
       "\n",
       "// Listen for the removal of the full notebook cells\n",
       "var notebookContainer = gd.closest('#notebook-container');\n",
       "if (notebookContainer) {{\n",
       "    x.observe(notebookContainer, {childList: true});\n",
       "}}\n",
       "\n",
       "// Listen for the clearing of the current output cell\n",
       "var outputEl = gd.closest('.output');\n",
       "if (outputEl) {{\n",
       "    x.observe(outputEl, {childList: true});\n",
       "}}\n",
       "\n",
       "                        })\n",
       "                };\n",
       "                });\n",
       "            </script>\n",
       "        </div>"
      ]
     },
     "metadata": {},
     "output_type": "display_data"
    }
   ],
   "source": [
    "fig = px.sunburst(ph_data, path=['generation', 'year', 'age'], values='suicides_no', color='generation')\n",
    "fig.show()"
   ]
  },
  {
   "cell_type": "code",
   "execution_count": 63,
   "metadata": {},
   "outputs": [
    {
     "data": {
      "text/plain": [
       "array(['75+ years', '55-74 years', '25-34 years', '15-24 years',\n",
       "       '35-54 years', '5-14 years'], dtype=object)"
      ]
     },
     "execution_count": 63,
     "metadata": {},
     "output_type": "execute_result"
    }
   ],
   "source": [
    "ph_data.age.unique()"
   ]
  },
  {
   "cell_type": "code",
   "execution_count": 81,
   "metadata": {},
   "outputs": [],
   "source": [
    "agg_data = ph_data.groupby(['year', 'age']).sum().reset_index()"
   ]
  },
  {
   "cell_type": "code",
   "execution_count": 82,
   "metadata": {},
   "outputs": [
    {
     "data": {
      "application/vnd.plotly.v1+json": {
       "config": {
        "plotlyServerURL": "https://plot.ly"
       },
       "data": [
        {
         "hovertemplate": "<b>%{hovertext}</b><br><br>age=15-24 years<br>year=%{x}<br>suicides_no=%{y}<br>gdp_per_capita ($)=%{marker.size}<extra></extra>",
         "hovertext": [
          "15-24 years",
          "15-24 years",
          "15-24 years",
          "15-24 years",
          "15-24 years",
          "15-24 years",
          "15-24 years",
          "15-24 years",
          "15-24 years",
          "15-24 years",
          "15-24 years",
          "15-24 years",
          "15-24 years",
          "15-24 years",
          "15-24 years"
         ],
         "legendgroup": "15-24 years",
         "marker": {
          "color": "#636efa",
          "size": [
           1916,
           1914,
           2624,
           2248,
           2524,
           2410,
           2218,
           2316,
           2338,
           3198,
           3830,
           4376,
           4146,
           4824,
           5324
          ],
          "sizemode": "area",
          "sizeref": 1.478888888888889,
          "symbol": "circle"
         },
         "mode": "markers",
         "name": "15-24 years",
         "showlegend": true,
         "type": "scatter",
         "x": [
          1992,
          1993,
          1997,
          1998,
          1999,
          2000,
          2001,
          2002,
          2003,
          2006,
          2007,
          2008,
          2009,
          2010,
          2011
         ],
         "xaxis": "x",
         "y": [
          143,
          344,
          251,
          276,
          353,
          436,
          414,
          460,
          494,
          546,
          588,
          612,
          707,
          721,
          762
         ],
         "yaxis": "y"
        },
        {
         "hovertemplate": "<b>%{hovertext}</b><br><br>age=25-34 years<br>year=%{x}<br>suicides_no=%{y}<br>gdp_per_capita ($)=%{marker.size}<extra></extra>",
         "hovertext": [
          "25-34 years",
          "25-34 years",
          "25-34 years",
          "25-34 years",
          "25-34 years",
          "25-34 years",
          "25-34 years",
          "25-34 years",
          "25-34 years",
          "25-34 years",
          "25-34 years",
          "25-34 years",
          "25-34 years",
          "25-34 years",
          "25-34 years"
         ],
         "legendgroup": "25-34 years",
         "marker": {
          "color": "#EF553B",
          "size": [
           1916,
           1914,
           2624,
           2248,
           2524,
           2410,
           2218,
           2316,
           2338,
           3198,
           3830,
           4376,
           4146,
           4824,
           5324
          ],
          "sizemode": "area",
          "sizeref": 1.478888888888889,
          "symbol": "circle"
         },
         "mode": "markers",
         "name": "25-34 years",
         "showlegend": true,
         "type": "scatter",
         "x": [
          1992,
          1993,
          1997,
          1998,
          1999,
          2000,
          2001,
          2002,
          2003,
          2006,
          2007,
          2008,
          2009,
          2010,
          2011
         ],
         "xaxis": "x",
         "y": [
          82,
          240,
          242,
          250,
          260,
          365,
          294,
          328,
          418,
          460,
          393,
          451,
          484,
          501,
          590
         ],
         "yaxis": "y"
        },
        {
         "hovertemplate": "<b>%{hovertext}</b><br><br>age=35-54 years<br>year=%{x}<br>suicides_no=%{y}<br>gdp_per_capita ($)=%{marker.size}<extra></extra>",
         "hovertext": [
          "35-54 years",
          "35-54 years",
          "35-54 years",
          "35-54 years",
          "35-54 years",
          "35-54 years",
          "35-54 years",
          "35-54 years",
          "35-54 years",
          "35-54 years",
          "35-54 years",
          "35-54 years",
          "35-54 years",
          "35-54 years",
          "35-54 years"
         ],
         "legendgroup": "35-54 years",
         "marker": {
          "color": "#00cc96",
          "size": [
           1916,
           1914,
           2624,
           2248,
           2524,
           2410,
           2218,
           2316,
           2338,
           3198,
           3830,
           4376,
           4146,
           4824,
           5324
          ],
          "sizemode": "area",
          "sizeref": 1.478888888888889,
          "symbol": "circle"
         },
         "mode": "markers",
         "name": "35-54 years",
         "showlegend": true,
         "type": "scatter",
         "x": [
          1992,
          1993,
          1997,
          1998,
          1999,
          2000,
          2001,
          2002,
          2003,
          2006,
          2007,
          2008,
          2009,
          2010,
          2011
         ],
         "xaxis": "x",
         "y": [
          81,
          182,
          202,
          219,
          282,
          392,
          314,
          325,
          426,
          475,
          485,
          495,
          582,
          576,
          680
         ],
         "yaxis": "y"
        },
        {
         "hovertemplate": "<b>%{hovertext}</b><br><br>age=5-14 years<br>year=%{x}<br>suicides_no=%{y}<br>gdp_per_capita ($)=%{marker.size}<extra></extra>",
         "hovertext": [
          "5-14 years",
          "5-14 years",
          "5-14 years",
          "5-14 years",
          "5-14 years",
          "5-14 years",
          "5-14 years",
          "5-14 years",
          "5-14 years",
          "5-14 years",
          "5-14 years",
          "5-14 years",
          "5-14 years",
          "5-14 years",
          "5-14 years"
         ],
         "legendgroup": "5-14 years",
         "marker": {
          "color": "#ab63fa",
          "size": [
           1916,
           1914,
           2624,
           2248,
           2524,
           2410,
           2218,
           2316,
           2338,
           3198,
           3830,
           4376,
           4146,
           4824,
           5324
          ],
          "sizemode": "area",
          "sizeref": 1.478888888888889,
          "symbol": "circle"
         },
         "mode": "markers",
         "name": "5-14 years",
         "showlegend": true,
         "type": "scatter",
         "x": [
          1992,
          1993,
          1997,
          1998,
          1999,
          2000,
          2001,
          2002,
          2003,
          2006,
          2007,
          2008,
          2009,
          2010,
          2011
         ],
         "xaxis": "x",
         "y": [
          0,
          0,
          16,
          26,
          21,
          32,
          20,
          37,
          35,
          63,
          34,
          46,
          38,
          52,
          73
         ],
         "yaxis": "y"
        },
        {
         "hovertemplate": "<b>%{hovertext}</b><br><br>age=55-74 years<br>year=%{x}<br>suicides_no=%{y}<br>gdp_per_capita ($)=%{marker.size}<extra></extra>",
         "hovertext": [
          "55-74 years",
          "55-74 years",
          "55-74 years",
          "55-74 years",
          "55-74 years",
          "55-74 years",
          "55-74 years",
          "55-74 years",
          "55-74 years",
          "55-74 years",
          "55-74 years",
          "55-74 years",
          "55-74 years",
          "55-74 years",
          "55-74 years"
         ],
         "legendgroup": "55-74 years",
         "marker": {
          "color": "#FFA15A",
          "size": [
           1916,
           1914,
           2624,
           2248,
           2524,
           2410,
           2218,
           2316,
           2338,
           3198,
           3830,
           4376,
           4146,
           4824,
           5324
          ],
          "sizemode": "area",
          "sizeref": 1.478888888888889,
          "symbol": "circle"
         },
         "mode": "markers",
         "name": "55-74 years",
         "showlegend": true,
         "type": "scatter",
         "x": [
          1992,
          1993,
          1997,
          1998,
          1999,
          2000,
          2001,
          2002,
          2003,
          2006,
          2007,
          2008,
          2009,
          2010,
          2011
         ],
         "xaxis": "x",
         "y": [
          33,
          61,
          86,
          92,
          100,
          148,
          138,
          120,
          133,
          201,
          174,
          175,
          227,
          214,
          266
         ],
         "yaxis": "y"
        },
        {
         "hovertemplate": "<b>%{hovertext}</b><br><br>age=75+ years<br>year=%{x}<br>suicides_no=%{y}<br>gdp_per_capita ($)=%{marker.size}<extra></extra>",
         "hovertext": [
          "75+ years",
          "75+ years",
          "75+ years",
          "75+ years",
          "75+ years",
          "75+ years",
          "75+ years",
          "75+ years",
          "75+ years",
          "75+ years",
          "75+ years",
          "75+ years",
          "75+ years",
          "75+ years",
          "75+ years"
         ],
         "legendgroup": "75+ years",
         "marker": {
          "color": "#19d3f3",
          "size": [
           1916,
           1914,
           2624,
           2248,
           2524,
           2410,
           2218,
           2316,
           2338,
           3198,
           3830,
           4376,
           4146,
           4824,
           5324
          ],
          "sizemode": "area",
          "sizeref": 1.478888888888889,
          "symbol": "circle"
         },
         "mode": "markers",
         "name": "75+ years",
         "showlegend": true,
         "type": "scatter",
         "x": [
          1992,
          1993,
          1997,
          1998,
          1999,
          2000,
          2001,
          2002,
          2003,
          2006,
          2007,
          2008,
          2009,
          2010,
          2011
         ],
         "xaxis": "x",
         "y": [
          8,
          19,
          17,
          20,
          27,
          30,
          24,
          31,
          38,
          43,
          24,
          41,
          36,
          52,
          78
         ],
         "yaxis": "y"
        }
       ],
       "layout": {
        "height": 800,
        "legend": {
         "itemsizing": "constant",
         "title": {
          "text": "age"
         },
         "tracegroupgap": 0
        },
        "margin": {
         "t": 60
        },
        "template": {
         "data": {
          "bar": [
           {
            "error_x": {
             "color": "#2a3f5f"
            },
            "error_y": {
             "color": "#2a3f5f"
            },
            "marker": {
             "line": {
              "color": "#E5ECF6",
              "width": 0.5
             }
            },
            "type": "bar"
           }
          ],
          "barpolar": [
           {
            "marker": {
             "line": {
              "color": "#E5ECF6",
              "width": 0.5
             }
            },
            "type": "barpolar"
           }
          ],
          "carpet": [
           {
            "aaxis": {
             "endlinecolor": "#2a3f5f",
             "gridcolor": "white",
             "linecolor": "white",
             "minorgridcolor": "white",
             "startlinecolor": "#2a3f5f"
            },
            "baxis": {
             "endlinecolor": "#2a3f5f",
             "gridcolor": "white",
             "linecolor": "white",
             "minorgridcolor": "white",
             "startlinecolor": "#2a3f5f"
            },
            "type": "carpet"
           }
          ],
          "choropleth": [
           {
            "colorbar": {
             "outlinewidth": 0,
             "ticks": ""
            },
            "type": "choropleth"
           }
          ],
          "contour": [
           {
            "colorbar": {
             "outlinewidth": 0,
             "ticks": ""
            },
            "colorscale": [
             [
              0,
              "#0d0887"
             ],
             [
              0.1111111111111111,
              "#46039f"
             ],
             [
              0.2222222222222222,
              "#7201a8"
             ],
             [
              0.3333333333333333,
              "#9c179e"
             ],
             [
              0.4444444444444444,
              "#bd3786"
             ],
             [
              0.5555555555555556,
              "#d8576b"
             ],
             [
              0.6666666666666666,
              "#ed7953"
             ],
             [
              0.7777777777777778,
              "#fb9f3a"
             ],
             [
              0.8888888888888888,
              "#fdca26"
             ],
             [
              1,
              "#f0f921"
             ]
            ],
            "type": "contour"
           }
          ],
          "contourcarpet": [
           {
            "colorbar": {
             "outlinewidth": 0,
             "ticks": ""
            },
            "type": "contourcarpet"
           }
          ],
          "heatmap": [
           {
            "colorbar": {
             "outlinewidth": 0,
             "ticks": ""
            },
            "colorscale": [
             [
              0,
              "#0d0887"
             ],
             [
              0.1111111111111111,
              "#46039f"
             ],
             [
              0.2222222222222222,
              "#7201a8"
             ],
             [
              0.3333333333333333,
              "#9c179e"
             ],
             [
              0.4444444444444444,
              "#bd3786"
             ],
             [
              0.5555555555555556,
              "#d8576b"
             ],
             [
              0.6666666666666666,
              "#ed7953"
             ],
             [
              0.7777777777777778,
              "#fb9f3a"
             ],
             [
              0.8888888888888888,
              "#fdca26"
             ],
             [
              1,
              "#f0f921"
             ]
            ],
            "type": "heatmap"
           }
          ],
          "heatmapgl": [
           {
            "colorbar": {
             "outlinewidth": 0,
             "ticks": ""
            },
            "colorscale": [
             [
              0,
              "#0d0887"
             ],
             [
              0.1111111111111111,
              "#46039f"
             ],
             [
              0.2222222222222222,
              "#7201a8"
             ],
             [
              0.3333333333333333,
              "#9c179e"
             ],
             [
              0.4444444444444444,
              "#bd3786"
             ],
             [
              0.5555555555555556,
              "#d8576b"
             ],
             [
              0.6666666666666666,
              "#ed7953"
             ],
             [
              0.7777777777777778,
              "#fb9f3a"
             ],
             [
              0.8888888888888888,
              "#fdca26"
             ],
             [
              1,
              "#f0f921"
             ]
            ],
            "type": "heatmapgl"
           }
          ],
          "histogram": [
           {
            "marker": {
             "colorbar": {
              "outlinewidth": 0,
              "ticks": ""
             }
            },
            "type": "histogram"
           }
          ],
          "histogram2d": [
           {
            "colorbar": {
             "outlinewidth": 0,
             "ticks": ""
            },
            "colorscale": [
             [
              0,
              "#0d0887"
             ],
             [
              0.1111111111111111,
              "#46039f"
             ],
             [
              0.2222222222222222,
              "#7201a8"
             ],
             [
              0.3333333333333333,
              "#9c179e"
             ],
             [
              0.4444444444444444,
              "#bd3786"
             ],
             [
              0.5555555555555556,
              "#d8576b"
             ],
             [
              0.6666666666666666,
              "#ed7953"
             ],
             [
              0.7777777777777778,
              "#fb9f3a"
             ],
             [
              0.8888888888888888,
              "#fdca26"
             ],
             [
              1,
              "#f0f921"
             ]
            ],
            "type": "histogram2d"
           }
          ],
          "histogram2dcontour": [
           {
            "colorbar": {
             "outlinewidth": 0,
             "ticks": ""
            },
            "colorscale": [
             [
              0,
              "#0d0887"
             ],
             [
              0.1111111111111111,
              "#46039f"
             ],
             [
              0.2222222222222222,
              "#7201a8"
             ],
             [
              0.3333333333333333,
              "#9c179e"
             ],
             [
              0.4444444444444444,
              "#bd3786"
             ],
             [
              0.5555555555555556,
              "#d8576b"
             ],
             [
              0.6666666666666666,
              "#ed7953"
             ],
             [
              0.7777777777777778,
              "#fb9f3a"
             ],
             [
              0.8888888888888888,
              "#fdca26"
             ],
             [
              1,
              "#f0f921"
             ]
            ],
            "type": "histogram2dcontour"
           }
          ],
          "mesh3d": [
           {
            "colorbar": {
             "outlinewidth": 0,
             "ticks": ""
            },
            "type": "mesh3d"
           }
          ],
          "parcoords": [
           {
            "line": {
             "colorbar": {
              "outlinewidth": 0,
              "ticks": ""
             }
            },
            "type": "parcoords"
           }
          ],
          "pie": [
           {
            "automargin": true,
            "type": "pie"
           }
          ],
          "scatter": [
           {
            "marker": {
             "colorbar": {
              "outlinewidth": 0,
              "ticks": ""
             }
            },
            "type": "scatter"
           }
          ],
          "scatter3d": [
           {
            "line": {
             "colorbar": {
              "outlinewidth": 0,
              "ticks": ""
             }
            },
            "marker": {
             "colorbar": {
              "outlinewidth": 0,
              "ticks": ""
             }
            },
            "type": "scatter3d"
           }
          ],
          "scattercarpet": [
           {
            "marker": {
             "colorbar": {
              "outlinewidth": 0,
              "ticks": ""
             }
            },
            "type": "scattercarpet"
           }
          ],
          "scattergeo": [
           {
            "marker": {
             "colorbar": {
              "outlinewidth": 0,
              "ticks": ""
             }
            },
            "type": "scattergeo"
           }
          ],
          "scattergl": [
           {
            "marker": {
             "colorbar": {
              "outlinewidth": 0,
              "ticks": ""
             }
            },
            "type": "scattergl"
           }
          ],
          "scattermapbox": [
           {
            "marker": {
             "colorbar": {
              "outlinewidth": 0,
              "ticks": ""
             }
            },
            "type": "scattermapbox"
           }
          ],
          "scatterpolar": [
           {
            "marker": {
             "colorbar": {
              "outlinewidth": 0,
              "ticks": ""
             }
            },
            "type": "scatterpolar"
           }
          ],
          "scatterpolargl": [
           {
            "marker": {
             "colorbar": {
              "outlinewidth": 0,
              "ticks": ""
             }
            },
            "type": "scatterpolargl"
           }
          ],
          "scatterternary": [
           {
            "marker": {
             "colorbar": {
              "outlinewidth": 0,
              "ticks": ""
             }
            },
            "type": "scatterternary"
           }
          ],
          "surface": [
           {
            "colorbar": {
             "outlinewidth": 0,
             "ticks": ""
            },
            "colorscale": [
             [
              0,
              "#0d0887"
             ],
             [
              0.1111111111111111,
              "#46039f"
             ],
             [
              0.2222222222222222,
              "#7201a8"
             ],
             [
              0.3333333333333333,
              "#9c179e"
             ],
             [
              0.4444444444444444,
              "#bd3786"
             ],
             [
              0.5555555555555556,
              "#d8576b"
             ],
             [
              0.6666666666666666,
              "#ed7953"
             ],
             [
              0.7777777777777778,
              "#fb9f3a"
             ],
             [
              0.8888888888888888,
              "#fdca26"
             ],
             [
              1,
              "#f0f921"
             ]
            ],
            "type": "surface"
           }
          ],
          "table": [
           {
            "cells": {
             "fill": {
              "color": "#EBF0F8"
             },
             "line": {
              "color": "white"
             }
            },
            "header": {
             "fill": {
              "color": "#C8D4E3"
             },
             "line": {
              "color": "white"
             }
            },
            "type": "table"
           }
          ]
         },
         "layout": {
          "annotationdefaults": {
           "arrowcolor": "#2a3f5f",
           "arrowhead": 0,
           "arrowwidth": 1
          },
          "coloraxis": {
           "colorbar": {
            "outlinewidth": 0,
            "ticks": ""
           }
          },
          "colorscale": {
           "diverging": [
            [
             0,
             "#8e0152"
            ],
            [
             0.1,
             "#c51b7d"
            ],
            [
             0.2,
             "#de77ae"
            ],
            [
             0.3,
             "#f1b6da"
            ],
            [
             0.4,
             "#fde0ef"
            ],
            [
             0.5,
             "#f7f7f7"
            ],
            [
             0.6,
             "#e6f5d0"
            ],
            [
             0.7,
             "#b8e186"
            ],
            [
             0.8,
             "#7fbc41"
            ],
            [
             0.9,
             "#4d9221"
            ],
            [
             1,
             "#276419"
            ]
           ],
           "sequential": [
            [
             0,
             "#0d0887"
            ],
            [
             0.1111111111111111,
             "#46039f"
            ],
            [
             0.2222222222222222,
             "#7201a8"
            ],
            [
             0.3333333333333333,
             "#9c179e"
            ],
            [
             0.4444444444444444,
             "#bd3786"
            ],
            [
             0.5555555555555556,
             "#d8576b"
            ],
            [
             0.6666666666666666,
             "#ed7953"
            ],
            [
             0.7777777777777778,
             "#fb9f3a"
            ],
            [
             0.8888888888888888,
             "#fdca26"
            ],
            [
             1,
             "#f0f921"
            ]
           ],
           "sequentialminus": [
            [
             0,
             "#0d0887"
            ],
            [
             0.1111111111111111,
             "#46039f"
            ],
            [
             0.2222222222222222,
             "#7201a8"
            ],
            [
             0.3333333333333333,
             "#9c179e"
            ],
            [
             0.4444444444444444,
             "#bd3786"
            ],
            [
             0.5555555555555556,
             "#d8576b"
            ],
            [
             0.6666666666666666,
             "#ed7953"
            ],
            [
             0.7777777777777778,
             "#fb9f3a"
            ],
            [
             0.8888888888888888,
             "#fdca26"
            ],
            [
             1,
             "#f0f921"
            ]
           ]
          },
          "colorway": [
           "#636efa",
           "#EF553B",
           "#00cc96",
           "#ab63fa",
           "#FFA15A",
           "#19d3f3",
           "#FF6692",
           "#B6E880",
           "#FF97FF",
           "#FECB52"
          ],
          "font": {
           "color": "#2a3f5f"
          },
          "geo": {
           "bgcolor": "white",
           "lakecolor": "white",
           "landcolor": "#E5ECF6",
           "showlakes": true,
           "showland": true,
           "subunitcolor": "white"
          },
          "hoverlabel": {
           "align": "left"
          },
          "hovermode": "closest",
          "mapbox": {
           "style": "light"
          },
          "paper_bgcolor": "white",
          "plot_bgcolor": "#E5ECF6",
          "polar": {
           "angularaxis": {
            "gridcolor": "white",
            "linecolor": "white",
            "ticks": ""
           },
           "bgcolor": "#E5ECF6",
           "radialaxis": {
            "gridcolor": "white",
            "linecolor": "white",
            "ticks": ""
           }
          },
          "scene": {
           "xaxis": {
            "backgroundcolor": "#E5ECF6",
            "gridcolor": "white",
            "gridwidth": 2,
            "linecolor": "white",
            "showbackground": true,
            "ticks": "",
            "zerolinecolor": "white"
           },
           "yaxis": {
            "backgroundcolor": "#E5ECF6",
            "gridcolor": "white",
            "gridwidth": 2,
            "linecolor": "white",
            "showbackground": true,
            "ticks": "",
            "zerolinecolor": "white"
           },
           "zaxis": {
            "backgroundcolor": "#E5ECF6",
            "gridcolor": "white",
            "gridwidth": 2,
            "linecolor": "white",
            "showbackground": true,
            "ticks": "",
            "zerolinecolor": "white"
           }
          },
          "shapedefaults": {
           "line": {
            "color": "#2a3f5f"
           }
          },
          "ternary": {
           "aaxis": {
            "gridcolor": "white",
            "linecolor": "white",
            "ticks": ""
           },
           "baxis": {
            "gridcolor": "white",
            "linecolor": "white",
            "ticks": ""
           },
           "bgcolor": "#E5ECF6",
           "caxis": {
            "gridcolor": "white",
            "linecolor": "white",
            "ticks": ""
           }
          },
          "title": {
           "x": 0.05
          },
          "xaxis": {
           "automargin": true,
           "gridcolor": "white",
           "linecolor": "white",
           "ticks": "",
           "title": {
            "standoff": 15
           },
           "zerolinecolor": "white",
           "zerolinewidth": 2
          },
          "yaxis": {
           "automargin": true,
           "gridcolor": "white",
           "linecolor": "white",
           "ticks": "",
           "title": {
            "standoff": 15
           },
           "zerolinecolor": "white",
           "zerolinewidth": 2
          }
         }
        },
        "width": 1000,
        "xaxis": {
         "anchor": "y",
         "domain": [
          0,
          1
         ],
         "title": {
          "text": "year"
         },
         "type": "log"
        },
        "yaxis": {
         "anchor": "x",
         "domain": [
          0,
          1
         ],
         "title": {
          "text": "suicides_no"
         }
        }
       }
      },
      "text/html": [
       "<div>\n",
       "        \n",
       "        \n",
       "            <div id=\"3685e5dd-9ee2-4f2e-bf3d-faca1f9967a3\" class=\"plotly-graph-div\" style=\"height:800px; width:1000px;\"></div>\n",
       "            <script type=\"text/javascript\">\n",
       "                require([\"plotly\"], function(Plotly) {\n",
       "                    window.PLOTLYENV=window.PLOTLYENV || {};\n",
       "                    \n",
       "                if (document.getElementById(\"3685e5dd-9ee2-4f2e-bf3d-faca1f9967a3\")) {\n",
       "                    Plotly.newPlot(\n",
       "                        '3685e5dd-9ee2-4f2e-bf3d-faca1f9967a3',\n",
       "                        [{\"hovertemplate\": \"<b>%{hovertext}</b><br><br>age=15-24 years<br>year=%{x}<br>suicides_no=%{y}<br>gdp_per_capita ($)=%{marker.size}<extra></extra>\", \"hovertext\": [\"15-24 years\", \"15-24 years\", \"15-24 years\", \"15-24 years\", \"15-24 years\", \"15-24 years\", \"15-24 years\", \"15-24 years\", \"15-24 years\", \"15-24 years\", \"15-24 years\", \"15-24 years\", \"15-24 years\", \"15-24 years\", \"15-24 years\"], \"legendgroup\": \"15-24 years\", \"marker\": {\"color\": \"#636efa\", \"size\": [1916, 1914, 2624, 2248, 2524, 2410, 2218, 2316, 2338, 3198, 3830, 4376, 4146, 4824, 5324], \"sizemode\": \"area\", \"sizeref\": 1.478888888888889, \"symbol\": \"circle\"}, \"mode\": \"markers\", \"name\": \"15-24 years\", \"showlegend\": true, \"type\": \"scatter\", \"x\": [1992, 1993, 1997, 1998, 1999, 2000, 2001, 2002, 2003, 2006, 2007, 2008, 2009, 2010, 2011], \"xaxis\": \"x\", \"y\": [143, 344, 251, 276, 353, 436, 414, 460, 494, 546, 588, 612, 707, 721, 762], \"yaxis\": \"y\"}, {\"hovertemplate\": \"<b>%{hovertext}</b><br><br>age=25-34 years<br>year=%{x}<br>suicides_no=%{y}<br>gdp_per_capita ($)=%{marker.size}<extra></extra>\", \"hovertext\": [\"25-34 years\", \"25-34 years\", \"25-34 years\", \"25-34 years\", \"25-34 years\", \"25-34 years\", \"25-34 years\", \"25-34 years\", \"25-34 years\", \"25-34 years\", \"25-34 years\", \"25-34 years\", \"25-34 years\", \"25-34 years\", \"25-34 years\"], \"legendgroup\": \"25-34 years\", \"marker\": {\"color\": \"#EF553B\", \"size\": [1916, 1914, 2624, 2248, 2524, 2410, 2218, 2316, 2338, 3198, 3830, 4376, 4146, 4824, 5324], \"sizemode\": \"area\", \"sizeref\": 1.478888888888889, \"symbol\": \"circle\"}, \"mode\": \"markers\", \"name\": \"25-34 years\", \"showlegend\": true, \"type\": \"scatter\", \"x\": [1992, 1993, 1997, 1998, 1999, 2000, 2001, 2002, 2003, 2006, 2007, 2008, 2009, 2010, 2011], \"xaxis\": \"x\", \"y\": [82, 240, 242, 250, 260, 365, 294, 328, 418, 460, 393, 451, 484, 501, 590], \"yaxis\": \"y\"}, {\"hovertemplate\": \"<b>%{hovertext}</b><br><br>age=35-54 years<br>year=%{x}<br>suicides_no=%{y}<br>gdp_per_capita ($)=%{marker.size}<extra></extra>\", \"hovertext\": [\"35-54 years\", \"35-54 years\", \"35-54 years\", \"35-54 years\", \"35-54 years\", \"35-54 years\", \"35-54 years\", \"35-54 years\", \"35-54 years\", \"35-54 years\", \"35-54 years\", \"35-54 years\", \"35-54 years\", \"35-54 years\", \"35-54 years\"], \"legendgroup\": \"35-54 years\", \"marker\": {\"color\": \"#00cc96\", \"size\": [1916, 1914, 2624, 2248, 2524, 2410, 2218, 2316, 2338, 3198, 3830, 4376, 4146, 4824, 5324], \"sizemode\": \"area\", \"sizeref\": 1.478888888888889, \"symbol\": \"circle\"}, \"mode\": \"markers\", \"name\": \"35-54 years\", \"showlegend\": true, \"type\": \"scatter\", \"x\": [1992, 1993, 1997, 1998, 1999, 2000, 2001, 2002, 2003, 2006, 2007, 2008, 2009, 2010, 2011], \"xaxis\": \"x\", \"y\": [81, 182, 202, 219, 282, 392, 314, 325, 426, 475, 485, 495, 582, 576, 680], \"yaxis\": \"y\"}, {\"hovertemplate\": \"<b>%{hovertext}</b><br><br>age=5-14 years<br>year=%{x}<br>suicides_no=%{y}<br>gdp_per_capita ($)=%{marker.size}<extra></extra>\", \"hovertext\": [\"5-14 years\", \"5-14 years\", \"5-14 years\", \"5-14 years\", \"5-14 years\", \"5-14 years\", \"5-14 years\", \"5-14 years\", \"5-14 years\", \"5-14 years\", \"5-14 years\", \"5-14 years\", \"5-14 years\", \"5-14 years\", \"5-14 years\"], \"legendgroup\": \"5-14 years\", \"marker\": {\"color\": \"#ab63fa\", \"size\": [1916, 1914, 2624, 2248, 2524, 2410, 2218, 2316, 2338, 3198, 3830, 4376, 4146, 4824, 5324], \"sizemode\": \"area\", \"sizeref\": 1.478888888888889, \"symbol\": \"circle\"}, \"mode\": \"markers\", \"name\": \"5-14 years\", \"showlegend\": true, \"type\": \"scatter\", \"x\": [1992, 1993, 1997, 1998, 1999, 2000, 2001, 2002, 2003, 2006, 2007, 2008, 2009, 2010, 2011], \"xaxis\": \"x\", \"y\": [0, 0, 16, 26, 21, 32, 20, 37, 35, 63, 34, 46, 38, 52, 73], \"yaxis\": \"y\"}, {\"hovertemplate\": \"<b>%{hovertext}</b><br><br>age=55-74 years<br>year=%{x}<br>suicides_no=%{y}<br>gdp_per_capita ($)=%{marker.size}<extra></extra>\", \"hovertext\": [\"55-74 years\", \"55-74 years\", \"55-74 years\", \"55-74 years\", \"55-74 years\", \"55-74 years\", \"55-74 years\", \"55-74 years\", \"55-74 years\", \"55-74 years\", \"55-74 years\", \"55-74 years\", \"55-74 years\", \"55-74 years\", \"55-74 years\"], \"legendgroup\": \"55-74 years\", \"marker\": {\"color\": \"#FFA15A\", \"size\": [1916, 1914, 2624, 2248, 2524, 2410, 2218, 2316, 2338, 3198, 3830, 4376, 4146, 4824, 5324], \"sizemode\": \"area\", \"sizeref\": 1.478888888888889, \"symbol\": \"circle\"}, \"mode\": \"markers\", \"name\": \"55-74 years\", \"showlegend\": true, \"type\": \"scatter\", \"x\": [1992, 1993, 1997, 1998, 1999, 2000, 2001, 2002, 2003, 2006, 2007, 2008, 2009, 2010, 2011], \"xaxis\": \"x\", \"y\": [33, 61, 86, 92, 100, 148, 138, 120, 133, 201, 174, 175, 227, 214, 266], \"yaxis\": \"y\"}, {\"hovertemplate\": \"<b>%{hovertext}</b><br><br>age=75+ years<br>year=%{x}<br>suicides_no=%{y}<br>gdp_per_capita ($)=%{marker.size}<extra></extra>\", \"hovertext\": [\"75+ years\", \"75+ years\", \"75+ years\", \"75+ years\", \"75+ years\", \"75+ years\", \"75+ years\", \"75+ years\", \"75+ years\", \"75+ years\", \"75+ years\", \"75+ years\", \"75+ years\", \"75+ years\", \"75+ years\"], \"legendgroup\": \"75+ years\", \"marker\": {\"color\": \"#19d3f3\", \"size\": [1916, 1914, 2624, 2248, 2524, 2410, 2218, 2316, 2338, 3198, 3830, 4376, 4146, 4824, 5324], \"sizemode\": \"area\", \"sizeref\": 1.478888888888889, \"symbol\": \"circle\"}, \"mode\": \"markers\", \"name\": \"75+ years\", \"showlegend\": true, \"type\": \"scatter\", \"x\": [1992, 1993, 1997, 1998, 1999, 2000, 2001, 2002, 2003, 2006, 2007, 2008, 2009, 2010, 2011], \"xaxis\": \"x\", \"y\": [8, 19, 17, 20, 27, 30, 24, 31, 38, 43, 24, 41, 36, 52, 78], \"yaxis\": \"y\"}],\n",
       "                        {\"height\": 800, \"legend\": {\"itemsizing\": \"constant\", \"title\": {\"text\": \"age\"}, \"tracegroupgap\": 0}, \"margin\": {\"t\": 60}, \"template\": {\"data\": {\"bar\": [{\"error_x\": {\"color\": \"#2a3f5f\"}, \"error_y\": {\"color\": \"#2a3f5f\"}, \"marker\": {\"line\": {\"color\": \"#E5ECF6\", \"width\": 0.5}}, \"type\": \"bar\"}], \"barpolar\": [{\"marker\": {\"line\": {\"color\": \"#E5ECF6\", \"width\": 0.5}}, \"type\": \"barpolar\"}], \"carpet\": [{\"aaxis\": {\"endlinecolor\": \"#2a3f5f\", \"gridcolor\": \"white\", \"linecolor\": \"white\", \"minorgridcolor\": \"white\", \"startlinecolor\": \"#2a3f5f\"}, \"baxis\": {\"endlinecolor\": \"#2a3f5f\", \"gridcolor\": \"white\", \"linecolor\": \"white\", \"minorgridcolor\": \"white\", \"startlinecolor\": \"#2a3f5f\"}, \"type\": \"carpet\"}], \"choropleth\": [{\"colorbar\": {\"outlinewidth\": 0, \"ticks\": \"\"}, \"type\": \"choropleth\"}], \"contour\": [{\"colorbar\": {\"outlinewidth\": 0, \"ticks\": \"\"}, \"colorscale\": [[0.0, \"#0d0887\"], [0.1111111111111111, \"#46039f\"], [0.2222222222222222, \"#7201a8\"], [0.3333333333333333, \"#9c179e\"], [0.4444444444444444, \"#bd3786\"], [0.5555555555555556, \"#d8576b\"], [0.6666666666666666, \"#ed7953\"], [0.7777777777777778, \"#fb9f3a\"], [0.8888888888888888, \"#fdca26\"], [1.0, \"#f0f921\"]], \"type\": \"contour\"}], \"contourcarpet\": [{\"colorbar\": {\"outlinewidth\": 0, \"ticks\": \"\"}, \"type\": \"contourcarpet\"}], \"heatmap\": [{\"colorbar\": {\"outlinewidth\": 0, \"ticks\": \"\"}, \"colorscale\": [[0.0, \"#0d0887\"], [0.1111111111111111, \"#46039f\"], [0.2222222222222222, \"#7201a8\"], [0.3333333333333333, \"#9c179e\"], [0.4444444444444444, \"#bd3786\"], [0.5555555555555556, \"#d8576b\"], [0.6666666666666666, \"#ed7953\"], [0.7777777777777778, \"#fb9f3a\"], [0.8888888888888888, \"#fdca26\"], [1.0, \"#f0f921\"]], \"type\": \"heatmap\"}], \"heatmapgl\": [{\"colorbar\": {\"outlinewidth\": 0, \"ticks\": \"\"}, \"colorscale\": [[0.0, \"#0d0887\"], [0.1111111111111111, \"#46039f\"], [0.2222222222222222, \"#7201a8\"], [0.3333333333333333, \"#9c179e\"], [0.4444444444444444, \"#bd3786\"], [0.5555555555555556, \"#d8576b\"], [0.6666666666666666, \"#ed7953\"], [0.7777777777777778, \"#fb9f3a\"], [0.8888888888888888, \"#fdca26\"], [1.0, \"#f0f921\"]], \"type\": \"heatmapgl\"}], \"histogram\": [{\"marker\": {\"colorbar\": {\"outlinewidth\": 0, \"ticks\": \"\"}}, \"type\": \"histogram\"}], \"histogram2d\": [{\"colorbar\": {\"outlinewidth\": 0, \"ticks\": \"\"}, \"colorscale\": [[0.0, \"#0d0887\"], [0.1111111111111111, \"#46039f\"], [0.2222222222222222, \"#7201a8\"], [0.3333333333333333, \"#9c179e\"], [0.4444444444444444, \"#bd3786\"], [0.5555555555555556, \"#d8576b\"], [0.6666666666666666, \"#ed7953\"], [0.7777777777777778, \"#fb9f3a\"], [0.8888888888888888, \"#fdca26\"], [1.0, \"#f0f921\"]], \"type\": \"histogram2d\"}], \"histogram2dcontour\": [{\"colorbar\": {\"outlinewidth\": 0, \"ticks\": \"\"}, \"colorscale\": [[0.0, \"#0d0887\"], [0.1111111111111111, \"#46039f\"], [0.2222222222222222, \"#7201a8\"], [0.3333333333333333, \"#9c179e\"], [0.4444444444444444, \"#bd3786\"], [0.5555555555555556, \"#d8576b\"], [0.6666666666666666, \"#ed7953\"], [0.7777777777777778, \"#fb9f3a\"], [0.8888888888888888, \"#fdca26\"], [1.0, \"#f0f921\"]], \"type\": \"histogram2dcontour\"}], \"mesh3d\": [{\"colorbar\": {\"outlinewidth\": 0, \"ticks\": \"\"}, \"type\": \"mesh3d\"}], \"parcoords\": [{\"line\": {\"colorbar\": {\"outlinewidth\": 0, \"ticks\": \"\"}}, \"type\": \"parcoords\"}], \"pie\": [{\"automargin\": true, \"type\": \"pie\"}], \"scatter\": [{\"marker\": {\"colorbar\": {\"outlinewidth\": 0, \"ticks\": \"\"}}, \"type\": \"scatter\"}], \"scatter3d\": [{\"line\": {\"colorbar\": {\"outlinewidth\": 0, \"ticks\": \"\"}}, \"marker\": {\"colorbar\": {\"outlinewidth\": 0, \"ticks\": \"\"}}, \"type\": \"scatter3d\"}], \"scattercarpet\": [{\"marker\": {\"colorbar\": {\"outlinewidth\": 0, \"ticks\": \"\"}}, \"type\": \"scattercarpet\"}], \"scattergeo\": [{\"marker\": {\"colorbar\": {\"outlinewidth\": 0, \"ticks\": \"\"}}, \"type\": \"scattergeo\"}], \"scattergl\": [{\"marker\": {\"colorbar\": {\"outlinewidth\": 0, \"ticks\": \"\"}}, \"type\": \"scattergl\"}], \"scattermapbox\": [{\"marker\": {\"colorbar\": {\"outlinewidth\": 0, \"ticks\": \"\"}}, \"type\": \"scattermapbox\"}], \"scatterpolar\": [{\"marker\": {\"colorbar\": {\"outlinewidth\": 0, \"ticks\": \"\"}}, \"type\": \"scatterpolar\"}], \"scatterpolargl\": [{\"marker\": {\"colorbar\": {\"outlinewidth\": 0, \"ticks\": \"\"}}, \"type\": \"scatterpolargl\"}], \"scatterternary\": [{\"marker\": {\"colorbar\": {\"outlinewidth\": 0, \"ticks\": \"\"}}, \"type\": \"scatterternary\"}], \"surface\": [{\"colorbar\": {\"outlinewidth\": 0, \"ticks\": \"\"}, \"colorscale\": [[0.0, \"#0d0887\"], [0.1111111111111111, \"#46039f\"], [0.2222222222222222, \"#7201a8\"], [0.3333333333333333, \"#9c179e\"], [0.4444444444444444, \"#bd3786\"], [0.5555555555555556, \"#d8576b\"], [0.6666666666666666, \"#ed7953\"], [0.7777777777777778, \"#fb9f3a\"], [0.8888888888888888, \"#fdca26\"], [1.0, \"#f0f921\"]], \"type\": \"surface\"}], \"table\": [{\"cells\": {\"fill\": {\"color\": \"#EBF0F8\"}, \"line\": {\"color\": \"white\"}}, \"header\": {\"fill\": {\"color\": \"#C8D4E3\"}, \"line\": {\"color\": \"white\"}}, \"type\": \"table\"}]}, \"layout\": {\"annotationdefaults\": {\"arrowcolor\": \"#2a3f5f\", \"arrowhead\": 0, \"arrowwidth\": 1}, \"coloraxis\": {\"colorbar\": {\"outlinewidth\": 0, \"ticks\": \"\"}}, \"colorscale\": {\"diverging\": [[0, \"#8e0152\"], [0.1, \"#c51b7d\"], [0.2, \"#de77ae\"], [0.3, \"#f1b6da\"], [0.4, \"#fde0ef\"], [0.5, \"#f7f7f7\"], [0.6, \"#e6f5d0\"], [0.7, \"#b8e186\"], [0.8, \"#7fbc41\"], [0.9, \"#4d9221\"], [1, \"#276419\"]], \"sequential\": [[0.0, \"#0d0887\"], [0.1111111111111111, \"#46039f\"], [0.2222222222222222, \"#7201a8\"], [0.3333333333333333, \"#9c179e\"], [0.4444444444444444, \"#bd3786\"], [0.5555555555555556, \"#d8576b\"], [0.6666666666666666, \"#ed7953\"], [0.7777777777777778, \"#fb9f3a\"], [0.8888888888888888, \"#fdca26\"], [1.0, \"#f0f921\"]], \"sequentialminus\": [[0.0, \"#0d0887\"], [0.1111111111111111, \"#46039f\"], [0.2222222222222222, \"#7201a8\"], [0.3333333333333333, \"#9c179e\"], [0.4444444444444444, \"#bd3786\"], [0.5555555555555556, \"#d8576b\"], [0.6666666666666666, \"#ed7953\"], [0.7777777777777778, \"#fb9f3a\"], [0.8888888888888888, \"#fdca26\"], [1.0, \"#f0f921\"]]}, \"colorway\": [\"#636efa\", \"#EF553B\", \"#00cc96\", \"#ab63fa\", \"#FFA15A\", \"#19d3f3\", \"#FF6692\", \"#B6E880\", \"#FF97FF\", \"#FECB52\"], \"font\": {\"color\": \"#2a3f5f\"}, \"geo\": {\"bgcolor\": \"white\", \"lakecolor\": \"white\", \"landcolor\": \"#E5ECF6\", \"showlakes\": true, \"showland\": true, \"subunitcolor\": \"white\"}, \"hoverlabel\": {\"align\": \"left\"}, \"hovermode\": \"closest\", \"mapbox\": {\"style\": \"light\"}, \"paper_bgcolor\": \"white\", \"plot_bgcolor\": \"#E5ECF6\", \"polar\": {\"angularaxis\": {\"gridcolor\": \"white\", \"linecolor\": \"white\", \"ticks\": \"\"}, \"bgcolor\": \"#E5ECF6\", \"radialaxis\": {\"gridcolor\": \"white\", \"linecolor\": \"white\", \"ticks\": \"\"}}, \"scene\": {\"xaxis\": {\"backgroundcolor\": \"#E5ECF6\", \"gridcolor\": \"white\", \"gridwidth\": 2, \"linecolor\": \"white\", \"showbackground\": true, \"ticks\": \"\", \"zerolinecolor\": \"white\"}, \"yaxis\": {\"backgroundcolor\": \"#E5ECF6\", \"gridcolor\": \"white\", \"gridwidth\": 2, \"linecolor\": \"white\", \"showbackground\": true, \"ticks\": \"\", \"zerolinecolor\": \"white\"}, \"zaxis\": {\"backgroundcolor\": \"#E5ECF6\", \"gridcolor\": \"white\", \"gridwidth\": 2, \"linecolor\": \"white\", \"showbackground\": true, \"ticks\": \"\", \"zerolinecolor\": \"white\"}}, \"shapedefaults\": {\"line\": {\"color\": \"#2a3f5f\"}}, \"ternary\": {\"aaxis\": {\"gridcolor\": \"white\", \"linecolor\": \"white\", \"ticks\": \"\"}, \"baxis\": {\"gridcolor\": \"white\", \"linecolor\": \"white\", \"ticks\": \"\"}, \"bgcolor\": \"#E5ECF6\", \"caxis\": {\"gridcolor\": \"white\", \"linecolor\": \"white\", \"ticks\": \"\"}}, \"title\": {\"x\": 0.05}, \"xaxis\": {\"automargin\": true, \"gridcolor\": \"white\", \"linecolor\": \"white\", \"ticks\": \"\", \"title\": {\"standoff\": 15}, \"zerolinecolor\": \"white\", \"zerolinewidth\": 2}, \"yaxis\": {\"automargin\": true, \"gridcolor\": \"white\", \"linecolor\": \"white\", \"ticks\": \"\", \"title\": {\"standoff\": 15}, \"zerolinecolor\": \"white\", \"zerolinewidth\": 2}}}, \"width\": 1000, \"xaxis\": {\"anchor\": \"y\", \"domain\": [0.0, 1.0], \"title\": {\"text\": \"year\"}, \"type\": \"log\"}, \"yaxis\": {\"anchor\": \"x\", \"domain\": [0.0, 1.0], \"title\": {\"text\": \"suicides_no\"}}},\n",
       "                        {\"responsive\": true}\n",
       "                    ).then(function(){\n",
       "                            \n",
       "var gd = document.getElementById('3685e5dd-9ee2-4f2e-bf3d-faca1f9967a3');\n",
       "var x = new MutationObserver(function (mutations, observer) {{\n",
       "        var display = window.getComputedStyle(gd).display;\n",
       "        if (!display || display === 'none') {{\n",
       "            console.log([gd, 'removed!']);\n",
       "            Plotly.purge(gd);\n",
       "            observer.disconnect();\n",
       "        }}\n",
       "}});\n",
       "\n",
       "// Listen for the removal of the full notebook cells\n",
       "var notebookContainer = gd.closest('#notebook-container');\n",
       "if (notebookContainer) {{\n",
       "    x.observe(notebookContainer, {childList: true});\n",
       "}}\n",
       "\n",
       "// Listen for the clearing of the current output cell\n",
       "var outputEl = gd.closest('.output');\n",
       "if (outputEl) {{\n",
       "    x.observe(outputEl, {childList: true});\n",
       "}}\n",
       "\n",
       "                        })\n",
       "                };\n",
       "                });\n",
       "            </script>\n",
       "        </div>"
      ]
     },
     "metadata": {},
     "output_type": "display_data"
    }
   ],
   "source": [
    "fig = px.scatter(agg_data, x=\"year\", size=\"gdp_per_capita ($)\", y=\"suicides_no\", color=\"age\",\n",
    "                hover_name=\"age\", log_x=True, size_max=60, width=1000, height=800)\n",
    "fig.show()"
   ]
  },
  {
   "cell_type": "code",
   "execution_count": 85,
   "metadata": {},
   "outputs": [
    {
     "data": {
      "application/vnd.plotly.v1+json": {
       "config": {
        "plotlyServerURL": "https://plot.ly"
       },
       "data": [
        {
         "hovertemplate": "<b>%{hovertext}</b><br><br>age=15-24 years<br>year=%{x}<br>suicides_no=%{y}<extra></extra>",
         "hovertext": [
          "15-24 years",
          "15-24 years",
          "15-24 years",
          "15-24 years",
          "15-24 years",
          "15-24 years",
          "15-24 years",
          "15-24 years",
          "15-24 years",
          "15-24 years",
          "15-24 years",
          "15-24 years",
          "15-24 years",
          "15-24 years",
          "15-24 years"
         ],
         "legendgroup": "15-24 years",
         "marker": {
          "color": "#636efa",
          "symbol": "circle"
         },
         "mode": "markers",
         "name": "15-24 years",
         "showlegend": true,
         "type": "scatter",
         "x": [
          1992,
          1993,
          1997,
          1998,
          1999,
          2000,
          2001,
          2002,
          2003,
          2006,
          2007,
          2008,
          2009,
          2010,
          2011
         ],
         "xaxis": "x",
         "y": [
          143,
          344,
          251,
          276,
          353,
          436,
          414,
          460,
          494,
          546,
          588,
          612,
          707,
          721,
          762
         ],
         "yaxis": "y"
        },
        {
         "hovertemplate": "<b>%{hovertext}</b><br><br>age=25-34 years<br>year=%{x}<br>suicides_no=%{y}<extra></extra>",
         "hovertext": [
          "25-34 years",
          "25-34 years",
          "25-34 years",
          "25-34 years",
          "25-34 years",
          "25-34 years",
          "25-34 years",
          "25-34 years",
          "25-34 years",
          "25-34 years",
          "25-34 years",
          "25-34 years",
          "25-34 years",
          "25-34 years",
          "25-34 years"
         ],
         "legendgroup": "25-34 years",
         "marker": {
          "color": "#EF553B",
          "symbol": "circle"
         },
         "mode": "markers",
         "name": "25-34 years",
         "showlegend": true,
         "type": "scatter",
         "x": [
          1992,
          1993,
          1997,
          1998,
          1999,
          2000,
          2001,
          2002,
          2003,
          2006,
          2007,
          2008,
          2009,
          2010,
          2011
         ],
         "xaxis": "x",
         "y": [
          82,
          240,
          242,
          250,
          260,
          365,
          294,
          328,
          418,
          460,
          393,
          451,
          484,
          501,
          590
         ],
         "yaxis": "y"
        },
        {
         "hovertemplate": "<b>%{hovertext}</b><br><br>age=35-54 years<br>year=%{x}<br>suicides_no=%{y}<extra></extra>",
         "hovertext": [
          "35-54 years",
          "35-54 years",
          "35-54 years",
          "35-54 years",
          "35-54 years",
          "35-54 years",
          "35-54 years",
          "35-54 years",
          "35-54 years",
          "35-54 years",
          "35-54 years",
          "35-54 years",
          "35-54 years",
          "35-54 years",
          "35-54 years"
         ],
         "legendgroup": "35-54 years",
         "marker": {
          "color": "#00cc96",
          "symbol": "circle"
         },
         "mode": "markers",
         "name": "35-54 years",
         "showlegend": true,
         "type": "scatter",
         "x": [
          1992,
          1993,
          1997,
          1998,
          1999,
          2000,
          2001,
          2002,
          2003,
          2006,
          2007,
          2008,
          2009,
          2010,
          2011
         ],
         "xaxis": "x",
         "y": [
          81,
          182,
          202,
          219,
          282,
          392,
          314,
          325,
          426,
          475,
          485,
          495,
          582,
          576,
          680
         ],
         "yaxis": "y"
        },
        {
         "hovertemplate": "<b>%{hovertext}</b><br><br>age=5-14 years<br>year=%{x}<br>suicides_no=%{y}<extra></extra>",
         "hovertext": [
          "5-14 years",
          "5-14 years",
          "5-14 years",
          "5-14 years",
          "5-14 years",
          "5-14 years",
          "5-14 years",
          "5-14 years",
          "5-14 years",
          "5-14 years",
          "5-14 years",
          "5-14 years",
          "5-14 years",
          "5-14 years",
          "5-14 years"
         ],
         "legendgroup": "5-14 years",
         "marker": {
          "color": "#ab63fa",
          "symbol": "circle"
         },
         "mode": "markers",
         "name": "5-14 years",
         "showlegend": true,
         "type": "scatter",
         "x": [
          1992,
          1993,
          1997,
          1998,
          1999,
          2000,
          2001,
          2002,
          2003,
          2006,
          2007,
          2008,
          2009,
          2010,
          2011
         ],
         "xaxis": "x",
         "y": [
          0,
          0,
          16,
          26,
          21,
          32,
          20,
          37,
          35,
          63,
          34,
          46,
          38,
          52,
          73
         ],
         "yaxis": "y"
        },
        {
         "hovertemplate": "<b>%{hovertext}</b><br><br>age=55-74 years<br>year=%{x}<br>suicides_no=%{y}<extra></extra>",
         "hovertext": [
          "55-74 years",
          "55-74 years",
          "55-74 years",
          "55-74 years",
          "55-74 years",
          "55-74 years",
          "55-74 years",
          "55-74 years",
          "55-74 years",
          "55-74 years",
          "55-74 years",
          "55-74 years",
          "55-74 years",
          "55-74 years",
          "55-74 years"
         ],
         "legendgroup": "55-74 years",
         "marker": {
          "color": "#FFA15A",
          "symbol": "circle"
         },
         "mode": "markers",
         "name": "55-74 years",
         "showlegend": true,
         "type": "scatter",
         "x": [
          1992,
          1993,
          1997,
          1998,
          1999,
          2000,
          2001,
          2002,
          2003,
          2006,
          2007,
          2008,
          2009,
          2010,
          2011
         ],
         "xaxis": "x",
         "y": [
          33,
          61,
          86,
          92,
          100,
          148,
          138,
          120,
          133,
          201,
          174,
          175,
          227,
          214,
          266
         ],
         "yaxis": "y"
        },
        {
         "hovertemplate": "<b>%{hovertext}</b><br><br>age=75+ years<br>year=%{x}<br>suicides_no=%{y}<extra></extra>",
         "hovertext": [
          "75+ years",
          "75+ years",
          "75+ years",
          "75+ years",
          "75+ years",
          "75+ years",
          "75+ years",
          "75+ years",
          "75+ years",
          "75+ years",
          "75+ years",
          "75+ years",
          "75+ years",
          "75+ years",
          "75+ years"
         ],
         "legendgroup": "75+ years",
         "marker": {
          "color": "#19d3f3",
          "symbol": "circle"
         },
         "mode": "markers",
         "name": "75+ years",
         "showlegend": true,
         "type": "scatter",
         "x": [
          1992,
          1993,
          1997,
          1998,
          1999,
          2000,
          2001,
          2002,
          2003,
          2006,
          2007,
          2008,
          2009,
          2010,
          2011
         ],
         "xaxis": "x",
         "y": [
          8,
          19,
          17,
          20,
          27,
          30,
          24,
          31,
          38,
          43,
          24,
          41,
          36,
          52,
          78
         ],
         "yaxis": "y"
        }
       ],
       "layout": {
        "height": 800,
        "legend": {
         "title": {
          "text": "age"
         },
         "tracegroupgap": 0
        },
        "margin": {
         "t": 60
        },
        "template": {
         "data": {
          "bar": [
           {
            "error_x": {
             "color": "#2a3f5f"
            },
            "error_y": {
             "color": "#2a3f5f"
            },
            "marker": {
             "line": {
              "color": "#E5ECF6",
              "width": 0.5
             }
            },
            "type": "bar"
           }
          ],
          "barpolar": [
           {
            "marker": {
             "line": {
              "color": "#E5ECF6",
              "width": 0.5
             }
            },
            "type": "barpolar"
           }
          ],
          "carpet": [
           {
            "aaxis": {
             "endlinecolor": "#2a3f5f",
             "gridcolor": "white",
             "linecolor": "white",
             "minorgridcolor": "white",
             "startlinecolor": "#2a3f5f"
            },
            "baxis": {
             "endlinecolor": "#2a3f5f",
             "gridcolor": "white",
             "linecolor": "white",
             "minorgridcolor": "white",
             "startlinecolor": "#2a3f5f"
            },
            "type": "carpet"
           }
          ],
          "choropleth": [
           {
            "colorbar": {
             "outlinewidth": 0,
             "ticks": ""
            },
            "type": "choropleth"
           }
          ],
          "contour": [
           {
            "colorbar": {
             "outlinewidth": 0,
             "ticks": ""
            },
            "colorscale": [
             [
              0,
              "#0d0887"
             ],
             [
              0.1111111111111111,
              "#46039f"
             ],
             [
              0.2222222222222222,
              "#7201a8"
             ],
             [
              0.3333333333333333,
              "#9c179e"
             ],
             [
              0.4444444444444444,
              "#bd3786"
             ],
             [
              0.5555555555555556,
              "#d8576b"
             ],
             [
              0.6666666666666666,
              "#ed7953"
             ],
             [
              0.7777777777777778,
              "#fb9f3a"
             ],
             [
              0.8888888888888888,
              "#fdca26"
             ],
             [
              1,
              "#f0f921"
             ]
            ],
            "type": "contour"
           }
          ],
          "contourcarpet": [
           {
            "colorbar": {
             "outlinewidth": 0,
             "ticks": ""
            },
            "type": "contourcarpet"
           }
          ],
          "heatmap": [
           {
            "colorbar": {
             "outlinewidth": 0,
             "ticks": ""
            },
            "colorscale": [
             [
              0,
              "#0d0887"
             ],
             [
              0.1111111111111111,
              "#46039f"
             ],
             [
              0.2222222222222222,
              "#7201a8"
             ],
             [
              0.3333333333333333,
              "#9c179e"
             ],
             [
              0.4444444444444444,
              "#bd3786"
             ],
             [
              0.5555555555555556,
              "#d8576b"
             ],
             [
              0.6666666666666666,
              "#ed7953"
             ],
             [
              0.7777777777777778,
              "#fb9f3a"
             ],
             [
              0.8888888888888888,
              "#fdca26"
             ],
             [
              1,
              "#f0f921"
             ]
            ],
            "type": "heatmap"
           }
          ],
          "heatmapgl": [
           {
            "colorbar": {
             "outlinewidth": 0,
             "ticks": ""
            },
            "colorscale": [
             [
              0,
              "#0d0887"
             ],
             [
              0.1111111111111111,
              "#46039f"
             ],
             [
              0.2222222222222222,
              "#7201a8"
             ],
             [
              0.3333333333333333,
              "#9c179e"
             ],
             [
              0.4444444444444444,
              "#bd3786"
             ],
             [
              0.5555555555555556,
              "#d8576b"
             ],
             [
              0.6666666666666666,
              "#ed7953"
             ],
             [
              0.7777777777777778,
              "#fb9f3a"
             ],
             [
              0.8888888888888888,
              "#fdca26"
             ],
             [
              1,
              "#f0f921"
             ]
            ],
            "type": "heatmapgl"
           }
          ],
          "histogram": [
           {
            "marker": {
             "colorbar": {
              "outlinewidth": 0,
              "ticks": ""
             }
            },
            "type": "histogram"
           }
          ],
          "histogram2d": [
           {
            "colorbar": {
             "outlinewidth": 0,
             "ticks": ""
            },
            "colorscale": [
             [
              0,
              "#0d0887"
             ],
             [
              0.1111111111111111,
              "#46039f"
             ],
             [
              0.2222222222222222,
              "#7201a8"
             ],
             [
              0.3333333333333333,
              "#9c179e"
             ],
             [
              0.4444444444444444,
              "#bd3786"
             ],
             [
              0.5555555555555556,
              "#d8576b"
             ],
             [
              0.6666666666666666,
              "#ed7953"
             ],
             [
              0.7777777777777778,
              "#fb9f3a"
             ],
             [
              0.8888888888888888,
              "#fdca26"
             ],
             [
              1,
              "#f0f921"
             ]
            ],
            "type": "histogram2d"
           }
          ],
          "histogram2dcontour": [
           {
            "colorbar": {
             "outlinewidth": 0,
             "ticks": ""
            },
            "colorscale": [
             [
              0,
              "#0d0887"
             ],
             [
              0.1111111111111111,
              "#46039f"
             ],
             [
              0.2222222222222222,
              "#7201a8"
             ],
             [
              0.3333333333333333,
              "#9c179e"
             ],
             [
              0.4444444444444444,
              "#bd3786"
             ],
             [
              0.5555555555555556,
              "#d8576b"
             ],
             [
              0.6666666666666666,
              "#ed7953"
             ],
             [
              0.7777777777777778,
              "#fb9f3a"
             ],
             [
              0.8888888888888888,
              "#fdca26"
             ],
             [
              1,
              "#f0f921"
             ]
            ],
            "type": "histogram2dcontour"
           }
          ],
          "mesh3d": [
           {
            "colorbar": {
             "outlinewidth": 0,
             "ticks": ""
            },
            "type": "mesh3d"
           }
          ],
          "parcoords": [
           {
            "line": {
             "colorbar": {
              "outlinewidth": 0,
              "ticks": ""
             }
            },
            "type": "parcoords"
           }
          ],
          "pie": [
           {
            "automargin": true,
            "type": "pie"
           }
          ],
          "scatter": [
           {
            "marker": {
             "colorbar": {
              "outlinewidth": 0,
              "ticks": ""
             }
            },
            "type": "scatter"
           }
          ],
          "scatter3d": [
           {
            "line": {
             "colorbar": {
              "outlinewidth": 0,
              "ticks": ""
             }
            },
            "marker": {
             "colorbar": {
              "outlinewidth": 0,
              "ticks": ""
             }
            },
            "type": "scatter3d"
           }
          ],
          "scattercarpet": [
           {
            "marker": {
             "colorbar": {
              "outlinewidth": 0,
              "ticks": ""
             }
            },
            "type": "scattercarpet"
           }
          ],
          "scattergeo": [
           {
            "marker": {
             "colorbar": {
              "outlinewidth": 0,
              "ticks": ""
             }
            },
            "type": "scattergeo"
           }
          ],
          "scattergl": [
           {
            "marker": {
             "colorbar": {
              "outlinewidth": 0,
              "ticks": ""
             }
            },
            "type": "scattergl"
           }
          ],
          "scattermapbox": [
           {
            "marker": {
             "colorbar": {
              "outlinewidth": 0,
              "ticks": ""
             }
            },
            "type": "scattermapbox"
           }
          ],
          "scatterpolar": [
           {
            "marker": {
             "colorbar": {
              "outlinewidth": 0,
              "ticks": ""
             }
            },
            "type": "scatterpolar"
           }
          ],
          "scatterpolargl": [
           {
            "marker": {
             "colorbar": {
              "outlinewidth": 0,
              "ticks": ""
             }
            },
            "type": "scatterpolargl"
           }
          ],
          "scatterternary": [
           {
            "marker": {
             "colorbar": {
              "outlinewidth": 0,
              "ticks": ""
             }
            },
            "type": "scatterternary"
           }
          ],
          "surface": [
           {
            "colorbar": {
             "outlinewidth": 0,
             "ticks": ""
            },
            "colorscale": [
             [
              0,
              "#0d0887"
             ],
             [
              0.1111111111111111,
              "#46039f"
             ],
             [
              0.2222222222222222,
              "#7201a8"
             ],
             [
              0.3333333333333333,
              "#9c179e"
             ],
             [
              0.4444444444444444,
              "#bd3786"
             ],
             [
              0.5555555555555556,
              "#d8576b"
             ],
             [
              0.6666666666666666,
              "#ed7953"
             ],
             [
              0.7777777777777778,
              "#fb9f3a"
             ],
             [
              0.8888888888888888,
              "#fdca26"
             ],
             [
              1,
              "#f0f921"
             ]
            ],
            "type": "surface"
           }
          ],
          "table": [
           {
            "cells": {
             "fill": {
              "color": "#EBF0F8"
             },
             "line": {
              "color": "white"
             }
            },
            "header": {
             "fill": {
              "color": "#C8D4E3"
             },
             "line": {
              "color": "white"
             }
            },
            "type": "table"
           }
          ]
         },
         "layout": {
          "annotationdefaults": {
           "arrowcolor": "#2a3f5f",
           "arrowhead": 0,
           "arrowwidth": 1
          },
          "coloraxis": {
           "colorbar": {
            "outlinewidth": 0,
            "ticks": ""
           }
          },
          "colorscale": {
           "diverging": [
            [
             0,
             "#8e0152"
            ],
            [
             0.1,
             "#c51b7d"
            ],
            [
             0.2,
             "#de77ae"
            ],
            [
             0.3,
             "#f1b6da"
            ],
            [
             0.4,
             "#fde0ef"
            ],
            [
             0.5,
             "#f7f7f7"
            ],
            [
             0.6,
             "#e6f5d0"
            ],
            [
             0.7,
             "#b8e186"
            ],
            [
             0.8,
             "#7fbc41"
            ],
            [
             0.9,
             "#4d9221"
            ],
            [
             1,
             "#276419"
            ]
           ],
           "sequential": [
            [
             0,
             "#0d0887"
            ],
            [
             0.1111111111111111,
             "#46039f"
            ],
            [
             0.2222222222222222,
             "#7201a8"
            ],
            [
             0.3333333333333333,
             "#9c179e"
            ],
            [
             0.4444444444444444,
             "#bd3786"
            ],
            [
             0.5555555555555556,
             "#d8576b"
            ],
            [
             0.6666666666666666,
             "#ed7953"
            ],
            [
             0.7777777777777778,
             "#fb9f3a"
            ],
            [
             0.8888888888888888,
             "#fdca26"
            ],
            [
             1,
             "#f0f921"
            ]
           ],
           "sequentialminus": [
            [
             0,
             "#0d0887"
            ],
            [
             0.1111111111111111,
             "#46039f"
            ],
            [
             0.2222222222222222,
             "#7201a8"
            ],
            [
             0.3333333333333333,
             "#9c179e"
            ],
            [
             0.4444444444444444,
             "#bd3786"
            ],
            [
             0.5555555555555556,
             "#d8576b"
            ],
            [
             0.6666666666666666,
             "#ed7953"
            ],
            [
             0.7777777777777778,
             "#fb9f3a"
            ],
            [
             0.8888888888888888,
             "#fdca26"
            ],
            [
             1,
             "#f0f921"
            ]
           ]
          },
          "colorway": [
           "#636efa",
           "#EF553B",
           "#00cc96",
           "#ab63fa",
           "#FFA15A",
           "#19d3f3",
           "#FF6692",
           "#B6E880",
           "#FF97FF",
           "#FECB52"
          ],
          "font": {
           "color": "#2a3f5f"
          },
          "geo": {
           "bgcolor": "white",
           "lakecolor": "white",
           "landcolor": "#E5ECF6",
           "showlakes": true,
           "showland": true,
           "subunitcolor": "white"
          },
          "hoverlabel": {
           "align": "left"
          },
          "hovermode": "closest",
          "mapbox": {
           "style": "light"
          },
          "paper_bgcolor": "white",
          "plot_bgcolor": "#E5ECF6",
          "polar": {
           "angularaxis": {
            "gridcolor": "white",
            "linecolor": "white",
            "ticks": ""
           },
           "bgcolor": "#E5ECF6",
           "radialaxis": {
            "gridcolor": "white",
            "linecolor": "white",
            "ticks": ""
           }
          },
          "scene": {
           "xaxis": {
            "backgroundcolor": "#E5ECF6",
            "gridcolor": "white",
            "gridwidth": 2,
            "linecolor": "white",
            "showbackground": true,
            "ticks": "",
            "zerolinecolor": "white"
           },
           "yaxis": {
            "backgroundcolor": "#E5ECF6",
            "gridcolor": "white",
            "gridwidth": 2,
            "linecolor": "white",
            "showbackground": true,
            "ticks": "",
            "zerolinecolor": "white"
           },
           "zaxis": {
            "backgroundcolor": "#E5ECF6",
            "gridcolor": "white",
            "gridwidth": 2,
            "linecolor": "white",
            "showbackground": true,
            "ticks": "",
            "zerolinecolor": "white"
           }
          },
          "shapedefaults": {
           "line": {
            "color": "#2a3f5f"
           }
          },
          "ternary": {
           "aaxis": {
            "gridcolor": "white",
            "linecolor": "white",
            "ticks": ""
           },
           "baxis": {
            "gridcolor": "white",
            "linecolor": "white",
            "ticks": ""
           },
           "bgcolor": "#E5ECF6",
           "caxis": {
            "gridcolor": "white",
            "linecolor": "white",
            "ticks": ""
           }
          },
          "title": {
           "x": 0.05
          },
          "xaxis": {
           "automargin": true,
           "gridcolor": "white",
           "linecolor": "white",
           "ticks": "",
           "title": {
            "standoff": 15
           },
           "zerolinecolor": "white",
           "zerolinewidth": 2
          },
          "yaxis": {
           "automargin": true,
           "gridcolor": "white",
           "linecolor": "white",
           "ticks": "",
           "title": {
            "standoff": 15
           },
           "zerolinecolor": "white",
           "zerolinewidth": 2
          }
         }
        },
        "width": 1000,
        "xaxis": {
         "anchor": "y",
         "domain": [
          0,
          1
         ],
         "title": {
          "text": "year"
         },
         "type": "log"
        },
        "yaxis": {
         "anchor": "x",
         "domain": [
          0,
          1
         ],
         "title": {
          "text": "suicides_no"
         }
        }
       }
      },
      "text/html": [
       "<div>\n",
       "        \n",
       "        \n",
       "            <div id=\"6581952a-04b5-4927-ac7d-8bb8dcc46481\" class=\"plotly-graph-div\" style=\"height:800px; width:1000px;\"></div>\n",
       "            <script type=\"text/javascript\">\n",
       "                require([\"plotly\"], function(Plotly) {\n",
       "                    window.PLOTLYENV=window.PLOTLYENV || {};\n",
       "                    \n",
       "                if (document.getElementById(\"6581952a-04b5-4927-ac7d-8bb8dcc46481\")) {\n",
       "                    Plotly.newPlot(\n",
       "                        '6581952a-04b5-4927-ac7d-8bb8dcc46481',\n",
       "                        [{\"hovertemplate\": \"<b>%{hovertext}</b><br><br>age=15-24 years<br>year=%{x}<br>suicides_no=%{y}<extra></extra>\", \"hovertext\": [\"15-24 years\", \"15-24 years\", \"15-24 years\", \"15-24 years\", \"15-24 years\", \"15-24 years\", \"15-24 years\", \"15-24 years\", \"15-24 years\", \"15-24 years\", \"15-24 years\", \"15-24 years\", \"15-24 years\", \"15-24 years\", \"15-24 years\"], \"legendgroup\": \"15-24 years\", \"marker\": {\"color\": \"#636efa\", \"symbol\": \"circle\"}, \"mode\": \"markers\", \"name\": \"15-24 years\", \"showlegend\": true, \"type\": \"scatter\", \"x\": [1992, 1993, 1997, 1998, 1999, 2000, 2001, 2002, 2003, 2006, 2007, 2008, 2009, 2010, 2011], \"xaxis\": \"x\", \"y\": [143, 344, 251, 276, 353, 436, 414, 460, 494, 546, 588, 612, 707, 721, 762], \"yaxis\": \"y\"}, {\"hovertemplate\": \"<b>%{hovertext}</b><br><br>age=25-34 years<br>year=%{x}<br>suicides_no=%{y}<extra></extra>\", \"hovertext\": [\"25-34 years\", \"25-34 years\", \"25-34 years\", \"25-34 years\", \"25-34 years\", \"25-34 years\", \"25-34 years\", \"25-34 years\", \"25-34 years\", \"25-34 years\", \"25-34 years\", \"25-34 years\", \"25-34 years\", \"25-34 years\", \"25-34 years\"], \"legendgroup\": \"25-34 years\", \"marker\": {\"color\": \"#EF553B\", \"symbol\": \"circle\"}, \"mode\": \"markers\", \"name\": \"25-34 years\", \"showlegend\": true, \"type\": \"scatter\", \"x\": [1992, 1993, 1997, 1998, 1999, 2000, 2001, 2002, 2003, 2006, 2007, 2008, 2009, 2010, 2011], \"xaxis\": \"x\", \"y\": [82, 240, 242, 250, 260, 365, 294, 328, 418, 460, 393, 451, 484, 501, 590], \"yaxis\": \"y\"}, {\"hovertemplate\": \"<b>%{hovertext}</b><br><br>age=35-54 years<br>year=%{x}<br>suicides_no=%{y}<extra></extra>\", \"hovertext\": [\"35-54 years\", \"35-54 years\", \"35-54 years\", \"35-54 years\", \"35-54 years\", \"35-54 years\", \"35-54 years\", \"35-54 years\", \"35-54 years\", \"35-54 years\", \"35-54 years\", \"35-54 years\", \"35-54 years\", \"35-54 years\", \"35-54 years\"], \"legendgroup\": \"35-54 years\", \"marker\": {\"color\": \"#00cc96\", \"symbol\": \"circle\"}, \"mode\": \"markers\", \"name\": \"35-54 years\", \"showlegend\": true, \"type\": \"scatter\", \"x\": [1992, 1993, 1997, 1998, 1999, 2000, 2001, 2002, 2003, 2006, 2007, 2008, 2009, 2010, 2011], \"xaxis\": \"x\", \"y\": [81, 182, 202, 219, 282, 392, 314, 325, 426, 475, 485, 495, 582, 576, 680], \"yaxis\": \"y\"}, {\"hovertemplate\": \"<b>%{hovertext}</b><br><br>age=5-14 years<br>year=%{x}<br>suicides_no=%{y}<extra></extra>\", \"hovertext\": [\"5-14 years\", \"5-14 years\", \"5-14 years\", \"5-14 years\", \"5-14 years\", \"5-14 years\", \"5-14 years\", \"5-14 years\", \"5-14 years\", \"5-14 years\", \"5-14 years\", \"5-14 years\", \"5-14 years\", \"5-14 years\", \"5-14 years\"], \"legendgroup\": \"5-14 years\", \"marker\": {\"color\": \"#ab63fa\", \"symbol\": \"circle\"}, \"mode\": \"markers\", \"name\": \"5-14 years\", \"showlegend\": true, \"type\": \"scatter\", \"x\": [1992, 1993, 1997, 1998, 1999, 2000, 2001, 2002, 2003, 2006, 2007, 2008, 2009, 2010, 2011], \"xaxis\": \"x\", \"y\": [0, 0, 16, 26, 21, 32, 20, 37, 35, 63, 34, 46, 38, 52, 73], \"yaxis\": \"y\"}, {\"hovertemplate\": \"<b>%{hovertext}</b><br><br>age=55-74 years<br>year=%{x}<br>suicides_no=%{y}<extra></extra>\", \"hovertext\": [\"55-74 years\", \"55-74 years\", \"55-74 years\", \"55-74 years\", \"55-74 years\", \"55-74 years\", \"55-74 years\", \"55-74 years\", \"55-74 years\", \"55-74 years\", \"55-74 years\", \"55-74 years\", \"55-74 years\", \"55-74 years\", \"55-74 years\"], \"legendgroup\": \"55-74 years\", \"marker\": {\"color\": \"#FFA15A\", \"symbol\": \"circle\"}, \"mode\": \"markers\", \"name\": \"55-74 years\", \"showlegend\": true, \"type\": \"scatter\", \"x\": [1992, 1993, 1997, 1998, 1999, 2000, 2001, 2002, 2003, 2006, 2007, 2008, 2009, 2010, 2011], \"xaxis\": \"x\", \"y\": [33, 61, 86, 92, 100, 148, 138, 120, 133, 201, 174, 175, 227, 214, 266], \"yaxis\": \"y\"}, {\"hovertemplate\": \"<b>%{hovertext}</b><br><br>age=75+ years<br>year=%{x}<br>suicides_no=%{y}<extra></extra>\", \"hovertext\": [\"75+ years\", \"75+ years\", \"75+ years\", \"75+ years\", \"75+ years\", \"75+ years\", \"75+ years\", \"75+ years\", \"75+ years\", \"75+ years\", \"75+ years\", \"75+ years\", \"75+ years\", \"75+ years\", \"75+ years\"], \"legendgroup\": \"75+ years\", \"marker\": {\"color\": \"#19d3f3\", \"symbol\": \"circle\"}, \"mode\": \"markers\", \"name\": \"75+ years\", \"showlegend\": true, \"type\": \"scatter\", \"x\": [1992, 1993, 1997, 1998, 1999, 2000, 2001, 2002, 2003, 2006, 2007, 2008, 2009, 2010, 2011], \"xaxis\": \"x\", \"y\": [8, 19, 17, 20, 27, 30, 24, 31, 38, 43, 24, 41, 36, 52, 78], \"yaxis\": \"y\"}],\n",
       "                        {\"height\": 800, \"legend\": {\"title\": {\"text\": \"age\"}, \"tracegroupgap\": 0}, \"margin\": {\"t\": 60}, \"template\": {\"data\": {\"bar\": [{\"error_x\": {\"color\": \"#2a3f5f\"}, \"error_y\": {\"color\": \"#2a3f5f\"}, \"marker\": {\"line\": {\"color\": \"#E5ECF6\", \"width\": 0.5}}, \"type\": \"bar\"}], \"barpolar\": [{\"marker\": {\"line\": {\"color\": \"#E5ECF6\", \"width\": 0.5}}, \"type\": \"barpolar\"}], \"carpet\": [{\"aaxis\": {\"endlinecolor\": \"#2a3f5f\", \"gridcolor\": \"white\", \"linecolor\": \"white\", \"minorgridcolor\": \"white\", \"startlinecolor\": \"#2a3f5f\"}, \"baxis\": {\"endlinecolor\": \"#2a3f5f\", \"gridcolor\": \"white\", \"linecolor\": \"white\", \"minorgridcolor\": \"white\", \"startlinecolor\": \"#2a3f5f\"}, \"type\": \"carpet\"}], \"choropleth\": [{\"colorbar\": {\"outlinewidth\": 0, \"ticks\": \"\"}, \"type\": \"choropleth\"}], \"contour\": [{\"colorbar\": {\"outlinewidth\": 0, \"ticks\": \"\"}, \"colorscale\": [[0.0, \"#0d0887\"], [0.1111111111111111, \"#46039f\"], [0.2222222222222222, \"#7201a8\"], [0.3333333333333333, \"#9c179e\"], [0.4444444444444444, \"#bd3786\"], [0.5555555555555556, \"#d8576b\"], [0.6666666666666666, \"#ed7953\"], [0.7777777777777778, \"#fb9f3a\"], [0.8888888888888888, \"#fdca26\"], [1.0, \"#f0f921\"]], \"type\": \"contour\"}], \"contourcarpet\": [{\"colorbar\": {\"outlinewidth\": 0, \"ticks\": \"\"}, \"type\": \"contourcarpet\"}], \"heatmap\": [{\"colorbar\": {\"outlinewidth\": 0, \"ticks\": \"\"}, \"colorscale\": [[0.0, \"#0d0887\"], [0.1111111111111111, \"#46039f\"], [0.2222222222222222, \"#7201a8\"], [0.3333333333333333, \"#9c179e\"], [0.4444444444444444, \"#bd3786\"], [0.5555555555555556, \"#d8576b\"], [0.6666666666666666, \"#ed7953\"], [0.7777777777777778, \"#fb9f3a\"], [0.8888888888888888, \"#fdca26\"], [1.0, \"#f0f921\"]], \"type\": \"heatmap\"}], \"heatmapgl\": [{\"colorbar\": {\"outlinewidth\": 0, \"ticks\": \"\"}, \"colorscale\": [[0.0, \"#0d0887\"], [0.1111111111111111, \"#46039f\"], [0.2222222222222222, \"#7201a8\"], [0.3333333333333333, \"#9c179e\"], [0.4444444444444444, \"#bd3786\"], [0.5555555555555556, \"#d8576b\"], [0.6666666666666666, \"#ed7953\"], [0.7777777777777778, \"#fb9f3a\"], [0.8888888888888888, \"#fdca26\"], [1.0, \"#f0f921\"]], \"type\": \"heatmapgl\"}], \"histogram\": [{\"marker\": {\"colorbar\": {\"outlinewidth\": 0, \"ticks\": \"\"}}, \"type\": \"histogram\"}], \"histogram2d\": [{\"colorbar\": {\"outlinewidth\": 0, \"ticks\": \"\"}, \"colorscale\": [[0.0, \"#0d0887\"], [0.1111111111111111, \"#46039f\"], [0.2222222222222222, \"#7201a8\"], [0.3333333333333333, \"#9c179e\"], [0.4444444444444444, \"#bd3786\"], [0.5555555555555556, \"#d8576b\"], [0.6666666666666666, \"#ed7953\"], [0.7777777777777778, \"#fb9f3a\"], [0.8888888888888888, \"#fdca26\"], [1.0, \"#f0f921\"]], \"type\": \"histogram2d\"}], \"histogram2dcontour\": [{\"colorbar\": {\"outlinewidth\": 0, \"ticks\": \"\"}, \"colorscale\": [[0.0, \"#0d0887\"], [0.1111111111111111, \"#46039f\"], [0.2222222222222222, \"#7201a8\"], [0.3333333333333333, \"#9c179e\"], [0.4444444444444444, \"#bd3786\"], [0.5555555555555556, \"#d8576b\"], [0.6666666666666666, \"#ed7953\"], [0.7777777777777778, \"#fb9f3a\"], [0.8888888888888888, \"#fdca26\"], [1.0, \"#f0f921\"]], \"type\": \"histogram2dcontour\"}], \"mesh3d\": [{\"colorbar\": {\"outlinewidth\": 0, \"ticks\": \"\"}, \"type\": \"mesh3d\"}], \"parcoords\": [{\"line\": {\"colorbar\": {\"outlinewidth\": 0, \"ticks\": \"\"}}, \"type\": \"parcoords\"}], \"pie\": [{\"automargin\": true, \"type\": \"pie\"}], \"scatter\": [{\"marker\": {\"colorbar\": {\"outlinewidth\": 0, \"ticks\": \"\"}}, \"type\": \"scatter\"}], \"scatter3d\": [{\"line\": {\"colorbar\": {\"outlinewidth\": 0, \"ticks\": \"\"}}, \"marker\": {\"colorbar\": {\"outlinewidth\": 0, \"ticks\": \"\"}}, \"type\": \"scatter3d\"}], \"scattercarpet\": [{\"marker\": {\"colorbar\": {\"outlinewidth\": 0, \"ticks\": \"\"}}, \"type\": \"scattercarpet\"}], \"scattergeo\": [{\"marker\": {\"colorbar\": {\"outlinewidth\": 0, \"ticks\": \"\"}}, \"type\": \"scattergeo\"}], \"scattergl\": [{\"marker\": {\"colorbar\": {\"outlinewidth\": 0, \"ticks\": \"\"}}, \"type\": \"scattergl\"}], \"scattermapbox\": [{\"marker\": {\"colorbar\": {\"outlinewidth\": 0, \"ticks\": \"\"}}, \"type\": \"scattermapbox\"}], \"scatterpolar\": [{\"marker\": {\"colorbar\": {\"outlinewidth\": 0, \"ticks\": \"\"}}, \"type\": \"scatterpolar\"}], \"scatterpolargl\": [{\"marker\": {\"colorbar\": {\"outlinewidth\": 0, \"ticks\": \"\"}}, \"type\": \"scatterpolargl\"}], \"scatterternary\": [{\"marker\": {\"colorbar\": {\"outlinewidth\": 0, \"ticks\": \"\"}}, \"type\": \"scatterternary\"}], \"surface\": [{\"colorbar\": {\"outlinewidth\": 0, \"ticks\": \"\"}, \"colorscale\": [[0.0, \"#0d0887\"], [0.1111111111111111, \"#46039f\"], [0.2222222222222222, \"#7201a8\"], [0.3333333333333333, \"#9c179e\"], [0.4444444444444444, \"#bd3786\"], [0.5555555555555556, \"#d8576b\"], [0.6666666666666666, \"#ed7953\"], [0.7777777777777778, \"#fb9f3a\"], [0.8888888888888888, \"#fdca26\"], [1.0, \"#f0f921\"]], \"type\": \"surface\"}], \"table\": [{\"cells\": {\"fill\": {\"color\": \"#EBF0F8\"}, \"line\": {\"color\": \"white\"}}, \"header\": {\"fill\": {\"color\": \"#C8D4E3\"}, \"line\": {\"color\": \"white\"}}, \"type\": \"table\"}]}, \"layout\": {\"annotationdefaults\": {\"arrowcolor\": \"#2a3f5f\", \"arrowhead\": 0, \"arrowwidth\": 1}, \"coloraxis\": {\"colorbar\": {\"outlinewidth\": 0, \"ticks\": \"\"}}, \"colorscale\": {\"diverging\": [[0, \"#8e0152\"], [0.1, \"#c51b7d\"], [0.2, \"#de77ae\"], [0.3, \"#f1b6da\"], [0.4, \"#fde0ef\"], [0.5, \"#f7f7f7\"], [0.6, \"#e6f5d0\"], [0.7, \"#b8e186\"], [0.8, \"#7fbc41\"], [0.9, \"#4d9221\"], [1, \"#276419\"]], \"sequential\": [[0.0, \"#0d0887\"], [0.1111111111111111, \"#46039f\"], [0.2222222222222222, \"#7201a8\"], [0.3333333333333333, \"#9c179e\"], [0.4444444444444444, \"#bd3786\"], [0.5555555555555556, \"#d8576b\"], [0.6666666666666666, \"#ed7953\"], [0.7777777777777778, \"#fb9f3a\"], [0.8888888888888888, \"#fdca26\"], [1.0, \"#f0f921\"]], \"sequentialminus\": [[0.0, \"#0d0887\"], [0.1111111111111111, \"#46039f\"], [0.2222222222222222, \"#7201a8\"], [0.3333333333333333, \"#9c179e\"], [0.4444444444444444, \"#bd3786\"], [0.5555555555555556, \"#d8576b\"], [0.6666666666666666, \"#ed7953\"], [0.7777777777777778, \"#fb9f3a\"], [0.8888888888888888, \"#fdca26\"], [1.0, \"#f0f921\"]]}, \"colorway\": [\"#636efa\", \"#EF553B\", \"#00cc96\", \"#ab63fa\", \"#FFA15A\", \"#19d3f3\", \"#FF6692\", \"#B6E880\", \"#FF97FF\", \"#FECB52\"], \"font\": {\"color\": \"#2a3f5f\"}, \"geo\": {\"bgcolor\": \"white\", \"lakecolor\": \"white\", \"landcolor\": \"#E5ECF6\", \"showlakes\": true, \"showland\": true, \"subunitcolor\": \"white\"}, \"hoverlabel\": {\"align\": \"left\"}, \"hovermode\": \"closest\", \"mapbox\": {\"style\": \"light\"}, \"paper_bgcolor\": \"white\", \"plot_bgcolor\": \"#E5ECF6\", \"polar\": {\"angularaxis\": {\"gridcolor\": \"white\", \"linecolor\": \"white\", \"ticks\": \"\"}, \"bgcolor\": \"#E5ECF6\", \"radialaxis\": {\"gridcolor\": \"white\", \"linecolor\": \"white\", \"ticks\": \"\"}}, \"scene\": {\"xaxis\": {\"backgroundcolor\": \"#E5ECF6\", \"gridcolor\": \"white\", \"gridwidth\": 2, \"linecolor\": \"white\", \"showbackground\": true, \"ticks\": \"\", \"zerolinecolor\": \"white\"}, \"yaxis\": {\"backgroundcolor\": \"#E5ECF6\", \"gridcolor\": \"white\", \"gridwidth\": 2, \"linecolor\": \"white\", \"showbackground\": true, \"ticks\": \"\", \"zerolinecolor\": \"white\"}, \"zaxis\": {\"backgroundcolor\": \"#E5ECF6\", \"gridcolor\": \"white\", \"gridwidth\": 2, \"linecolor\": \"white\", \"showbackground\": true, \"ticks\": \"\", \"zerolinecolor\": \"white\"}}, \"shapedefaults\": {\"line\": {\"color\": \"#2a3f5f\"}}, \"ternary\": {\"aaxis\": {\"gridcolor\": \"white\", \"linecolor\": \"white\", \"ticks\": \"\"}, \"baxis\": {\"gridcolor\": \"white\", \"linecolor\": \"white\", \"ticks\": \"\"}, \"bgcolor\": \"#E5ECF6\", \"caxis\": {\"gridcolor\": \"white\", \"linecolor\": \"white\", \"ticks\": \"\"}}, \"title\": {\"x\": 0.05}, \"xaxis\": {\"automargin\": true, \"gridcolor\": \"white\", \"linecolor\": \"white\", \"ticks\": \"\", \"title\": {\"standoff\": 15}, \"zerolinecolor\": \"white\", \"zerolinewidth\": 2}, \"yaxis\": {\"automargin\": true, \"gridcolor\": \"white\", \"linecolor\": \"white\", \"ticks\": \"\", \"title\": {\"standoff\": 15}, \"zerolinecolor\": \"white\", \"zerolinewidth\": 2}}}, \"width\": 1000, \"xaxis\": {\"anchor\": \"y\", \"domain\": [0.0, 1.0], \"title\": {\"text\": \"year\"}, \"type\": \"log\"}, \"yaxis\": {\"anchor\": \"x\", \"domain\": [0.0, 1.0], \"title\": {\"text\": \"suicides_no\"}}},\n",
       "                        {\"responsive\": true}\n",
       "                    ).then(function(){\n",
       "                            \n",
       "var gd = document.getElementById('6581952a-04b5-4927-ac7d-8bb8dcc46481');\n",
       "var x = new MutationObserver(function (mutations, observer) {{\n",
       "        var display = window.getComputedStyle(gd).display;\n",
       "        if (!display || display === 'none') {{\n",
       "            console.log([gd, 'removed!']);\n",
       "            Plotly.purge(gd);\n",
       "            observer.disconnect();\n",
       "        }}\n",
       "}});\n",
       "\n",
       "// Listen for the removal of the full notebook cells\n",
       "var notebookContainer = gd.closest('#notebook-container');\n",
       "if (notebookContainer) {{\n",
       "    x.observe(notebookContainer, {childList: true});\n",
       "}}\n",
       "\n",
       "// Listen for the clearing of the current output cell\n",
       "var outputEl = gd.closest('.output');\n",
       "if (outputEl) {{\n",
       "    x.observe(outputEl, {childList: true});\n",
       "}}\n",
       "\n",
       "                        })\n",
       "                };\n",
       "                });\n",
       "            </script>\n",
       "        </div>"
      ]
     },
     "metadata": {},
     "output_type": "display_data"
    }
   ],
   "source": [
    "fig = px.scatter(agg_data, x=\"year\", y=\"suicides_no\", color=\"age\",\n",
    "                hover_name=\"age\", log_x=True, size_max=60, width=1000, height=800)\n",
    "fig.show()"
   ]
  },
  {
   "cell_type": "code",
   "execution_count": 87,
   "metadata": {},
   "outputs": [
    {
     "data": {
      "application/vnd.plotly.v1+json": {
       "config": {
        "plotlyServerURL": "https://plot.ly"
       },
       "data": [
        {
         "hovertemplate": "<b>%{hovertext}</b><br><br>age=15-24 years<br>year=%{x}<br>suicides_no=%{y}<extra></extra>",
         "hovertext": [
          "15-24 years",
          "15-24 years",
          "15-24 years",
          "15-24 years",
          "15-24 years",
          "15-24 years",
          "15-24 years",
          "15-24 years",
          "15-24 years",
          "15-24 years",
          "15-24 years",
          "15-24 years",
          "15-24 years",
          "15-24 years",
          "15-24 years"
         ],
         "legendgroup": "15-24 years",
         "line": {
          "color": "#636efa",
          "dash": "solid"
         },
         "mode": "lines",
         "name": "15-24 years",
         "showlegend": true,
         "type": "scatter",
         "x": [
          1992,
          1993,
          1997,
          1998,
          1999,
          2000,
          2001,
          2002,
          2003,
          2006,
          2007,
          2008,
          2009,
          2010,
          2011
         ],
         "xaxis": "x",
         "y": [
          143,
          344,
          251,
          276,
          353,
          436,
          414,
          460,
          494,
          546,
          588,
          612,
          707,
          721,
          762
         ],
         "yaxis": "y"
        },
        {
         "hovertemplate": "<b>%{hovertext}</b><br><br>age=25-34 years<br>year=%{x}<br>suicides_no=%{y}<extra></extra>",
         "hovertext": [
          "25-34 years",
          "25-34 years",
          "25-34 years",
          "25-34 years",
          "25-34 years",
          "25-34 years",
          "25-34 years",
          "25-34 years",
          "25-34 years",
          "25-34 years",
          "25-34 years",
          "25-34 years",
          "25-34 years",
          "25-34 years",
          "25-34 years"
         ],
         "legendgroup": "25-34 years",
         "line": {
          "color": "#EF553B",
          "dash": "solid"
         },
         "mode": "lines",
         "name": "25-34 years",
         "showlegend": true,
         "type": "scatter",
         "x": [
          1992,
          1993,
          1997,
          1998,
          1999,
          2000,
          2001,
          2002,
          2003,
          2006,
          2007,
          2008,
          2009,
          2010,
          2011
         ],
         "xaxis": "x",
         "y": [
          82,
          240,
          242,
          250,
          260,
          365,
          294,
          328,
          418,
          460,
          393,
          451,
          484,
          501,
          590
         ],
         "yaxis": "y"
        },
        {
         "hovertemplate": "<b>%{hovertext}</b><br><br>age=35-54 years<br>year=%{x}<br>suicides_no=%{y}<extra></extra>",
         "hovertext": [
          "35-54 years",
          "35-54 years",
          "35-54 years",
          "35-54 years",
          "35-54 years",
          "35-54 years",
          "35-54 years",
          "35-54 years",
          "35-54 years",
          "35-54 years",
          "35-54 years",
          "35-54 years",
          "35-54 years",
          "35-54 years",
          "35-54 years"
         ],
         "legendgroup": "35-54 years",
         "line": {
          "color": "#00cc96",
          "dash": "solid"
         },
         "mode": "lines",
         "name": "35-54 years",
         "showlegend": true,
         "type": "scatter",
         "x": [
          1992,
          1993,
          1997,
          1998,
          1999,
          2000,
          2001,
          2002,
          2003,
          2006,
          2007,
          2008,
          2009,
          2010,
          2011
         ],
         "xaxis": "x",
         "y": [
          81,
          182,
          202,
          219,
          282,
          392,
          314,
          325,
          426,
          475,
          485,
          495,
          582,
          576,
          680
         ],
         "yaxis": "y"
        },
        {
         "hovertemplate": "<b>%{hovertext}</b><br><br>age=5-14 years<br>year=%{x}<br>suicides_no=%{y}<extra></extra>",
         "hovertext": [
          "5-14 years",
          "5-14 years",
          "5-14 years",
          "5-14 years",
          "5-14 years",
          "5-14 years",
          "5-14 years",
          "5-14 years",
          "5-14 years",
          "5-14 years",
          "5-14 years",
          "5-14 years",
          "5-14 years",
          "5-14 years",
          "5-14 years"
         ],
         "legendgroup": "5-14 years",
         "line": {
          "color": "#ab63fa",
          "dash": "solid"
         },
         "mode": "lines",
         "name": "5-14 years",
         "showlegend": true,
         "type": "scatter",
         "x": [
          1992,
          1993,
          1997,
          1998,
          1999,
          2000,
          2001,
          2002,
          2003,
          2006,
          2007,
          2008,
          2009,
          2010,
          2011
         ],
         "xaxis": "x",
         "y": [
          0,
          0,
          16,
          26,
          21,
          32,
          20,
          37,
          35,
          63,
          34,
          46,
          38,
          52,
          73
         ],
         "yaxis": "y"
        },
        {
         "hovertemplate": "<b>%{hovertext}</b><br><br>age=55-74 years<br>year=%{x}<br>suicides_no=%{y}<extra></extra>",
         "hovertext": [
          "55-74 years",
          "55-74 years",
          "55-74 years",
          "55-74 years",
          "55-74 years",
          "55-74 years",
          "55-74 years",
          "55-74 years",
          "55-74 years",
          "55-74 years",
          "55-74 years",
          "55-74 years",
          "55-74 years",
          "55-74 years",
          "55-74 years"
         ],
         "legendgroup": "55-74 years",
         "line": {
          "color": "#FFA15A",
          "dash": "solid"
         },
         "mode": "lines",
         "name": "55-74 years",
         "showlegend": true,
         "type": "scatter",
         "x": [
          1992,
          1993,
          1997,
          1998,
          1999,
          2000,
          2001,
          2002,
          2003,
          2006,
          2007,
          2008,
          2009,
          2010,
          2011
         ],
         "xaxis": "x",
         "y": [
          33,
          61,
          86,
          92,
          100,
          148,
          138,
          120,
          133,
          201,
          174,
          175,
          227,
          214,
          266
         ],
         "yaxis": "y"
        },
        {
         "hovertemplate": "<b>%{hovertext}</b><br><br>age=75+ years<br>year=%{x}<br>suicides_no=%{y}<extra></extra>",
         "hovertext": [
          "75+ years",
          "75+ years",
          "75+ years",
          "75+ years",
          "75+ years",
          "75+ years",
          "75+ years",
          "75+ years",
          "75+ years",
          "75+ years",
          "75+ years",
          "75+ years",
          "75+ years",
          "75+ years",
          "75+ years"
         ],
         "legendgroup": "75+ years",
         "line": {
          "color": "#19d3f3",
          "dash": "solid"
         },
         "mode": "lines",
         "name": "75+ years",
         "showlegend": true,
         "type": "scatter",
         "x": [
          1992,
          1993,
          1997,
          1998,
          1999,
          2000,
          2001,
          2002,
          2003,
          2006,
          2007,
          2008,
          2009,
          2010,
          2011
         ],
         "xaxis": "x",
         "y": [
          8,
          19,
          17,
          20,
          27,
          30,
          24,
          31,
          38,
          43,
          24,
          41,
          36,
          52,
          78
         ],
         "yaxis": "y"
        }
       ],
       "layout": {
        "height": 800,
        "legend": {
         "title": {
          "text": "age"
         },
         "tracegroupgap": 0
        },
        "margin": {
         "t": 60
        },
        "template": {
         "data": {
          "bar": [
           {
            "error_x": {
             "color": "#2a3f5f"
            },
            "error_y": {
             "color": "#2a3f5f"
            },
            "marker": {
             "line": {
              "color": "#E5ECF6",
              "width": 0.5
             }
            },
            "type": "bar"
           }
          ],
          "barpolar": [
           {
            "marker": {
             "line": {
              "color": "#E5ECF6",
              "width": 0.5
             }
            },
            "type": "barpolar"
           }
          ],
          "carpet": [
           {
            "aaxis": {
             "endlinecolor": "#2a3f5f",
             "gridcolor": "white",
             "linecolor": "white",
             "minorgridcolor": "white",
             "startlinecolor": "#2a3f5f"
            },
            "baxis": {
             "endlinecolor": "#2a3f5f",
             "gridcolor": "white",
             "linecolor": "white",
             "minorgridcolor": "white",
             "startlinecolor": "#2a3f5f"
            },
            "type": "carpet"
           }
          ],
          "choropleth": [
           {
            "colorbar": {
             "outlinewidth": 0,
             "ticks": ""
            },
            "type": "choropleth"
           }
          ],
          "contour": [
           {
            "colorbar": {
             "outlinewidth": 0,
             "ticks": ""
            },
            "colorscale": [
             [
              0,
              "#0d0887"
             ],
             [
              0.1111111111111111,
              "#46039f"
             ],
             [
              0.2222222222222222,
              "#7201a8"
             ],
             [
              0.3333333333333333,
              "#9c179e"
             ],
             [
              0.4444444444444444,
              "#bd3786"
             ],
             [
              0.5555555555555556,
              "#d8576b"
             ],
             [
              0.6666666666666666,
              "#ed7953"
             ],
             [
              0.7777777777777778,
              "#fb9f3a"
             ],
             [
              0.8888888888888888,
              "#fdca26"
             ],
             [
              1,
              "#f0f921"
             ]
            ],
            "type": "contour"
           }
          ],
          "contourcarpet": [
           {
            "colorbar": {
             "outlinewidth": 0,
             "ticks": ""
            },
            "type": "contourcarpet"
           }
          ],
          "heatmap": [
           {
            "colorbar": {
             "outlinewidth": 0,
             "ticks": ""
            },
            "colorscale": [
             [
              0,
              "#0d0887"
             ],
             [
              0.1111111111111111,
              "#46039f"
             ],
             [
              0.2222222222222222,
              "#7201a8"
             ],
             [
              0.3333333333333333,
              "#9c179e"
             ],
             [
              0.4444444444444444,
              "#bd3786"
             ],
             [
              0.5555555555555556,
              "#d8576b"
             ],
             [
              0.6666666666666666,
              "#ed7953"
             ],
             [
              0.7777777777777778,
              "#fb9f3a"
             ],
             [
              0.8888888888888888,
              "#fdca26"
             ],
             [
              1,
              "#f0f921"
             ]
            ],
            "type": "heatmap"
           }
          ],
          "heatmapgl": [
           {
            "colorbar": {
             "outlinewidth": 0,
             "ticks": ""
            },
            "colorscale": [
             [
              0,
              "#0d0887"
             ],
             [
              0.1111111111111111,
              "#46039f"
             ],
             [
              0.2222222222222222,
              "#7201a8"
             ],
             [
              0.3333333333333333,
              "#9c179e"
             ],
             [
              0.4444444444444444,
              "#bd3786"
             ],
             [
              0.5555555555555556,
              "#d8576b"
             ],
             [
              0.6666666666666666,
              "#ed7953"
             ],
             [
              0.7777777777777778,
              "#fb9f3a"
             ],
             [
              0.8888888888888888,
              "#fdca26"
             ],
             [
              1,
              "#f0f921"
             ]
            ],
            "type": "heatmapgl"
           }
          ],
          "histogram": [
           {
            "marker": {
             "colorbar": {
              "outlinewidth": 0,
              "ticks": ""
             }
            },
            "type": "histogram"
           }
          ],
          "histogram2d": [
           {
            "colorbar": {
             "outlinewidth": 0,
             "ticks": ""
            },
            "colorscale": [
             [
              0,
              "#0d0887"
             ],
             [
              0.1111111111111111,
              "#46039f"
             ],
             [
              0.2222222222222222,
              "#7201a8"
             ],
             [
              0.3333333333333333,
              "#9c179e"
             ],
             [
              0.4444444444444444,
              "#bd3786"
             ],
             [
              0.5555555555555556,
              "#d8576b"
             ],
             [
              0.6666666666666666,
              "#ed7953"
             ],
             [
              0.7777777777777778,
              "#fb9f3a"
             ],
             [
              0.8888888888888888,
              "#fdca26"
             ],
             [
              1,
              "#f0f921"
             ]
            ],
            "type": "histogram2d"
           }
          ],
          "histogram2dcontour": [
           {
            "colorbar": {
             "outlinewidth": 0,
             "ticks": ""
            },
            "colorscale": [
             [
              0,
              "#0d0887"
             ],
             [
              0.1111111111111111,
              "#46039f"
             ],
             [
              0.2222222222222222,
              "#7201a8"
             ],
             [
              0.3333333333333333,
              "#9c179e"
             ],
             [
              0.4444444444444444,
              "#bd3786"
             ],
             [
              0.5555555555555556,
              "#d8576b"
             ],
             [
              0.6666666666666666,
              "#ed7953"
             ],
             [
              0.7777777777777778,
              "#fb9f3a"
             ],
             [
              0.8888888888888888,
              "#fdca26"
             ],
             [
              1,
              "#f0f921"
             ]
            ],
            "type": "histogram2dcontour"
           }
          ],
          "mesh3d": [
           {
            "colorbar": {
             "outlinewidth": 0,
             "ticks": ""
            },
            "type": "mesh3d"
           }
          ],
          "parcoords": [
           {
            "line": {
             "colorbar": {
              "outlinewidth": 0,
              "ticks": ""
             }
            },
            "type": "parcoords"
           }
          ],
          "pie": [
           {
            "automargin": true,
            "type": "pie"
           }
          ],
          "scatter": [
           {
            "marker": {
             "colorbar": {
              "outlinewidth": 0,
              "ticks": ""
             }
            },
            "type": "scatter"
           }
          ],
          "scatter3d": [
           {
            "line": {
             "colorbar": {
              "outlinewidth": 0,
              "ticks": ""
             }
            },
            "marker": {
             "colorbar": {
              "outlinewidth": 0,
              "ticks": ""
             }
            },
            "type": "scatter3d"
           }
          ],
          "scattercarpet": [
           {
            "marker": {
             "colorbar": {
              "outlinewidth": 0,
              "ticks": ""
             }
            },
            "type": "scattercarpet"
           }
          ],
          "scattergeo": [
           {
            "marker": {
             "colorbar": {
              "outlinewidth": 0,
              "ticks": ""
             }
            },
            "type": "scattergeo"
           }
          ],
          "scattergl": [
           {
            "marker": {
             "colorbar": {
              "outlinewidth": 0,
              "ticks": ""
             }
            },
            "type": "scattergl"
           }
          ],
          "scattermapbox": [
           {
            "marker": {
             "colorbar": {
              "outlinewidth": 0,
              "ticks": ""
             }
            },
            "type": "scattermapbox"
           }
          ],
          "scatterpolar": [
           {
            "marker": {
             "colorbar": {
              "outlinewidth": 0,
              "ticks": ""
             }
            },
            "type": "scatterpolar"
           }
          ],
          "scatterpolargl": [
           {
            "marker": {
             "colorbar": {
              "outlinewidth": 0,
              "ticks": ""
             }
            },
            "type": "scatterpolargl"
           }
          ],
          "scatterternary": [
           {
            "marker": {
             "colorbar": {
              "outlinewidth": 0,
              "ticks": ""
             }
            },
            "type": "scatterternary"
           }
          ],
          "surface": [
           {
            "colorbar": {
             "outlinewidth": 0,
             "ticks": ""
            },
            "colorscale": [
             [
              0,
              "#0d0887"
             ],
             [
              0.1111111111111111,
              "#46039f"
             ],
             [
              0.2222222222222222,
              "#7201a8"
             ],
             [
              0.3333333333333333,
              "#9c179e"
             ],
             [
              0.4444444444444444,
              "#bd3786"
             ],
             [
              0.5555555555555556,
              "#d8576b"
             ],
             [
              0.6666666666666666,
              "#ed7953"
             ],
             [
              0.7777777777777778,
              "#fb9f3a"
             ],
             [
              0.8888888888888888,
              "#fdca26"
             ],
             [
              1,
              "#f0f921"
             ]
            ],
            "type": "surface"
           }
          ],
          "table": [
           {
            "cells": {
             "fill": {
              "color": "#EBF0F8"
             },
             "line": {
              "color": "white"
             }
            },
            "header": {
             "fill": {
              "color": "#C8D4E3"
             },
             "line": {
              "color": "white"
             }
            },
            "type": "table"
           }
          ]
         },
         "layout": {
          "annotationdefaults": {
           "arrowcolor": "#2a3f5f",
           "arrowhead": 0,
           "arrowwidth": 1
          },
          "coloraxis": {
           "colorbar": {
            "outlinewidth": 0,
            "ticks": ""
           }
          },
          "colorscale": {
           "diverging": [
            [
             0,
             "#8e0152"
            ],
            [
             0.1,
             "#c51b7d"
            ],
            [
             0.2,
             "#de77ae"
            ],
            [
             0.3,
             "#f1b6da"
            ],
            [
             0.4,
             "#fde0ef"
            ],
            [
             0.5,
             "#f7f7f7"
            ],
            [
             0.6,
             "#e6f5d0"
            ],
            [
             0.7,
             "#b8e186"
            ],
            [
             0.8,
             "#7fbc41"
            ],
            [
             0.9,
             "#4d9221"
            ],
            [
             1,
             "#276419"
            ]
           ],
           "sequential": [
            [
             0,
             "#0d0887"
            ],
            [
             0.1111111111111111,
             "#46039f"
            ],
            [
             0.2222222222222222,
             "#7201a8"
            ],
            [
             0.3333333333333333,
             "#9c179e"
            ],
            [
             0.4444444444444444,
             "#bd3786"
            ],
            [
             0.5555555555555556,
             "#d8576b"
            ],
            [
             0.6666666666666666,
             "#ed7953"
            ],
            [
             0.7777777777777778,
             "#fb9f3a"
            ],
            [
             0.8888888888888888,
             "#fdca26"
            ],
            [
             1,
             "#f0f921"
            ]
           ],
           "sequentialminus": [
            [
             0,
             "#0d0887"
            ],
            [
             0.1111111111111111,
             "#46039f"
            ],
            [
             0.2222222222222222,
             "#7201a8"
            ],
            [
             0.3333333333333333,
             "#9c179e"
            ],
            [
             0.4444444444444444,
             "#bd3786"
            ],
            [
             0.5555555555555556,
             "#d8576b"
            ],
            [
             0.6666666666666666,
             "#ed7953"
            ],
            [
             0.7777777777777778,
             "#fb9f3a"
            ],
            [
             0.8888888888888888,
             "#fdca26"
            ],
            [
             1,
             "#f0f921"
            ]
           ]
          },
          "colorway": [
           "#636efa",
           "#EF553B",
           "#00cc96",
           "#ab63fa",
           "#FFA15A",
           "#19d3f3",
           "#FF6692",
           "#B6E880",
           "#FF97FF",
           "#FECB52"
          ],
          "font": {
           "color": "#2a3f5f"
          },
          "geo": {
           "bgcolor": "white",
           "lakecolor": "white",
           "landcolor": "#E5ECF6",
           "showlakes": true,
           "showland": true,
           "subunitcolor": "white"
          },
          "hoverlabel": {
           "align": "left"
          },
          "hovermode": "closest",
          "mapbox": {
           "style": "light"
          },
          "paper_bgcolor": "white",
          "plot_bgcolor": "#E5ECF6",
          "polar": {
           "angularaxis": {
            "gridcolor": "white",
            "linecolor": "white",
            "ticks": ""
           },
           "bgcolor": "#E5ECF6",
           "radialaxis": {
            "gridcolor": "white",
            "linecolor": "white",
            "ticks": ""
           }
          },
          "scene": {
           "xaxis": {
            "backgroundcolor": "#E5ECF6",
            "gridcolor": "white",
            "gridwidth": 2,
            "linecolor": "white",
            "showbackground": true,
            "ticks": "",
            "zerolinecolor": "white"
           },
           "yaxis": {
            "backgroundcolor": "#E5ECF6",
            "gridcolor": "white",
            "gridwidth": 2,
            "linecolor": "white",
            "showbackground": true,
            "ticks": "",
            "zerolinecolor": "white"
           },
           "zaxis": {
            "backgroundcolor": "#E5ECF6",
            "gridcolor": "white",
            "gridwidth": 2,
            "linecolor": "white",
            "showbackground": true,
            "ticks": "",
            "zerolinecolor": "white"
           }
          },
          "shapedefaults": {
           "line": {
            "color": "#2a3f5f"
           }
          },
          "ternary": {
           "aaxis": {
            "gridcolor": "white",
            "linecolor": "white",
            "ticks": ""
           },
           "baxis": {
            "gridcolor": "white",
            "linecolor": "white",
            "ticks": ""
           },
           "bgcolor": "#E5ECF6",
           "caxis": {
            "gridcolor": "white",
            "linecolor": "white",
            "ticks": ""
           }
          },
          "title": {
           "x": 0.05
          },
          "xaxis": {
           "automargin": true,
           "gridcolor": "white",
           "linecolor": "white",
           "ticks": "",
           "title": {
            "standoff": 15
           },
           "zerolinecolor": "white",
           "zerolinewidth": 2
          },
          "yaxis": {
           "automargin": true,
           "gridcolor": "white",
           "linecolor": "white",
           "ticks": "",
           "title": {
            "standoff": 15
           },
           "zerolinecolor": "white",
           "zerolinewidth": 2
          }
         }
        },
        "width": 1000,
        "xaxis": {
         "anchor": "y",
         "domain": [
          0,
          1
         ],
         "title": {
          "text": "year"
         }
        },
        "yaxis": {
         "anchor": "x",
         "domain": [
          0,
          1
         ],
         "title": {
          "text": "suicides_no"
         }
        }
       }
      },
      "text/html": [
       "<div>\n",
       "        \n",
       "        \n",
       "            <div id=\"9c13167f-86cf-4b21-844a-8faa6d7b839c\" class=\"plotly-graph-div\" style=\"height:800px; width:1000px;\"></div>\n",
       "            <script type=\"text/javascript\">\n",
       "                require([\"plotly\"], function(Plotly) {\n",
       "                    window.PLOTLYENV=window.PLOTLYENV || {};\n",
       "                    \n",
       "                if (document.getElementById(\"9c13167f-86cf-4b21-844a-8faa6d7b839c\")) {\n",
       "                    Plotly.newPlot(\n",
       "                        '9c13167f-86cf-4b21-844a-8faa6d7b839c',\n",
       "                        [{\"hovertemplate\": \"<b>%{hovertext}</b><br><br>age=15-24 years<br>year=%{x}<br>suicides_no=%{y}<extra></extra>\", \"hovertext\": [\"15-24 years\", \"15-24 years\", \"15-24 years\", \"15-24 years\", \"15-24 years\", \"15-24 years\", \"15-24 years\", \"15-24 years\", \"15-24 years\", \"15-24 years\", \"15-24 years\", \"15-24 years\", \"15-24 years\", \"15-24 years\", \"15-24 years\"], \"legendgroup\": \"15-24 years\", \"line\": {\"color\": \"#636efa\", \"dash\": \"solid\"}, \"mode\": \"lines\", \"name\": \"15-24 years\", \"showlegend\": true, \"type\": \"scatter\", \"x\": [1992, 1993, 1997, 1998, 1999, 2000, 2001, 2002, 2003, 2006, 2007, 2008, 2009, 2010, 2011], \"xaxis\": \"x\", \"y\": [143, 344, 251, 276, 353, 436, 414, 460, 494, 546, 588, 612, 707, 721, 762], \"yaxis\": \"y\"}, {\"hovertemplate\": \"<b>%{hovertext}</b><br><br>age=25-34 years<br>year=%{x}<br>suicides_no=%{y}<extra></extra>\", \"hovertext\": [\"25-34 years\", \"25-34 years\", \"25-34 years\", \"25-34 years\", \"25-34 years\", \"25-34 years\", \"25-34 years\", \"25-34 years\", \"25-34 years\", \"25-34 years\", \"25-34 years\", \"25-34 years\", \"25-34 years\", \"25-34 years\", \"25-34 years\"], \"legendgroup\": \"25-34 years\", \"line\": {\"color\": \"#EF553B\", \"dash\": \"solid\"}, \"mode\": \"lines\", \"name\": \"25-34 years\", \"showlegend\": true, \"type\": \"scatter\", \"x\": [1992, 1993, 1997, 1998, 1999, 2000, 2001, 2002, 2003, 2006, 2007, 2008, 2009, 2010, 2011], \"xaxis\": \"x\", \"y\": [82, 240, 242, 250, 260, 365, 294, 328, 418, 460, 393, 451, 484, 501, 590], \"yaxis\": \"y\"}, {\"hovertemplate\": \"<b>%{hovertext}</b><br><br>age=35-54 years<br>year=%{x}<br>suicides_no=%{y}<extra></extra>\", \"hovertext\": [\"35-54 years\", \"35-54 years\", \"35-54 years\", \"35-54 years\", \"35-54 years\", \"35-54 years\", \"35-54 years\", \"35-54 years\", \"35-54 years\", \"35-54 years\", \"35-54 years\", \"35-54 years\", \"35-54 years\", \"35-54 years\", \"35-54 years\"], \"legendgroup\": \"35-54 years\", \"line\": {\"color\": \"#00cc96\", \"dash\": \"solid\"}, \"mode\": \"lines\", \"name\": \"35-54 years\", \"showlegend\": true, \"type\": \"scatter\", \"x\": [1992, 1993, 1997, 1998, 1999, 2000, 2001, 2002, 2003, 2006, 2007, 2008, 2009, 2010, 2011], \"xaxis\": \"x\", \"y\": [81, 182, 202, 219, 282, 392, 314, 325, 426, 475, 485, 495, 582, 576, 680], \"yaxis\": \"y\"}, {\"hovertemplate\": \"<b>%{hovertext}</b><br><br>age=5-14 years<br>year=%{x}<br>suicides_no=%{y}<extra></extra>\", \"hovertext\": [\"5-14 years\", \"5-14 years\", \"5-14 years\", \"5-14 years\", \"5-14 years\", \"5-14 years\", \"5-14 years\", \"5-14 years\", \"5-14 years\", \"5-14 years\", \"5-14 years\", \"5-14 years\", \"5-14 years\", \"5-14 years\", \"5-14 years\"], \"legendgroup\": \"5-14 years\", \"line\": {\"color\": \"#ab63fa\", \"dash\": \"solid\"}, \"mode\": \"lines\", \"name\": \"5-14 years\", \"showlegend\": true, \"type\": \"scatter\", \"x\": [1992, 1993, 1997, 1998, 1999, 2000, 2001, 2002, 2003, 2006, 2007, 2008, 2009, 2010, 2011], \"xaxis\": \"x\", \"y\": [0, 0, 16, 26, 21, 32, 20, 37, 35, 63, 34, 46, 38, 52, 73], \"yaxis\": \"y\"}, {\"hovertemplate\": \"<b>%{hovertext}</b><br><br>age=55-74 years<br>year=%{x}<br>suicides_no=%{y}<extra></extra>\", \"hovertext\": [\"55-74 years\", \"55-74 years\", \"55-74 years\", \"55-74 years\", \"55-74 years\", \"55-74 years\", \"55-74 years\", \"55-74 years\", \"55-74 years\", \"55-74 years\", \"55-74 years\", \"55-74 years\", \"55-74 years\", \"55-74 years\", \"55-74 years\"], \"legendgroup\": \"55-74 years\", \"line\": {\"color\": \"#FFA15A\", \"dash\": \"solid\"}, \"mode\": \"lines\", \"name\": \"55-74 years\", \"showlegend\": true, \"type\": \"scatter\", \"x\": [1992, 1993, 1997, 1998, 1999, 2000, 2001, 2002, 2003, 2006, 2007, 2008, 2009, 2010, 2011], \"xaxis\": \"x\", \"y\": [33, 61, 86, 92, 100, 148, 138, 120, 133, 201, 174, 175, 227, 214, 266], \"yaxis\": \"y\"}, {\"hovertemplate\": \"<b>%{hovertext}</b><br><br>age=75+ years<br>year=%{x}<br>suicides_no=%{y}<extra></extra>\", \"hovertext\": [\"75+ years\", \"75+ years\", \"75+ years\", \"75+ years\", \"75+ years\", \"75+ years\", \"75+ years\", \"75+ years\", \"75+ years\", \"75+ years\", \"75+ years\", \"75+ years\", \"75+ years\", \"75+ years\", \"75+ years\"], \"legendgroup\": \"75+ years\", \"line\": {\"color\": \"#19d3f3\", \"dash\": \"solid\"}, \"mode\": \"lines\", \"name\": \"75+ years\", \"showlegend\": true, \"type\": \"scatter\", \"x\": [1992, 1993, 1997, 1998, 1999, 2000, 2001, 2002, 2003, 2006, 2007, 2008, 2009, 2010, 2011], \"xaxis\": \"x\", \"y\": [8, 19, 17, 20, 27, 30, 24, 31, 38, 43, 24, 41, 36, 52, 78], \"yaxis\": \"y\"}],\n",
       "                        {\"height\": 800, \"legend\": {\"title\": {\"text\": \"age\"}, \"tracegroupgap\": 0}, \"margin\": {\"t\": 60}, \"template\": {\"data\": {\"bar\": [{\"error_x\": {\"color\": \"#2a3f5f\"}, \"error_y\": {\"color\": \"#2a3f5f\"}, \"marker\": {\"line\": {\"color\": \"#E5ECF6\", \"width\": 0.5}}, \"type\": \"bar\"}], \"barpolar\": [{\"marker\": {\"line\": {\"color\": \"#E5ECF6\", \"width\": 0.5}}, \"type\": \"barpolar\"}], \"carpet\": [{\"aaxis\": {\"endlinecolor\": \"#2a3f5f\", \"gridcolor\": \"white\", \"linecolor\": \"white\", \"minorgridcolor\": \"white\", \"startlinecolor\": \"#2a3f5f\"}, \"baxis\": {\"endlinecolor\": \"#2a3f5f\", \"gridcolor\": \"white\", \"linecolor\": \"white\", \"minorgridcolor\": \"white\", \"startlinecolor\": \"#2a3f5f\"}, \"type\": \"carpet\"}], \"choropleth\": [{\"colorbar\": {\"outlinewidth\": 0, \"ticks\": \"\"}, \"type\": \"choropleth\"}], \"contour\": [{\"colorbar\": {\"outlinewidth\": 0, \"ticks\": \"\"}, \"colorscale\": [[0.0, \"#0d0887\"], [0.1111111111111111, \"#46039f\"], [0.2222222222222222, \"#7201a8\"], [0.3333333333333333, \"#9c179e\"], [0.4444444444444444, \"#bd3786\"], [0.5555555555555556, \"#d8576b\"], [0.6666666666666666, \"#ed7953\"], [0.7777777777777778, \"#fb9f3a\"], [0.8888888888888888, \"#fdca26\"], [1.0, \"#f0f921\"]], \"type\": \"contour\"}], \"contourcarpet\": [{\"colorbar\": {\"outlinewidth\": 0, \"ticks\": \"\"}, \"type\": \"contourcarpet\"}], \"heatmap\": [{\"colorbar\": {\"outlinewidth\": 0, \"ticks\": \"\"}, \"colorscale\": [[0.0, \"#0d0887\"], [0.1111111111111111, \"#46039f\"], [0.2222222222222222, \"#7201a8\"], [0.3333333333333333, \"#9c179e\"], [0.4444444444444444, \"#bd3786\"], [0.5555555555555556, \"#d8576b\"], [0.6666666666666666, \"#ed7953\"], [0.7777777777777778, \"#fb9f3a\"], [0.8888888888888888, \"#fdca26\"], [1.0, \"#f0f921\"]], \"type\": \"heatmap\"}], \"heatmapgl\": [{\"colorbar\": {\"outlinewidth\": 0, \"ticks\": \"\"}, \"colorscale\": [[0.0, \"#0d0887\"], [0.1111111111111111, \"#46039f\"], [0.2222222222222222, \"#7201a8\"], [0.3333333333333333, \"#9c179e\"], [0.4444444444444444, \"#bd3786\"], [0.5555555555555556, \"#d8576b\"], [0.6666666666666666, \"#ed7953\"], [0.7777777777777778, \"#fb9f3a\"], [0.8888888888888888, \"#fdca26\"], [1.0, \"#f0f921\"]], \"type\": \"heatmapgl\"}], \"histogram\": [{\"marker\": {\"colorbar\": {\"outlinewidth\": 0, \"ticks\": \"\"}}, \"type\": \"histogram\"}], \"histogram2d\": [{\"colorbar\": {\"outlinewidth\": 0, \"ticks\": \"\"}, \"colorscale\": [[0.0, \"#0d0887\"], [0.1111111111111111, \"#46039f\"], [0.2222222222222222, \"#7201a8\"], [0.3333333333333333, \"#9c179e\"], [0.4444444444444444, \"#bd3786\"], [0.5555555555555556, \"#d8576b\"], [0.6666666666666666, \"#ed7953\"], [0.7777777777777778, \"#fb9f3a\"], [0.8888888888888888, \"#fdca26\"], [1.0, \"#f0f921\"]], \"type\": \"histogram2d\"}], \"histogram2dcontour\": [{\"colorbar\": {\"outlinewidth\": 0, \"ticks\": \"\"}, \"colorscale\": [[0.0, \"#0d0887\"], [0.1111111111111111, \"#46039f\"], [0.2222222222222222, \"#7201a8\"], [0.3333333333333333, \"#9c179e\"], [0.4444444444444444, \"#bd3786\"], [0.5555555555555556, \"#d8576b\"], [0.6666666666666666, \"#ed7953\"], [0.7777777777777778, \"#fb9f3a\"], [0.8888888888888888, \"#fdca26\"], [1.0, \"#f0f921\"]], \"type\": \"histogram2dcontour\"}], \"mesh3d\": [{\"colorbar\": {\"outlinewidth\": 0, \"ticks\": \"\"}, \"type\": \"mesh3d\"}], \"parcoords\": [{\"line\": {\"colorbar\": {\"outlinewidth\": 0, \"ticks\": \"\"}}, \"type\": \"parcoords\"}], \"pie\": [{\"automargin\": true, \"type\": \"pie\"}], \"scatter\": [{\"marker\": {\"colorbar\": {\"outlinewidth\": 0, \"ticks\": \"\"}}, \"type\": \"scatter\"}], \"scatter3d\": [{\"line\": {\"colorbar\": {\"outlinewidth\": 0, \"ticks\": \"\"}}, \"marker\": {\"colorbar\": {\"outlinewidth\": 0, \"ticks\": \"\"}}, \"type\": \"scatter3d\"}], \"scattercarpet\": [{\"marker\": {\"colorbar\": {\"outlinewidth\": 0, \"ticks\": \"\"}}, \"type\": \"scattercarpet\"}], \"scattergeo\": [{\"marker\": {\"colorbar\": {\"outlinewidth\": 0, \"ticks\": \"\"}}, \"type\": \"scattergeo\"}], \"scattergl\": [{\"marker\": {\"colorbar\": {\"outlinewidth\": 0, \"ticks\": \"\"}}, \"type\": \"scattergl\"}], \"scattermapbox\": [{\"marker\": {\"colorbar\": {\"outlinewidth\": 0, \"ticks\": \"\"}}, \"type\": \"scattermapbox\"}], \"scatterpolar\": [{\"marker\": {\"colorbar\": {\"outlinewidth\": 0, \"ticks\": \"\"}}, \"type\": \"scatterpolar\"}], \"scatterpolargl\": [{\"marker\": {\"colorbar\": {\"outlinewidth\": 0, \"ticks\": \"\"}}, \"type\": \"scatterpolargl\"}], \"scatterternary\": [{\"marker\": {\"colorbar\": {\"outlinewidth\": 0, \"ticks\": \"\"}}, \"type\": \"scatterternary\"}], \"surface\": [{\"colorbar\": {\"outlinewidth\": 0, \"ticks\": \"\"}, \"colorscale\": [[0.0, \"#0d0887\"], [0.1111111111111111, \"#46039f\"], [0.2222222222222222, \"#7201a8\"], [0.3333333333333333, \"#9c179e\"], [0.4444444444444444, \"#bd3786\"], [0.5555555555555556, \"#d8576b\"], [0.6666666666666666, \"#ed7953\"], [0.7777777777777778, \"#fb9f3a\"], [0.8888888888888888, \"#fdca26\"], [1.0, \"#f0f921\"]], \"type\": \"surface\"}], \"table\": [{\"cells\": {\"fill\": {\"color\": \"#EBF0F8\"}, \"line\": {\"color\": \"white\"}}, \"header\": {\"fill\": {\"color\": \"#C8D4E3\"}, \"line\": {\"color\": \"white\"}}, \"type\": \"table\"}]}, \"layout\": {\"annotationdefaults\": {\"arrowcolor\": \"#2a3f5f\", \"arrowhead\": 0, \"arrowwidth\": 1}, \"coloraxis\": {\"colorbar\": {\"outlinewidth\": 0, \"ticks\": \"\"}}, \"colorscale\": {\"diverging\": [[0, \"#8e0152\"], [0.1, \"#c51b7d\"], [0.2, \"#de77ae\"], [0.3, \"#f1b6da\"], [0.4, \"#fde0ef\"], [0.5, \"#f7f7f7\"], [0.6, \"#e6f5d0\"], [0.7, \"#b8e186\"], [0.8, \"#7fbc41\"], [0.9, \"#4d9221\"], [1, \"#276419\"]], \"sequential\": [[0.0, \"#0d0887\"], [0.1111111111111111, \"#46039f\"], [0.2222222222222222, \"#7201a8\"], [0.3333333333333333, \"#9c179e\"], [0.4444444444444444, \"#bd3786\"], [0.5555555555555556, \"#d8576b\"], [0.6666666666666666, \"#ed7953\"], [0.7777777777777778, \"#fb9f3a\"], [0.8888888888888888, \"#fdca26\"], [1.0, \"#f0f921\"]], \"sequentialminus\": [[0.0, \"#0d0887\"], [0.1111111111111111, \"#46039f\"], [0.2222222222222222, \"#7201a8\"], [0.3333333333333333, \"#9c179e\"], [0.4444444444444444, \"#bd3786\"], [0.5555555555555556, \"#d8576b\"], [0.6666666666666666, \"#ed7953\"], [0.7777777777777778, \"#fb9f3a\"], [0.8888888888888888, \"#fdca26\"], [1.0, \"#f0f921\"]]}, \"colorway\": [\"#636efa\", \"#EF553B\", \"#00cc96\", \"#ab63fa\", \"#FFA15A\", \"#19d3f3\", \"#FF6692\", \"#B6E880\", \"#FF97FF\", \"#FECB52\"], \"font\": {\"color\": \"#2a3f5f\"}, \"geo\": {\"bgcolor\": \"white\", \"lakecolor\": \"white\", \"landcolor\": \"#E5ECF6\", \"showlakes\": true, \"showland\": true, \"subunitcolor\": \"white\"}, \"hoverlabel\": {\"align\": \"left\"}, \"hovermode\": \"closest\", \"mapbox\": {\"style\": \"light\"}, \"paper_bgcolor\": \"white\", \"plot_bgcolor\": \"#E5ECF6\", \"polar\": {\"angularaxis\": {\"gridcolor\": \"white\", \"linecolor\": \"white\", \"ticks\": \"\"}, \"bgcolor\": \"#E5ECF6\", \"radialaxis\": {\"gridcolor\": \"white\", \"linecolor\": \"white\", \"ticks\": \"\"}}, \"scene\": {\"xaxis\": {\"backgroundcolor\": \"#E5ECF6\", \"gridcolor\": \"white\", \"gridwidth\": 2, \"linecolor\": \"white\", \"showbackground\": true, \"ticks\": \"\", \"zerolinecolor\": \"white\"}, \"yaxis\": {\"backgroundcolor\": \"#E5ECF6\", \"gridcolor\": \"white\", \"gridwidth\": 2, \"linecolor\": \"white\", \"showbackground\": true, \"ticks\": \"\", \"zerolinecolor\": \"white\"}, \"zaxis\": {\"backgroundcolor\": \"#E5ECF6\", \"gridcolor\": \"white\", \"gridwidth\": 2, \"linecolor\": \"white\", \"showbackground\": true, \"ticks\": \"\", \"zerolinecolor\": \"white\"}}, \"shapedefaults\": {\"line\": {\"color\": \"#2a3f5f\"}}, \"ternary\": {\"aaxis\": {\"gridcolor\": \"white\", \"linecolor\": \"white\", \"ticks\": \"\"}, \"baxis\": {\"gridcolor\": \"white\", \"linecolor\": \"white\", \"ticks\": \"\"}, \"bgcolor\": \"#E5ECF6\", \"caxis\": {\"gridcolor\": \"white\", \"linecolor\": \"white\", \"ticks\": \"\"}}, \"title\": {\"x\": 0.05}, \"xaxis\": {\"automargin\": true, \"gridcolor\": \"white\", \"linecolor\": \"white\", \"ticks\": \"\", \"title\": {\"standoff\": 15}, \"zerolinecolor\": \"white\", \"zerolinewidth\": 2}, \"yaxis\": {\"automargin\": true, \"gridcolor\": \"white\", \"linecolor\": \"white\", \"ticks\": \"\", \"title\": {\"standoff\": 15}, \"zerolinecolor\": \"white\", \"zerolinewidth\": 2}}}, \"width\": 1000, \"xaxis\": {\"anchor\": \"y\", \"domain\": [0.0, 1.0], \"title\": {\"text\": \"year\"}}, \"yaxis\": {\"anchor\": \"x\", \"domain\": [0.0, 1.0], \"title\": {\"text\": \"suicides_no\"}}},\n",
       "                        {\"responsive\": true}\n",
       "                    ).then(function(){\n",
       "                            \n",
       "var gd = document.getElementById('9c13167f-86cf-4b21-844a-8faa6d7b839c');\n",
       "var x = new MutationObserver(function (mutations, observer) {{\n",
       "        var display = window.getComputedStyle(gd).display;\n",
       "        if (!display || display === 'none') {{\n",
       "            console.log([gd, 'removed!']);\n",
       "            Plotly.purge(gd);\n",
       "            observer.disconnect();\n",
       "        }}\n",
       "}});\n",
       "\n",
       "// Listen for the removal of the full notebook cells\n",
       "var notebookContainer = gd.closest('#notebook-container');\n",
       "if (notebookContainer) {{\n",
       "    x.observe(notebookContainer, {childList: true});\n",
       "}}\n",
       "\n",
       "// Listen for the clearing of the current output cell\n",
       "var outputEl = gd.closest('.output');\n",
       "if (outputEl) {{\n",
       "    x.observe(outputEl, {childList: true});\n",
       "}}\n",
       "\n",
       "                        })\n",
       "                };\n",
       "                });\n",
       "            </script>\n",
       "        </div>"
      ]
     },
     "metadata": {},
     "output_type": "display_data"
    }
   ],
   "source": [
    "fig = px.line(agg_data, x=\"year\", y=\"suicides_no\", color=\"age\",\n",
    "                hover_name=\"age\", width=1000, height=800)\n",
    "fig.show()"
   ]
  },
  {
   "cell_type": "code",
   "execution_count": null,
   "metadata": {},
   "outputs": [],
   "source": []
  }
 ],
 "metadata": {
  "kernelspec": {
   "display_name": "Python 3",
   "language": "python",
   "name": "python3"
  },
  "language_info": {
   "codemirror_mode": {
    "name": "ipython",
    "version": 3
   },
   "file_extension": ".py",
   "mimetype": "text/x-python",
   "name": "python",
   "nbconvert_exporter": "python",
   "pygments_lexer": "ipython3",
   "version": "3.7.4"
  }
 },
 "nbformat": 4,
 "nbformat_minor": 4
}
